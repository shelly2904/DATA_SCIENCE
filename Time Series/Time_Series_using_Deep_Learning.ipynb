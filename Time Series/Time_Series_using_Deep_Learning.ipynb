{
  "nbformat": 4,
  "nbformat_minor": 0,
  "metadata": {
    "colab": {
      "name": "Time Series using Deep Learning.ipynb",
      "provenance": [],
      "collapsed_sections": []
    },
    "kernelspec": {
      "name": "python3",
      "display_name": "Python 3"
    },
    "language_info": {
      "name": "python"
    },
    "accelerator": "GPU"
  },
  "cells": [
    {
      "cell_type": "markdown",
      "metadata": {
        "id": "72BJFL7GkGMF"
      },
      "source": [
        "## Time Series Functions for Sequencing"
      ]
    },
    {
      "cell_type": "code",
      "metadata": {
        "id": "VkgsZZNCkCul"
      },
      "source": [
        "import pandas as pd\n",
        "import matplotlib as mpl\n",
        "import matplotlib.pyplot as plt\n",
        "from keras.preprocessing.sequence import TimeseriesGenerator\n",
        "from sklearn.preprocessing import MinMaxScaler, StandardScaler\n",
        "from sklearn.model_selection import train_test_split\n",
        "from IPython.display import Image, display\n",
        "\n",
        "mpl.rcParams['figure.figsize'] = (10,8)\n",
        "mpl.rcParams['axes.grid'] = False"
      ],
      "execution_count": 1,
      "outputs": []
    },
    {
      "cell_type": "code",
      "metadata": {
        "id": "bKoqMVZCkmFQ"
      },
      "source": [
        "df = pd.read_csv('https://archive.ics.uci.edu/ml/machine-learning-databases/00374/energydata_complete.csv')"
      ],
      "execution_count": 2,
      "outputs": []
    },
    {
      "cell_type": "code",
      "metadata": {
        "colab": {
          "base_uri": "https://localhost:8080/"
        },
        "id": "5LF72kNgkmIZ",
        "outputId": "1aaae402-00b5-4282-caf4-2a4543a116b3"
      },
      "source": [
        "df.info()"
      ],
      "execution_count": 3,
      "outputs": [
        {
          "output_type": "stream",
          "text": [
            "<class 'pandas.core.frame.DataFrame'>\n",
            "RangeIndex: 19735 entries, 0 to 19734\n",
            "Data columns (total 29 columns):\n",
            " #   Column       Non-Null Count  Dtype  \n",
            "---  ------       --------------  -----  \n",
            " 0   date         19735 non-null  object \n",
            " 1   Appliances   19735 non-null  int64  \n",
            " 2   lights       19735 non-null  int64  \n",
            " 3   T1           19735 non-null  float64\n",
            " 4   RH_1         19735 non-null  float64\n",
            " 5   T2           19735 non-null  float64\n",
            " 6   RH_2         19735 non-null  float64\n",
            " 7   T3           19735 non-null  float64\n",
            " 8   RH_3         19735 non-null  float64\n",
            " 9   T4           19735 non-null  float64\n",
            " 10  RH_4         19735 non-null  float64\n",
            " 11  T5           19735 non-null  float64\n",
            " 12  RH_5         19735 non-null  float64\n",
            " 13  T6           19735 non-null  float64\n",
            " 14  RH_6         19735 non-null  float64\n",
            " 15  T7           19735 non-null  float64\n",
            " 16  RH_7         19735 non-null  float64\n",
            " 17  T8           19735 non-null  float64\n",
            " 18  RH_8         19735 non-null  float64\n",
            " 19  T9           19735 non-null  float64\n",
            " 20  RH_9         19735 non-null  float64\n",
            " 21  T_out        19735 non-null  float64\n",
            " 22  Press_mm_hg  19735 non-null  float64\n",
            " 23  RH_out       19735 non-null  float64\n",
            " 24  Windspeed    19735 non-null  float64\n",
            " 25  Visibility   19735 non-null  float64\n",
            " 26  Tdewpoint    19735 non-null  float64\n",
            " 27  rv1          19735 non-null  float64\n",
            " 28  rv2          19735 non-null  float64\n",
            "dtypes: float64(26), int64(2), object(1)\n",
            "memory usage: 4.4+ MB\n"
          ],
          "name": "stdout"
        }
      ]
    },
    {
      "cell_type": "code",
      "metadata": {
        "id": "uQoPZjfgkmLV",
        "colab": {
          "base_uri": "https://localhost:8080/",
          "height": 204
        },
        "outputId": "2f12033b-6f1b-49a9-df49-a73e2a9a7e4b"
      },
      "source": [
        "df[['date', 'T_out', 'RH_2', 'Appliances', 'lights']].head(5)"
      ],
      "execution_count": 4,
      "outputs": [
        {
          "output_type": "execute_result",
          "data": {
            "text/html": [
              "<div>\n",
              "<style scoped>\n",
              "    .dataframe tbody tr th:only-of-type {\n",
              "        vertical-align: middle;\n",
              "    }\n",
              "\n",
              "    .dataframe tbody tr th {\n",
              "        vertical-align: top;\n",
              "    }\n",
              "\n",
              "    .dataframe thead th {\n",
              "        text-align: right;\n",
              "    }\n",
              "</style>\n",
              "<table border=\"1\" class=\"dataframe\">\n",
              "  <thead>\n",
              "    <tr style=\"text-align: right;\">\n",
              "      <th></th>\n",
              "      <th>date</th>\n",
              "      <th>T_out</th>\n",
              "      <th>RH_2</th>\n",
              "      <th>Appliances</th>\n",
              "      <th>lights</th>\n",
              "    </tr>\n",
              "  </thead>\n",
              "  <tbody>\n",
              "    <tr>\n",
              "      <th>0</th>\n",
              "      <td>2016-01-11 17:00:00</td>\n",
              "      <td>6.600000</td>\n",
              "      <td>44.790000</td>\n",
              "      <td>60</td>\n",
              "      <td>30</td>\n",
              "    </tr>\n",
              "    <tr>\n",
              "      <th>1</th>\n",
              "      <td>2016-01-11 17:10:00</td>\n",
              "      <td>6.483333</td>\n",
              "      <td>44.722500</td>\n",
              "      <td>60</td>\n",
              "      <td>30</td>\n",
              "    </tr>\n",
              "    <tr>\n",
              "      <th>2</th>\n",
              "      <td>2016-01-11 17:20:00</td>\n",
              "      <td>6.366667</td>\n",
              "      <td>44.626667</td>\n",
              "      <td>50</td>\n",
              "      <td>30</td>\n",
              "    </tr>\n",
              "    <tr>\n",
              "      <th>3</th>\n",
              "      <td>2016-01-11 17:30:00</td>\n",
              "      <td>6.250000</td>\n",
              "      <td>44.590000</td>\n",
              "      <td>50</td>\n",
              "      <td>40</td>\n",
              "    </tr>\n",
              "    <tr>\n",
              "      <th>4</th>\n",
              "      <td>2016-01-11 17:40:00</td>\n",
              "      <td>6.133333</td>\n",
              "      <td>44.530000</td>\n",
              "      <td>60</td>\n",
              "      <td>40</td>\n",
              "    </tr>\n",
              "  </tbody>\n",
              "</table>\n",
              "</div>"
            ],
            "text/plain": [
              "                  date     T_out       RH_2  Appliances  lights\n",
              "0  2016-01-11 17:00:00  6.600000  44.790000          60      30\n",
              "1  2016-01-11 17:10:00  6.483333  44.722500          60      30\n",
              "2  2016-01-11 17:20:00  6.366667  44.626667          50      30\n",
              "3  2016-01-11 17:30:00  6.250000  44.590000          50      40\n",
              "4  2016-01-11 17:40:00  6.133333  44.530000          60      40"
            ]
          },
          "metadata": {
            "tags": []
          },
          "execution_count": 4
        }
      ]
    },
    {
      "cell_type": "code",
      "metadata": {
        "id": "HKqgrUufkmON"
      },
      "source": [
        "df['date'] = pd.to_datetime(df['date'], infer_datetime_format=True)"
      ],
      "execution_count": 5,
      "outputs": []
    },
    {
      "cell_type": "code",
      "metadata": {
        "colab": {
          "base_uri": "https://localhost:8080/",
          "height": 364
        },
        "id": "rqLAgve8Kols",
        "outputId": "6ae4bc64-0c25-4ec7-a690-29e68491afb4"
      },
      "source": [
        "df.set_index('date')[['T_out', 'RH_2', 'Appliances', 'lights']].plot(subplots=True)"
      ],
      "execution_count": 6,
      "outputs": [
        {
          "output_type": "execute_result",
          "data": {
            "text/plain": [
              "array([<matplotlib.axes._subplots.AxesSubplot object at 0x7f47a689e410>,\n",
              "       <matplotlib.axes._subplots.AxesSubplot object at 0x7f47a67f2b90>,\n",
              "       <matplotlib.axes._subplots.AxesSubplot object at 0x7f47a67aef50>,\n",
              "       <matplotlib.axes._subplots.AxesSubplot object at 0x7f47a6773350>],\n",
              "      dtype=object)"
            ]
          },
          "metadata": {
            "tags": []
          },
          "execution_count": 6
        },
        {
          "output_type": "display_data",
          "data": {
            "image/png": "[encoded data removed]",
            "text/plain": [
              "<Figure size 432x288 with 4 Axes>"
            ]
          },
          "metadata": {
            "tags": [],
            "needs_background": "light"
          }
        }
      ]
    },
    {
      "cell_type": "code",
      "metadata": {
        "id": "i_svr8gAkmSj"
      },
      "source": [
        "features = df[['T_out', 'RH_2', 'Appliances', 'lights']].to_numpy().tolist()\n",
        "target = df['Appliances'].tolist()"
      ],
      "execution_count": 7,
      "outputs": []
    },
    {
      "cell_type": "code",
      "metadata": {
        "colab": {
          "base_uri": "https://localhost:8080/"
        },
        "id": "CGnouhqVKhJt",
        "outputId": "3cfeb1fc-bc3e-4824-cb78-6ae0f7f119f1"
      },
      "source": [
        "df.count()"
      ],
      "execution_count": 8,
      "outputs": [
        {
          "output_type": "execute_result",
          "data": {
            "text/plain": [
              "date           19735\n",
              "Appliances     19735\n",
              "lights         19735\n",
              "T1             19735\n",
              "RH_1           19735\n",
              "T2             19735\n",
              "RH_2           19735\n",
              "T3             19735\n",
              "RH_3           19735\n",
              "T4             19735\n",
              "RH_4           19735\n",
              "T5             19735\n",
              "RH_5           19735\n",
              "T6             19735\n",
              "RH_6           19735\n",
              "T7             19735\n",
              "RH_7           19735\n",
              "T8             19735\n",
              "RH_8           19735\n",
              "T9             19735\n",
              "RH_9           19735\n",
              "T_out          19735\n",
              "Press_mm_hg    19735\n",
              "RH_out         19735\n",
              "Windspeed      19735\n",
              "Visibility     19735\n",
              "Tdewpoint      19735\n",
              "rv1            19735\n",
              "rv2            19735\n",
              "dtype: int64"
            ]
          },
          "metadata": {
            "tags": []
          },
          "execution_count": 8
        }
      ]
    },
    {
      "cell_type": "code",
      "metadata": {
        "colab": {
          "base_uri": "https://localhost:8080/"
        },
        "id": "7Brjujy9KhMP",
        "outputId": "172899e5-1390-4dfd-83f8-09414b8cc4de"
      },
      "source": [
        "features[0:11]"
      ],
      "execution_count": 9,
      "outputs": [
        {
          "output_type": "execute_result",
          "data": {
            "text/plain": [
              "[[6.6, 44.79, 60.0, 30.0],\n",
              " [6.48333333333333, 44.7225, 60.0, 30.0],\n",
              " [6.36666666666667, 44.6266666666667, 50.0, 30.0],\n",
              " [6.25, 44.59, 50.0, 40.0],\n",
              " [6.133333333333329, 44.53, 60.0, 40.0],\n",
              " [6.01666666666667, 44.5, 50.0, 40.0],\n",
              " [5.9, 44.5, 60.0, 50.0],\n",
              " [5.91666666666667, 44.5, 60.0, 50.0],\n",
              " [5.93333333333333, 44.4333333333333, 60.0, 40.0],\n",
              " [5.95, 44.4, 70.0, 40.0],\n",
              " [5.96666666666667, 44.4, 230.0, 70.0]]"
            ]
          },
          "metadata": {
            "tags": []
          },
          "execution_count": 9
        }
      ]
    },
    {
      "cell_type": "code",
      "metadata": {
        "colab": {
          "base_uri": "https://localhost:8080/"
        },
        "id": "sJ1WjWsFKhOj",
        "outputId": "a515e98c-23e7-4923-a247-0047a121c7d1"
      },
      "source": [
        "target[0:11]"
      ],
      "execution_count": 10,
      "outputs": [
        {
          "output_type": "execute_result",
          "data": {
            "text/plain": [
              "[60, 60, 50, 50, 60, 50, 60, 60, 60, 70, 230]"
            ]
          },
          "metadata": {
            "tags": []
          },
          "execution_count": 10
        }
      ]
    },
    {
      "cell_type": "code",
      "metadata": {
        "id": "JOqm4hO8KhRZ"
      },
      "source": [
        "ts_generator = TimeseriesGenerator(features, target, length=6, sampling_rate=1, batch_size=1)\n"
      ],
      "execution_count": 11,
      "outputs": []
    },
    {
      "cell_type": "code",
      "metadata": {
        "colab": {
          "base_uri": "https://localhost:8080/"
        },
        "id": "9A_d0v2xKhTz",
        "outputId": "4182694d-0b0f-41de-d73b-7f14ace59c9e"
      },
      "source": [
        "ts_generator[0]"
      ],
      "execution_count": 12,
      "outputs": [
        {
          "output_type": "execute_result",
          "data": {
            "text/plain": [
              "(array([[[ 6.6       , 44.79      , 60.        , 30.        ],\n",
              "         [ 6.48333333, 44.7225    , 60.        , 30.        ],\n",
              "         [ 6.36666667, 44.62666667, 50.        , 30.        ],\n",
              "         [ 6.25      , 44.59      , 50.        , 40.        ],\n",
              "         [ 6.13333333, 44.53      , 60.        , 40.        ],\n",
              "         [ 6.01666667, 44.5       , 50.        , 40.        ]]]), array([60]))"
            ]
          },
          "metadata": {
            "tags": []
          },
          "execution_count": 12
        }
      ]
    },
    {
      "cell_type": "code",
      "metadata": {
        "colab": {
          "base_uri": "https://localhost:8080/"
        },
        "id": "_Tn26qDoKhWd",
        "outputId": "50940ece-30b6-49ed-fdc9-a1eec1dbfedb"
      },
      "source": [
        "len(ts_generator)"
      ],
      "execution_count": 13,
      "outputs": [
        {
          "output_type": "execute_result",
          "data": {
            "text/plain": [
              "19729"
            ]
          },
          "metadata": {
            "tags": []
          },
          "execution_count": 13
        }
      ]
    },
    {
      "cell_type": "code",
      "metadata": {
        "id": "z2rdgQnrNzax"
      },
      "source": [
        "multi_target = pd.concat([df['Appliances'], df['Appliances'].shift(-1), df['Appliances'].shift(-2)], axis=1).dropna().to_numpy().tolist()"
      ],
      "execution_count": 14,
      "outputs": []
    },
    {
      "cell_type": "code",
      "metadata": {
        "colab": {
          "base_uri": "https://localhost:8080/"
        },
        "id": "ASyJlYKZNzd6",
        "outputId": "e9602010-ed0c-4f81-e68f-b9ba12952599"
      },
      "source": [
        "multi_target[0:10]"
      ],
      "execution_count": 15,
      "outputs": [
        {
          "output_type": "execute_result",
          "data": {
            "text/plain": [
              "[[60.0, 60.0, 50.0],\n",
              " [60.0, 50.0, 50.0],\n",
              " [50.0, 50.0, 60.0],\n",
              " [50.0, 60.0, 50.0],\n",
              " [60.0, 50.0, 60.0],\n",
              " [50.0, 60.0, 60.0],\n",
              " [60.0, 60.0, 60.0],\n",
              " [60.0, 60.0, 70.0],\n",
              " [60.0, 70.0, 230.0],\n",
              " [70.0, 230.0, 580.0]]"
            ]
          },
          "metadata": {
            "tags": []
          },
          "execution_count": 15
        }
      ]
    },
    {
      "cell_type": "code",
      "metadata": {
        "id": "DMLBtHuDNzg-"
      },
      "source": [
        "ts_generator = TimeseriesGenerator(features[:-2], multi_target, length=6, sampling_rate=1, batch_size=1, stride=6)"
      ],
      "execution_count": 16,
      "outputs": []
    },
    {
      "cell_type": "markdown",
      "metadata": {
        "id": "d_EK_MXiRV-g"
      },
      "source": [
        "# Deep Learning Model"
      ]
    },
    {
      "cell_type": "markdown",
      "metadata": {
        "id": "WXJprhTW4Ew9"
      },
      "source": [
        "# LSTM:"
      ]
    },
    {
      "cell_type": "code",
      "metadata": {
        "colab": {
          "base_uri": "https://localhost:8080/",
          "height": 381
        },
        "id": "Bjdq2EO9Nzjc",
        "outputId": "2e237a6e-cd9e-4021-a971-0d261c4fc216"
      },
      "source": [
        "df.set_index('date')[['Appliances', 'lights', 'T_out', 'RH_1', 'Visibility']].plot(subplots=True)"
      ],
      "execution_count": 17,
      "outputs": [
        {
          "output_type": "execute_result",
          "data": {
            "text/plain": [
              "array([<matplotlib.axes._subplots.AxesSubplot object at 0x7f47a6924a50>,\n",
              "       <matplotlib.axes._subplots.AxesSubplot object at 0x7f47a43e1490>,\n",
              "       <matplotlib.axes._subplots.AxesSubplot object at 0x7f47a4398850>,\n",
              "       <matplotlib.axes._subplots.AxesSubplot object at 0x7f47a43d0c10>,\n",
              "       <matplotlib.axes._subplots.AxesSubplot object at 0x7f47a437cb10>],\n",
              "      dtype=object)"
            ]
          },
          "metadata": {
            "tags": []
          },
          "execution_count": 17
        },
        {
          "output_type": "display_data",
          "data": {
            "image/png": "[encoded data removed]",
            "text/plain": [
              "<Figure size 432x288 with 5 Axes>"
            ]
          },
          "metadata": {
            "tags": [],
            "needs_background": "light"
          }
        }
      ]
    },
    {
      "cell_type": "code",
      "metadata": {
        "id": "X0s8BFGnNzmO"
      },
      "source": [
        "df_input = df[['Appliances', 'T_out', 'RH_1', 'Visibility']]"
      ],
      "execution_count": 18,
      "outputs": []
    },
    {
      "cell_type": "code",
      "metadata": {
        "colab": {
          "base_uri": "https://localhost:8080/",
          "height": 297
        },
        "id": "XLGfT946Nzov",
        "outputId": "867a1afd-7a53-4271-e535-8ecd620bd434"
      },
      "source": [
        "df_input.describe()"
      ],
      "execution_count": 19,
      "outputs": [
        {
          "output_type": "execute_result",
          "data": {
            "text/html": [
              "<div>\n",
              "<style scoped>\n",
              "    .dataframe tbody tr th:only-of-type {\n",
              "        vertical-align: middle;\n",
              "    }\n",
              "\n",
              "    .dataframe tbody tr th {\n",
              "        vertical-align: top;\n",
              "    }\n",
              "\n",
              "    .dataframe thead th {\n",
              "        text-align: right;\n",
              "    }\n",
              "</style>\n",
              "<table border=\"1\" class=\"dataframe\">\n",
              "  <thead>\n",
              "    <tr style=\"text-align: right;\">\n",
              "      <th></th>\n",
              "      <th>Appliances</th>\n",
              "      <th>T_out</th>\n",
              "      <th>RH_1</th>\n",
              "      <th>Visibility</th>\n",
              "    </tr>\n",
              "  </thead>\n",
              "  <tbody>\n",
              "    <tr>\n",
              "      <th>count</th>\n",
              "      <td>19735.000000</td>\n",
              "      <td>19735.000000</td>\n",
              "      <td>19735.000000</td>\n",
              "      <td>19735.000000</td>\n",
              "    </tr>\n",
              "    <tr>\n",
              "      <th>mean</th>\n",
              "      <td>97.694958</td>\n",
              "      <td>7.411665</td>\n",
              "      <td>40.259739</td>\n",
              "      <td>38.330834</td>\n",
              "    </tr>\n",
              "    <tr>\n",
              "      <th>std</th>\n",
              "      <td>102.524891</td>\n",
              "      <td>5.317409</td>\n",
              "      <td>3.979299</td>\n",
              "      <td>11.794719</td>\n",
              "    </tr>\n",
              "    <tr>\n",
              "      <th>min</th>\n",
              "      <td>10.000000</td>\n",
              "      <td>-5.000000</td>\n",
              "      <td>27.023333</td>\n",
              "      <td>1.000000</td>\n",
              "    </tr>\n",
              "    <tr>\n",
              "      <th>25%</th>\n",
              "      <td>50.000000</td>\n",
              "      <td>3.666667</td>\n",
              "      <td>37.333333</td>\n",
              "      <td>29.000000</td>\n",
              "    </tr>\n",
              "    <tr>\n",
              "      <th>50%</th>\n",
              "      <td>60.000000</td>\n",
              "      <td>6.916667</td>\n",
              "      <td>39.656667</td>\n",
              "      <td>40.000000</td>\n",
              "    </tr>\n",
              "    <tr>\n",
              "      <th>75%</th>\n",
              "      <td>100.000000</td>\n",
              "      <td>10.408333</td>\n",
              "      <td>43.066667</td>\n",
              "      <td>40.000000</td>\n",
              "    </tr>\n",
              "    <tr>\n",
              "      <th>max</th>\n",
              "      <td>1080.000000</td>\n",
              "      <td>26.100000</td>\n",
              "      <td>63.360000</td>\n",
              "      <td>66.000000</td>\n",
              "    </tr>\n",
              "  </tbody>\n",
              "</table>\n",
              "</div>"
            ],
            "text/plain": [
              "         Appliances         T_out          RH_1    Visibility\n",
              "count  19735.000000  19735.000000  19735.000000  19735.000000\n",
              "mean      97.694958      7.411665     40.259739     38.330834\n",
              "std      102.524891      5.317409      3.979299     11.794719\n",
              "min       10.000000     -5.000000     27.023333      1.000000\n",
              "25%       50.000000      3.666667     37.333333     29.000000\n",
              "50%       60.000000      6.916667     39.656667     40.000000\n",
              "75%      100.000000     10.408333     43.066667     40.000000\n",
              "max     1080.000000     26.100000     63.360000     66.000000"
            ]
          },
          "metadata": {
            "tags": []
          },
          "execution_count": 19
        }
      ]
    },
    {
      "cell_type": "code",
      "metadata": {
        "colab": {
          "base_uri": "https://localhost:8080/",
          "height": 419
        },
        "id": "1RNdvl45Nzrx",
        "outputId": "02a70c1c-f602-44ad-de7a-e0d2e30c4777"
      },
      "source": [
        "df_input.query(\"Appliances > 500\")"
      ],
      "execution_count": 20,
      "outputs": [
        {
          "output_type": "execute_result",
          "data": {
            "text/html": [
              "<div>\n",
              "<style scoped>\n",
              "    .dataframe tbody tr th:only-of-type {\n",
              "        vertical-align: middle;\n",
              "    }\n",
              "\n",
              "    .dataframe tbody tr th {\n",
              "        vertical-align: top;\n",
              "    }\n",
              "\n",
              "    .dataframe thead th {\n",
              "        text-align: right;\n",
              "    }\n",
              "</style>\n",
              "<table border=\"1\" class=\"dataframe\">\n",
              "  <thead>\n",
              "    <tr style=\"text-align: right;\">\n",
              "      <th></th>\n",
              "      <th>Appliances</th>\n",
              "      <th>T_out</th>\n",
              "      <th>RH_1</th>\n",
              "      <th>Visibility</th>\n",
              "    </tr>\n",
              "  </thead>\n",
              "  <tbody>\n",
              "    <tr>\n",
              "      <th>11</th>\n",
              "      <td>580</td>\n",
              "      <td>5.983333</td>\n",
              "      <td>46.396667</td>\n",
              "      <td>40.000000</td>\n",
              "    </tr>\n",
              "    <tr>\n",
              "      <th>314</th>\n",
              "      <td>520</td>\n",
              "      <td>2.900000</td>\n",
              "      <td>41.530000</td>\n",
              "      <td>36.333333</td>\n",
              "    </tr>\n",
              "    <tr>\n",
              "      <th>392</th>\n",
              "      <td>550</td>\n",
              "      <td>2.033333</td>\n",
              "      <td>43.433333</td>\n",
              "      <td>40.000000</td>\n",
              "    </tr>\n",
              "    <tr>\n",
              "      <th>393</th>\n",
              "      <td>690</td>\n",
              "      <td>2.100000</td>\n",
              "      <td>43.766667</td>\n",
              "      <td>40.000000</td>\n",
              "    </tr>\n",
              "    <tr>\n",
              "      <th>394</th>\n",
              "      <td>620</td>\n",
              "      <td>2.166667</td>\n",
              "      <td>43.693333</td>\n",
              "      <td>40.000000</td>\n",
              "    </tr>\n",
              "    <tr>\n",
              "      <th>...</th>\n",
              "      <td>...</td>\n",
              "      <td>...</td>\n",
              "      <td>...</td>\n",
              "      <td>...</td>\n",
              "    </tr>\n",
              "    <tr>\n",
              "      <th>19586</th>\n",
              "      <td>600</td>\n",
              "      <td>20.833333</td>\n",
              "      <td>44.066667</td>\n",
              "      <td>40.000000</td>\n",
              "    </tr>\n",
              "    <tr>\n",
              "      <th>19587</th>\n",
              "      <td>520</td>\n",
              "      <td>20.900000</td>\n",
              "      <td>43.366667</td>\n",
              "      <td>40.000000</td>\n",
              "    </tr>\n",
              "    <tr>\n",
              "      <th>19684</th>\n",
              "      <td>580</td>\n",
              "      <td>15.900000</td>\n",
              "      <td>47.226667</td>\n",
              "      <td>61.000000</td>\n",
              "    </tr>\n",
              "    <tr>\n",
              "      <th>19685</th>\n",
              "      <td>660</td>\n",
              "      <td>16.100000</td>\n",
              "      <td>47.693333</td>\n",
              "      <td>61.000000</td>\n",
              "    </tr>\n",
              "    <tr>\n",
              "      <th>19695</th>\n",
              "      <td>620</td>\n",
              "      <td>19.100000</td>\n",
              "      <td>48.326667</td>\n",
              "      <td>64.000000</td>\n",
              "    </tr>\n",
              "  </tbody>\n",
              "</table>\n",
              "<p>288 rows × 4 columns</p>\n",
              "</div>"
            ],
            "text/plain": [
              "       Appliances      T_out       RH_1  Visibility\n",
              "11            580   5.983333  46.396667   40.000000\n",
              "314           520   2.900000  41.530000   36.333333\n",
              "392           550   2.033333  43.433333   40.000000\n",
              "393           690   2.100000  43.766667   40.000000\n",
              "394           620   2.166667  43.693333   40.000000\n",
              "...           ...        ...        ...         ...\n",
              "19586         600  20.833333  44.066667   40.000000\n",
              "19587         520  20.900000  43.366667   40.000000\n",
              "19684         580  15.900000  47.226667   61.000000\n",
              "19685         660  16.100000  47.693333   61.000000\n",
              "19695         620  19.100000  48.326667   64.000000\n",
              "\n",
              "[288 rows x 4 columns]"
            ]
          },
          "metadata": {
            "tags": []
          },
          "execution_count": 20
        }
      ]
    },
    {
      "cell_type": "code",
      "metadata": {
        "id": "6lUyAGZdNzzM"
      },
      "source": [
        "scaler = MinMaxScaler()\n",
        "data_scaled = scaler.fit_transform(df_input)"
      ],
      "execution_count": 21,
      "outputs": []
    },
    {
      "cell_type": "markdown",
      "metadata": {
        "id": "3rSzposGTYB0"
      },
      "source": [
        "Best Practice is to apply scaler on train data and then apply on test/cv data"
      ]
    },
    {
      "cell_type": "code",
      "metadata": {
        "id": "-AzjwrPXNz2W"
      },
      "source": [
        "features=  data_scaled\n",
        "target=data_scaled[:,0]"
      ],
      "execution_count": 22,
      "outputs": []
    },
    {
      "cell_type": "code",
      "metadata": {
        "id": "xVMjbiEQNz5B"
      },
      "source": [
        "x_train, x_test, y_train, y_test = train_test_split(features, target, test_size=0.20, random_state=123, shuffle=False)"
      ],
      "execution_count": 23,
      "outputs": []
    },
    {
      "cell_type": "code",
      "metadata": {
        "id": "_SMMk0-JNz8p"
      },
      "source": [
        "win_length=720\n",
        "batch_size=32\n",
        "num_features=4\n",
        "train_generator = TimeseriesGenerator(x_train, y_train, length=win_length, sampling_rate=1, batch_size=batch_size)\n",
        "test_generator = TimeseriesGenerator(x_test, y_test, length=win_length, sampling_rate=1, batch_size=batch_size)\n"
      ],
      "execution_count": 24,
      "outputs": []
    },
    {
      "cell_type": "code",
      "metadata": {
        "id": "Vp-6MLJpU5IU"
      },
      "source": [
        "import tensorflow as tf"
      ],
      "execution_count": 25,
      "outputs": []
    },
    {
      "cell_type": "code",
      "metadata": {
        "id": "IWJttxDzNz-j"
      },
      "source": [
        "model = tf.keras.Sequential()\n",
        "model.add(tf.keras.layers.LSTM(128, input_shape=(win_length, num_features), return_sequences=True))\n",
        "model.add(tf.keras.layers.LeakyReLU(alpha=0.5))\n",
        "model.add(tf.keras.layers.LSTM(128, return_sequences=True))\n",
        "model.add(tf.keras.layers.LeakyReLU(alpha=0.5))\n",
        "model.add(tf.keras.layers.Dropout(0.3))\n",
        "model.add(tf.keras.layers.LSTM(64, return_sequences=False))\n",
        "model.add(tf.keras.layers.Dropout(0.3))\n",
        "model.add(tf.keras.layers.Dense(1))"
      ],
      "execution_count": 26,
      "outputs": []
    },
    {
      "cell_type": "code",
      "metadata": {
        "colab": {
          "base_uri": "https://localhost:8080/"
        },
        "id": "Vk_-JeWiN0Bg",
        "outputId": "7a04a035-d3d8-45fa-dd8d-8e3a6a5a5b0d"
      },
      "source": [
        "model.summary()"
      ],
      "execution_count": 27,
      "outputs": [
        {
          "output_type": "stream",
          "text": [
            "Model: \"sequential\"\n",
            "_________________________________________________________________\n",
            "Layer (type)                 Output Shape              Param #   \n",
            "=================================================================\n",
            "lstm (LSTM)                  (None, 720, 128)          68096     \n",
            "_________________________________________________________________\n",
            "leaky_re_lu (LeakyReLU)      (None, 720, 128)          0         \n",
            "_________________________________________________________________\n",
            "lstm_1 (LSTM)                (None, 720, 128)          131584    \n",
            "_________________________________________________________________\n",
            "leaky_re_lu_1 (LeakyReLU)    (None, 720, 128)          0         \n",
            "_________________________________________________________________\n",
            "dropout (Dropout)            (None, 720, 128)          0         \n",
            "_________________________________________________________________\n",
            "lstm_2 (LSTM)                (None, 64)                49408     \n",
            "_________________________________________________________________\n",
            "dropout_1 (Dropout)          (None, 64)                0         \n",
            "_________________________________________________________________\n",
            "dense (Dense)                (None, 1)                 65        \n",
            "=================================================================\n",
            "Total params: 249,153\n",
            "Trainable params: 249,153\n",
            "Non-trainable params: 0\n",
            "_________________________________________________________________\n"
          ],
          "name": "stdout"
        }
      ]
    },
    {
      "cell_type": "code",
      "metadata": {
        "colab": {
          "base_uri": "https://localhost:8080/"
        },
        "id": "OgGXx2sCN0D0",
        "outputId": "d955a115-9899-407a-8ac8-318362107c00"
      },
      "source": [
        "early_stopping = tf.keras.callbacks.EarlyStopping(monitor='val_loss',\n",
        "                                                  patience=2,\n",
        "                                                  mode='min')\n",
        "\n",
        "model.compile(loss=tf.losses.MeanSquaredError(),\n",
        "              optimizer = tf.optimizers.Adam(),\n",
        "              metrics=[tf.metrics.MeanAbsoluteError()])\n",
        "\n",
        "history = model.fit_generator(train_generator, epochs=50, validation_data=test_generator,\n",
        "                              shuffle=False,\n",
        "                              callbacks=[early_stopping])"
      ],
      "execution_count": null,
      "outputs": [
        {
          "output_type": "stream",
          "text": [
            "/usr/local/lib/python3.7/dist-packages/tensorflow/python/keras/engine/training.py:1844: UserWarning: `Model.fit_generator` is deprecated and will be removed in a future version. Please use `Model.fit`, which supports generators.\n",
            "  warnings.warn('`Model.fit_generator` is deprecated and '\n"
          ],
          "name": "stderr"
        },
        {
          "output_type": "stream",
          "text": [
            "Epoch 1/50\n",
            "471/471 [==============================] - 189s 331ms/step - loss: 0.0120 - mean_absolute_error: 0.0635 - val_loss: 0.0061 - val_mean_absolute_error: 0.0553\n",
            "Epoch 2/50\n",
            "471/471 [==============================] - 155s 328ms/step - loss: 0.0087 - mean_absolute_error: 0.0504 - val_loss: 0.0048 - val_mean_absolute_error: 0.0434\n",
            "Epoch 3/50\n",
            "471/471 [==============================] - 155s 329ms/step - loss: 0.0063 - mean_absolute_error: 0.0411 - val_loss: 0.0037 - val_mean_absolute_error: 0.0387\n",
            "Epoch 4/50\n",
            "471/471 [==============================] - 153s 326ms/step - loss: 0.0049 - mean_absolute_error: 0.0354 - val_loss: 0.0032 - val_mean_absolute_error: 0.0285\n",
            "Epoch 5/50\n",
            "130/471 [=======>......................] - ETA: 1:43 - loss: 0.0056 - mean_absolute_error: 0.0378"
          ],
          "name": "stdout"
        }
      ]
    },
    {
      "cell_type": "code",
      "metadata": {
        "id": "SA6C9Fm3WYUs"
      },
      "source": [
        "model.evaluate_generator(test_generator, verbose=0)"
      ],
      "execution_count": null,
      "outputs": []
    },
    {
      "cell_type": "code",
      "metadata": {
        "id": "IJy3DfdtWYXn"
      },
      "source": [
        "predictions = model.predict_generator(test_generator)"
      ],
      "execution_count": null,
      "outputs": []
    },
    {
      "cell_type": "code",
      "metadata": {
        "id": "oMADGqoLWYaX"
      },
      "source": [
        "predictions.shape[0]"
      ],
      "execution_count": null,
      "outputs": []
    },
    {
      "cell_type": "code",
      "metadata": {
        "id": "a4o4YMyyWYd7"
      },
      "source": [
        "df_pred = pd.concat([pd.DataFrame(predictions), pd.DataFrame(x_test[:,1:][win_length])], axis=1)"
      ],
      "execution_count": null,
      "outputs": []
    },
    {
      "cell_type": "code",
      "metadata": {
        "id": "Gmb9cLPqoZUr"
      },
      "source": [
        "rev_trans = scaler.inverse_transform(df_pred)"
      ],
      "execution_count": null,
      "outputs": []
    },
    {
      "cell_type": "code",
      "metadata": {
        "id": "IoVZe9YwoZYj"
      },
      "source": [
        "df_final = df_input[predictions.shape[0]*-1:]"
      ],
      "execution_count": null,
      "outputs": []
    },
    {
      "cell_type": "code",
      "metadata": {
        "id": "s2xYq-tGoZbg"
      },
      "source": [
        "df_final['App_Pred'] = rev_trans[:,0]"
      ],
      "execution_count": null,
      "outputs": []
    },
    {
      "cell_type": "code",
      "metadata": {
        "id": "yhS5l0wE3vRt"
      },
      "source": [
        "df_final[['Appliances', 'App_Pred']].plot()"
      ],
      "execution_count": null,
      "outputs": []
    },
    {
      "cell_type": "code",
      "metadata": {
        "id": "y0VhMrVT4rAF"
      },
      "source": [
        ""
      ],
      "execution_count": null,
      "outputs": []
    },
    {
      "cell_type": "markdown",
      "metadata": {
        "id": "GSKU6yo64rlj"
      },
      "source": [
        "# Deep Autoregressive: \n",
        "\n",
        "uses RNN for multiple time series scenario. \n",
        "\n",
        "Magnitude of time series changes vastly. Develops one single global model."
      ]
    },
    {
      "cell_type": "code",
      "metadata": {
        "id": "tEtSdMAG5A-1"
      },
      "source": [
        "!pip install --upgrade mxnet-cu101==1.6.0.post0\n",
        "!pip install glutonts"
      ],
      "execution_count": null,
      "outputs": []
    },
    {
      "cell_type": "code",
      "metadata": {
        "id": "fyo_yo4c5BBS"
      },
      "source": [
        ""
      ],
      "execution_count": null,
      "outputs": []
    },
    {
      "cell_type": "code",
      "metadata": {
        "id": "z2j4n4Ty5BD1"
      },
      "source": [
        ""
      ],
      "execution_count": null,
      "outputs": []
    },
    {
      "cell_type": "code",
      "metadata": {
        "id": "mgtX6lse5BG4"
      },
      "source": [
        ""
      ],
      "execution_count": null,
      "outputs": []
    }
  ]
}