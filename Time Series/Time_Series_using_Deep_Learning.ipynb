{
  "nbformat": 4,
  "nbformat_minor": 0,
  "metadata": {
    "colab": {
      "name": "Time Series using Deep Learning.ipynb",
      "provenance": [],
      "collapsed_sections": []
    },
    "kernelspec": {
      "name": "python3",
      "display_name": "Python 3"
    },
    "language_info": {
      "name": "python"
    }
  },
  "cells": [
    {
      "cell_type": "markdown",
      "metadata": {
        "id": "72BJFL7GkGMF"
      },
      "source": [
        "## Time Series Functions for Sequencing"
      ]
    },
    {
      "cell_type": "code",
      "metadata": {
        "id": "VkgsZZNCkCul"
      },
      "source": [
        "import pandas as pd\n",
        "import matplotlib as mpl\n",
        "import matplotlib.pyplot as plt\n",
        "from keras.preprocessing.sequence import TimeseriesGenerator\n",
        "from IPython.display import Image, display\n",
        "\n",
        "mpl.rcParams['figure.figsize'] = (10,8)\n",
        "mpl.rcParams['axes.grid'] = False"
      ],
      "execution_count": 2,
      "outputs": []
    },
    {
      "cell_type": "code",
      "metadata": {
        "id": "bKoqMVZCkmFQ"
      },
      "source": [
        "df = pd.read_csv('https://archive.ics.uci.edu/ml/machine-learning-databases/00374/energydata_complete.csv')"
      ],
      "execution_count": 3,
      "outputs": []
    },
    {
      "cell_type": "code",
      "metadata": {
        "colab": {
          "base_uri": "https://localhost:8080/"
        },
        "id": "5LF72kNgkmIZ",
        "outputId": "132ac81a-e2b7-4f25-c7ec-77c9422d55c5"
      },
      "source": [
        "df.info()"
      ],
      "execution_count": 4,
      "outputs": [
        {
          "output_type": "stream",
          "text": [
            "<class 'pandas.core.frame.DataFrame'>\n",
            "RangeIndex: 19735 entries, 0 to 19734\n",
            "Data columns (total 29 columns):\n",
            " #   Column       Non-Null Count  Dtype  \n",
            "---  ------       --------------  -----  \n",
            " 0   date         19735 non-null  object \n",
            " 1   Appliances   19735 non-null  int64  \n",
            " 2   lights       19735 non-null  int64  \n",
            " 3   T1           19735 non-null  float64\n",
            " 4   RH_1         19735 non-null  float64\n",
            " 5   T2           19735 non-null  float64\n",
            " 6   RH_2         19735 non-null  float64\n",
            " 7   T3           19735 non-null  float64\n",
            " 8   RH_3         19735 non-null  float64\n",
            " 9   T4           19735 non-null  float64\n",
            " 10  RH_4         19735 non-null  float64\n",
            " 11  T5           19735 non-null  float64\n",
            " 12  RH_5         19735 non-null  float64\n",
            " 13  T6           19735 non-null  float64\n",
            " 14  RH_6         19735 non-null  float64\n",
            " 15  T7           19735 non-null  float64\n",
            " 16  RH_7         19735 non-null  float64\n",
            " 17  T8           19735 non-null  float64\n",
            " 18  RH_8         19735 non-null  float64\n",
            " 19  T9           19735 non-null  float64\n",
            " 20  RH_9         19735 non-null  float64\n",
            " 21  T_out        19735 non-null  float64\n",
            " 22  Press_mm_hg  19735 non-null  float64\n",
            " 23  RH_out       19735 non-null  float64\n",
            " 24  Windspeed    19735 non-null  float64\n",
            " 25  Visibility   19735 non-null  float64\n",
            " 26  Tdewpoint    19735 non-null  float64\n",
            " 27  rv1          19735 non-null  float64\n",
            " 28  rv2          19735 non-null  float64\n",
            "dtypes: float64(26), int64(2), object(1)\n",
            "memory usage: 4.4+ MB\n"
          ],
          "name": "stdout"
        }
      ]
    },
    {
      "cell_type": "code",
      "metadata": {
        "id": "uQoPZjfgkmLV",
        "colab": {
          "base_uri": "https://localhost:8080/",
          "height": 204
        },
        "outputId": "50fbfc3f-b998-4aeb-8b28-9fcc7e14eae7"
      },
      "source": [
        "df[['date', 'T_out', 'RH_2', 'Appliances', 'lights']].head(5)"
      ],
      "execution_count": 6,
      "outputs": [
        {
          "output_type": "execute_result",
          "data": {
            "text/html": [
              "<div>\n",
              "<style scoped>\n",
              "    .dataframe tbody tr th:only-of-type {\n",
              "        vertical-align: middle;\n",
              "    }\n",
              "\n",
              "    .dataframe tbody tr th {\n",
              "        vertical-align: top;\n",
              "    }\n",
              "\n",
              "    .dataframe thead th {\n",
              "        text-align: right;\n",
              "    }\n",
              "</style>\n",
              "<table border=\"1\" class=\"dataframe\">\n",
              "  <thead>\n",
              "    <tr style=\"text-align: right;\">\n",
              "      <th></th>\n",
              "      <th>date</th>\n",
              "      <th>T_out</th>\n",
              "      <th>RH_2</th>\n",
              "      <th>Appliances</th>\n",
              "      <th>lights</th>\n",
              "    </tr>\n",
              "  </thead>\n",
              "  <tbody>\n",
              "    <tr>\n",
              "      <th>0</th>\n",
              "      <td>2016-01-11 17:00:00</td>\n",
              "      <td>6.600000</td>\n",
              "      <td>44.790000</td>\n",
              "      <td>60</td>\n",
              "      <td>30</td>\n",
              "    </tr>\n",
              "    <tr>\n",
              "      <th>1</th>\n",
              "      <td>2016-01-11 17:10:00</td>\n",
              "      <td>6.483333</td>\n",
              "      <td>44.722500</td>\n",
              "      <td>60</td>\n",
              "      <td>30</td>\n",
              "    </tr>\n",
              "    <tr>\n",
              "      <th>2</th>\n",
              "      <td>2016-01-11 17:20:00</td>\n",
              "      <td>6.366667</td>\n",
              "      <td>44.626667</td>\n",
              "      <td>50</td>\n",
              "      <td>30</td>\n",
              "    </tr>\n",
              "    <tr>\n",
              "      <th>3</th>\n",
              "      <td>2016-01-11 17:30:00</td>\n",
              "      <td>6.250000</td>\n",
              "      <td>44.590000</td>\n",
              "      <td>50</td>\n",
              "      <td>40</td>\n",
              "    </tr>\n",
              "    <tr>\n",
              "      <th>4</th>\n",
              "      <td>2016-01-11 17:40:00</td>\n",
              "      <td>6.133333</td>\n",
              "      <td>44.530000</td>\n",
              "      <td>60</td>\n",
              "      <td>40</td>\n",
              "    </tr>\n",
              "  </tbody>\n",
              "</table>\n",
              "</div>"
            ],
            "text/plain": [
              "                  date     T_out       RH_2  Appliances  lights\n",
              "0  2016-01-11 17:00:00  6.600000  44.790000          60      30\n",
              "1  2016-01-11 17:10:00  6.483333  44.722500          60      30\n",
              "2  2016-01-11 17:20:00  6.366667  44.626667          50      30\n",
              "3  2016-01-11 17:30:00  6.250000  44.590000          50      40\n",
              "4  2016-01-11 17:40:00  6.133333  44.530000          60      40"
            ]
          },
          "metadata": {
            "tags": []
          },
          "execution_count": 6
        }
      ]
    },
    {
      "cell_type": "code",
      "metadata": {
        "id": "HKqgrUufkmON"
      },
      "source": [
        "df['date'] = pd.to_datetime(df['date'], infer_datetime_format=True)"
      ],
      "execution_count": 7,
      "outputs": []
    },
    {
      "cell_type": "code",
      "metadata": {
        "colab": {
          "base_uri": "https://localhost:8080/",
          "height": 560
        },
        "id": "rqLAgve8Kols",
        "outputId": "edd53306-7f19-4706-e25a-880137373878"
      },
      "source": [
        "df.set_index('date')[['T_out', 'RH_2', 'Appliances', 'lights']].plot(subplots=True)"
      ],
      "execution_count": 10,
      "outputs": [
        {
          "output_type": "execute_result",
          "data": {
            "text/plain": [
              "array([<matplotlib.axes._subplots.AxesSubplot object at 0x7fda4775a610>,\n",
              "       <matplotlib.axes._subplots.AxesSubplot object at 0x7fda47221c50>,\n",
              "       <matplotlib.axes._subplots.AxesSubplot object at 0x7fda471e8050>,\n",
              "       <matplotlib.axes._subplots.AxesSubplot object at 0x7fda471a43d0>],\n",
              "      dtype=object)"
            ]
          },
          "metadata": {
            "tags": []
          },
          "execution_count": 10
        },
        {
          "output_type": "display_data",
          "data": {
            "image/png": "[encoded data removed]",
            "text/plain": [
              "<Figure size 720x576 with 4 Axes>"
            ]
          },
          "metadata": {
            "tags": [],
            "needs_background": "light"
          }
        }
      ]
    },
    {
      "cell_type": "code",
      "metadata": {
        "id": "i_svr8gAkmSj"
      },
      "source": [
        "features = df[['T_out', 'RH_2', 'Appliances', 'lights']].to_numpy().tolist()\n",
        "target = df['Appliances'].tolist()"
      ],
      "execution_count": 11,
      "outputs": []
    },
    {
      "cell_type": "code",
      "metadata": {
        "colab": {
          "base_uri": "https://localhost:8080/"
        },
        "id": "CGnouhqVKhJt",
        "outputId": "eae8cf7a-13d5-4a47-9e6e-d3cb5199da64"
      },
      "source": [
        "df.count()"
      ],
      "execution_count": 12,
      "outputs": [
        {
          "output_type": "execute_result",
          "data": {
            "text/plain": [
              "date           19735\n",
              "Appliances     19735\n",
              "lights         19735\n",
              "T1             19735\n",
              "RH_1           19735\n",
              "T2             19735\n",
              "RH_2           19735\n",
              "T3             19735\n",
              "RH_3           19735\n",
              "T4             19735\n",
              "RH_4           19735\n",
              "T5             19735\n",
              "RH_5           19735\n",
              "T6             19735\n",
              "RH_6           19735\n",
              "T7             19735\n",
              "RH_7           19735\n",
              "T8             19735\n",
              "RH_8           19735\n",
              "T9             19735\n",
              "RH_9           19735\n",
              "T_out          19735\n",
              "Press_mm_hg    19735\n",
              "RH_out         19735\n",
              "Windspeed      19735\n",
              "Visibility     19735\n",
              "Tdewpoint      19735\n",
              "rv1            19735\n",
              "rv2            19735\n",
              "dtype: int64"
            ]
          },
          "metadata": {
            "tags": []
          },
          "execution_count": 12
        }
      ]
    },
    {
      "cell_type": "code",
      "metadata": {
        "colab": {
          "base_uri": "https://localhost:8080/"
        },
        "id": "7Brjujy9KhMP",
        "outputId": "6f1e2ea1-7cde-4909-c234-d2429c17c820"
      },
      "source": [
        "features[0:11]"
      ],
      "execution_count": 13,
      "outputs": [
        {
          "output_type": "execute_result",
          "data": {
            "text/plain": [
              "[[6.6, 44.79, 60.0, 30.0],\n",
              " [6.48333333333333, 44.7225, 60.0, 30.0],\n",
              " [6.36666666666667, 44.6266666666667, 50.0, 30.0],\n",
              " [6.25, 44.59, 50.0, 40.0],\n",
              " [6.133333333333329, 44.53, 60.0, 40.0],\n",
              " [6.01666666666667, 44.5, 50.0, 40.0],\n",
              " [5.9, 44.5, 60.0, 50.0],\n",
              " [5.91666666666667, 44.5, 60.0, 50.0],\n",
              " [5.93333333333333, 44.4333333333333, 60.0, 40.0],\n",
              " [5.95, 44.4, 70.0, 40.0],\n",
              " [5.96666666666667, 44.4, 230.0, 70.0]]"
            ]
          },
          "metadata": {
            "tags": []
          },
          "execution_count": 13
        }
      ]
    },
    {
      "cell_type": "code",
      "metadata": {
        "colab": {
          "base_uri": "https://localhost:8080/"
        },
        "id": "sJ1WjWsFKhOj",
        "outputId": "1910bff6-59ba-49b6-b9e2-e967dc1357f5"
      },
      "source": [
        "target[0:11]"
      ],
      "execution_count": 14,
      "outputs": [
        {
          "output_type": "execute_result",
          "data": {
            "text/plain": [
              "[60, 60, 50, 50, 60, 50, 60, 60, 60, 70, 230]"
            ]
          },
          "metadata": {
            "tags": []
          },
          "execution_count": 14
        }
      ]
    },
    {
      "cell_type": "code",
      "metadata": {
        "id": "JOqm4hO8KhRZ"
      },
      "source": [
        "ts_generator = TimeseriesGenerator(features, target, length=6, sampling_rate=1, batch_size=1)\n"
      ],
      "execution_count": 15,
      "outputs": []
    },
    {
      "cell_type": "code",
      "metadata": {
        "colab": {
          "base_uri": "https://localhost:8080/"
        },
        "id": "9A_d0v2xKhTz",
        "outputId": "b0db8aef-798f-49c0-813f-ef7c8400db7f"
      },
      "source": [
        "ts_generator[0]"
      ],
      "execution_count": 16,
      "outputs": [
        {
          "output_type": "execute_result",
          "data": {
            "text/plain": [
              "(array([[[ 6.6       , 44.79      , 60.        , 30.        ],\n",
              "         [ 6.48333333, 44.7225    , 60.        , 30.        ],\n",
              "         [ 6.36666667, 44.62666667, 50.        , 30.        ],\n",
              "         [ 6.25      , 44.59      , 50.        , 40.        ],\n",
              "         [ 6.13333333, 44.53      , 60.        , 40.        ],\n",
              "         [ 6.01666667, 44.5       , 50.        , 40.        ]]]), array([60]))"
            ]
          },
          "metadata": {
            "tags": []
          },
          "execution_count": 16
        }
      ]
    },
    {
      "cell_type": "code",
      "metadata": {
        "colab": {
          "base_uri": "https://localhost:8080/"
        },
        "id": "_Tn26qDoKhWd",
        "outputId": "67af53d5-8d36-418e-df08-652db3258ffb"
      },
      "source": [
        "len(ts_generator)"
      ],
      "execution_count": 17,
      "outputs": [
        {
          "output_type": "execute_result",
          "data": {
            "text/plain": [
              "19729"
            ]
          },
          "metadata": {
            "tags": []
          },
          "execution_count": 17
        }
      ]
    },
    {
      "cell_type": "code",
      "metadata": {
        "id": "z2rdgQnrNzax"
      },
      "source": [
        "multi_target = pd.concat([df['Appliances'], df['Appliances'].shift(-1), df['Appliances'].shift(-2)], axis=1).dropna().to_numpy().tolist()"
      ],
      "execution_count": 18,
      "outputs": []
    },
    {
      "cell_type": "code",
      "metadata": {
        "colab": {
          "base_uri": "https://localhost:8080/"
        },
        "id": "ASyJlYKZNzd6",
        "outputId": "afa53a01-0dbc-44e0-df0b-92bcacd2c3f5"
      },
      "source": [
        "multi_target[0:10]"
      ],
      "execution_count": 19,
      "outputs": [
        {
          "output_type": "execute_result",
          "data": {
            "text/plain": [
              "[[60.0, 60.0, 50.0],\n",
              " [60.0, 50.0, 50.0],\n",
              " [50.0, 50.0, 60.0],\n",
              " [50.0, 60.0, 50.0],\n",
              " [60.0, 50.0, 60.0],\n",
              " [50.0, 60.0, 60.0],\n",
              " [60.0, 60.0, 60.0],\n",
              " [60.0, 60.0, 70.0],\n",
              " [60.0, 70.0, 230.0],\n",
              " [70.0, 230.0, 580.0]]"
            ]
          },
          "metadata": {
            "tags": []
          },
          "execution_count": 19
        }
      ]
    },
    {
      "cell_type": "code",
      "metadata": {
        "id": "DMLBtHuDNzg-"
      },
      "source": [
        "ts_generator = TimeseriesGenerator(features[:-2], multi_target, length=6, sampling_rate=1, batch_size=1, stride=6)"
      ],
      "execution_count": 20,
      "outputs": []
    },
    {
      "cell_type": "code",
      "metadata": {
        "id": "Bjdq2EO9Nzjc"
      },
      "source": [
        ""
      ],
      "execution_count": null,
      "outputs": []
    },
    {
      "cell_type": "code",
      "metadata": {
        "id": "X0s8BFGnNzmO"
      },
      "source": [
        ""
      ],
      "execution_count": null,
      "outputs": []
    },
    {
      "cell_type": "code",
      "metadata": {
        "id": "XLGfT946Nzov"
      },
      "source": [
        ""
      ],
      "execution_count": null,
      "outputs": []
    },
    {
      "cell_type": "code",
      "metadata": {
        "id": "1RNdvl45Nzrx"
      },
      "source": [
        ""
      ],
      "execution_count": null,
      "outputs": []
    },
    {
      "cell_type": "code",
      "metadata": {
        "id": "6lUyAGZdNzzM"
      },
      "source": [
        ""
      ],
      "execution_count": null,
      "outputs": []
    },
    {
      "cell_type": "code",
      "metadata": {
        "id": "-AzjwrPXNz2W"
      },
      "source": [
        ""
      ],
      "execution_count": null,
      "outputs": []
    },
    {
      "cell_type": "code",
      "metadata": {
        "id": "xVMjbiEQNz5B"
      },
      "source": [
        ""
      ],
      "execution_count": null,
      "outputs": []
    },
    {
      "cell_type": "code",
      "metadata": {
        "id": "_SMMk0-JNz8p"
      },
      "source": [
        ""
      ],
      "execution_count": null,
      "outputs": []
    },
    {
      "cell_type": "code",
      "metadata": {
        "id": "IWJttxDzNz-j"
      },
      "source": [
        ""
      ],
      "execution_count": null,
      "outputs": []
    },
    {
      "cell_type": "code",
      "metadata": {
        "id": "Vk_-JeWiN0Bg"
      },
      "source": [
        ""
      ],
      "execution_count": null,
      "outputs": []
    },
    {
      "cell_type": "code",
      "metadata": {
        "id": "OgGXx2sCN0D0"
      },
      "source": [
        ""
      ],
      "execution_count": null,
      "outputs": []
    }
  ]
}