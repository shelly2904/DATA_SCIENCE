{
  "nbformat": 4,
  "nbformat_minor": 0,
  "metadata": {
    "colab": {
      "name": "Scaling Time Series with Apache Spark.ipynb",
      "provenance": [],
      "collapsed_sections": []
    },
    "kernelspec": {
      "name": "python3",
      "display_name": "Python 3"
    },
    "language_info": {
      "name": "python"
    }
  },
  "cells": [
    {
      "cell_type": "code",
      "metadata": {
        "id": "1kvxTk7zOUuX"
      },
      "source": [
        "!apt-get install --fix-missing -y openjdk-11-jdk-headless -qq > /dev/null"
      ],
      "execution_count": 41,
      "outputs": []
    },
    {
      "cell_type": "code",
      "metadata": {
        "id": "gLlkJUMzWLl7"
      },
      "source": [
        "import os\n",
        "os.environ['JAVA_HOME'] = \"/usr/lib/jvm/java-11-openjdk-amd64\""
      ],
      "execution_count": 42,
      "outputs": []
    },
    {
      "cell_type": "code",
      "metadata": {
        "colab": {
          "base_uri": "https://localhost:8080/"
        },
        "id": "OW3-_2hLWLob",
        "outputId": "40ee70c6-7eee-4d35-f74c-6d5ba29ca5c4"
      },
      "source": [
        "!pip install pyspark"
      ],
      "execution_count": 43,
      "outputs": [
        {
          "output_type": "stream",
          "text": [
            "Requirement already satisfied: pyspark in /usr/local/lib/python3.7/dist-packages (3.1.1)\n",
            "Requirement already satisfied: py4j==0.10.9 in /usr/local/lib/python3.7/dist-packages (from pyspark) (0.10.9)\n"
          ],
          "name": "stdout"
        }
      ]
    },
    {
      "cell_type": "code",
      "metadata": {
        "id": "g--2BHWhWLqe"
      },
      "source": [
        "#!pip install --upgrade pyarrow"
      ],
      "execution_count": 44,
      "outputs": []
    },
    {
      "cell_type": "code",
      "metadata": {
        "colab": {
          "base_uri": "https://localhost:8080/"
        },
        "id": "6D6j9f7nWLs3",
        "outputId": "c9c07c2b-7f46-4cea-f7ec-d8b90d60a9fd"
      },
      "source": [
        "!pip install fbprophet"
      ],
      "execution_count": 45,
      "outputs": [
        {
          "output_type": "stream",
          "text": [
            "Requirement already satisfied: fbprophet in /usr/local/lib/python3.7/dist-packages (0.7.1)\n",
            "Requirement already satisfied: Cython>=0.22 in /usr/local/lib/python3.7/dist-packages (from fbprophet) (0.29.22)\n",
            "Requirement already satisfied: cmdstanpy==0.9.5 in /usr/local/lib/python3.7/dist-packages (from fbprophet) (0.9.5)\n",
            "Requirement already satisfied: pystan>=2.14 in /usr/local/lib/python3.7/dist-packages (from fbprophet) (2.19.1.1)\n",
            "Requirement already satisfied: numpy>=1.15.4 in /usr/local/lib/python3.7/dist-packages (from fbprophet) (1.19.5)\n",
            "Requirement already satisfied: pandas>=1.0.4 in /usr/local/lib/python3.7/dist-packages (from fbprophet) (1.1.5)\n",
            "Requirement already satisfied: matplotlib>=2.0.0 in /usr/local/lib/python3.7/dist-packages (from fbprophet) (3.2.2)\n",
            "Requirement already satisfied: LunarCalendar>=0.0.9 in /usr/local/lib/python3.7/dist-packages (from fbprophet) (0.0.9)\n",
            "Requirement already satisfied: convertdate>=2.1.2 in /usr/local/lib/python3.7/dist-packages (from fbprophet) (2.3.2)\n",
            "Requirement already satisfied: holidays>=0.10.2 in /usr/local/lib/python3.7/dist-packages (from fbprophet) (0.10.5.2)\n",
            "Requirement already satisfied: setuptools-git>=1.2 in /usr/local/lib/python3.7/dist-packages (from fbprophet) (1.2)\n",
            "Requirement already satisfied: python-dateutil>=2.8.0 in /usr/local/lib/python3.7/dist-packages (from fbprophet) (2.8.1)\n",
            "Requirement already satisfied: tqdm>=4.36.1 in /usr/local/lib/python3.7/dist-packages (from fbprophet) (4.41.1)\n",
            "Requirement already satisfied: pytz>=2017.2 in /usr/local/lib/python3.7/dist-packages (from pandas>=1.0.4->fbprophet) (2018.9)\n",
            "Requirement already satisfied: pyparsing!=2.0.4,!=2.1.2,!=2.1.6,>=2.0.1 in /usr/local/lib/python3.7/dist-packages (from matplotlib>=2.0.0->fbprophet) (2.4.7)\n",
            "Requirement already satisfied: kiwisolver>=1.0.1 in /usr/local/lib/python3.7/dist-packages (from matplotlib>=2.0.0->fbprophet) (1.3.1)\n",
            "Requirement already satisfied: cycler>=0.10 in /usr/local/lib/python3.7/dist-packages (from matplotlib>=2.0.0->fbprophet) (0.10.0)\n",
            "Requirement already satisfied: ephem>=3.7.5.3 in /usr/local/lib/python3.7/dist-packages (from LunarCalendar>=0.0.9->fbprophet) (3.7.7.1)\n",
            "Requirement already satisfied: pymeeus<=1,>=0.3.13 in /usr/local/lib/python3.7/dist-packages (from convertdate>=2.1.2->fbprophet) (0.5.11)\n",
            "Requirement already satisfied: hijri-converter in /usr/local/lib/python3.7/dist-packages (from holidays>=0.10.2->fbprophet) (2.1.1)\n",
            "Requirement already satisfied: six in /usr/local/lib/python3.7/dist-packages (from holidays>=0.10.2->fbprophet) (1.15.0)\n",
            "Requirement already satisfied: korean-lunar-calendar in /usr/local/lib/python3.7/dist-packages (from holidays>=0.10.2->fbprophet) (0.2.1)\n"
          ],
          "name": "stdout"
        }
      ]
    },
    {
      "cell_type": "code",
      "metadata": {
        "id": "0_-RYhXyCetw"
      },
      "source": [
        ""
      ],
      "execution_count": 45,
      "outputs": []
    },
    {
      "cell_type": "code",
      "metadata": {
        "id": "jY-5PkhXBGEB"
      },
      "source": [
        "import matplotlib as mpl\n",
        "import matplotlib.pyplot as plt\n",
        "import pandas as pd \n",
        "\n",
        "from fbprophet import Prophet\n",
        "\n",
        "mpl.rcParams['figure.figsize'] = (10,8)\n",
        "mpl.rcParams['axes.grid'] = False\n",
        "\n",
        "from pyspark.sql import SparkSession\n",
        "import pyspark"
      ],
      "execution_count": 46,
      "outputs": []
    },
    {
      "cell_type": "code",
      "metadata": {
        "id": "yPnSd6DoYyjV"
      },
      "source": [
        "spark = SparkSession.builder.master('local').getOrCreate()"
      ],
      "execution_count": 47,
      "outputs": []
    },
    {
      "cell_type": "code",
      "metadata": {
        "id": "ZSYZCaq1WLvV"
      },
      "source": [
        "df = pd.read_csv('https://raw.githubusercontent.com/srivatsan88/YouTubeLI/master/dataset/weekly_sales_data.csv')"
      ],
      "execution_count": 48,
      "outputs": []
    },
    {
      "cell_type": "code",
      "metadata": {
        "colab": {
          "base_uri": "https://localhost:8080/"
        },
        "id": "UY8vQCzwWoR3",
        "outputId": "1ce4e115-cb5f-47f1-a9db-a4ac8b402d06"
      },
      "source": [
        "df.info()"
      ],
      "execution_count": 49,
      "outputs": [
        {
          "output_type": "stream",
          "text": [
            "<class 'pandas.core.frame.DataFrame'>\n",
            "RangeIndex: 500 entries, 0 to 499\n",
            "Data columns (total 3 columns):\n",
            " #   Column    Non-Null Count  Dtype  \n",
            "---  ------    --------------  -----  \n",
            " 0   date      500 non-null    object \n",
            " 1   store_id  500 non-null    int64  \n",
            " 2   sales     500 non-null    float64\n",
            "dtypes: float64(1), int64(1), object(1)\n",
            "memory usage: 11.8+ KB\n"
          ],
          "name": "stdout"
        }
      ]
    },
    {
      "cell_type": "code",
      "metadata": {
        "id": "Ze9IMSkbWLxU"
      },
      "source": [
        "df['date'] = pd.to_datetime(df['date'], infer_datetime_format=True)"
      ],
      "execution_count": 50,
      "outputs": []
    },
    {
      "cell_type": "code",
      "metadata": {
        "colab": {
          "base_uri": "https://localhost:8080/"
        },
        "id": "12zw2oTvWL1Y",
        "outputId": "43ddbd8a-7acd-4620-8f8b-78759dd0a642"
      },
      "source": [
        "print('Features :\\n', df.columns.tolist())\n",
        "print('\\nMissing Values :\\n', df.isnull().any())\n",
        "print('\\nUnique Values :\\n', df.nunique())"
      ],
      "execution_count": 51,
      "outputs": [
        {
          "output_type": "stream",
          "text": [
            "Features :\n",
            " ['date', 'store_id', 'sales']\n",
            "\n",
            "Missing Values :\n",
            " date        False\n",
            "store_id    False\n",
            "sales       False\n",
            "dtype: bool\n",
            "\n",
            "Unique Values :\n",
            " date         50\n",
            "store_id     10\n",
            "sales       500\n",
            "dtype: int64\n"
          ],
          "name": "stdout"
        }
      ]
    },
    {
      "cell_type": "code",
      "metadata": {
        "id": "g1WmfC60WL4L"
      },
      "source": [
        "df_temp = df.copy()"
      ],
      "execution_count": 52,
      "outputs": []
    },
    {
      "cell_type": "code",
      "metadata": {
        "colab": {
          "base_uri": "https://localhost:8080/"
        },
        "id": "k2OykZwjE8_r",
        "outputId": "7f52f545-b52c-496a-94b6-289b7784461e"
      },
      "source": [
        "df['store_id'].value_counts()"
      ],
      "execution_count": 53,
      "outputs": [
        {
          "output_type": "execute_result",
          "data": {
            "text/plain": [
              "44    50\n",
              "41    50\n",
              "38    50\n",
              "35    50\n",
              "31    50\n",
              "30    50\n",
              "29    50\n",
              "28    50\n",
              "26    50\n",
              "25    50\n",
              "Name: store_id, dtype: int64"
            ]
          },
          "metadata": {
            "tags": []
          },
          "execution_count": 53
        }
      ]
    },
    {
      "cell_type": "code",
      "metadata": {
        "id": "JzcXfYimE9CZ"
      },
      "source": [
        "item_df = df.set_index('date')"
      ],
      "execution_count": 54,
      "outputs": []
    },
    {
      "cell_type": "code",
      "metadata": {
        "id": "dBQLC3laE9FA"
      },
      "source": [
        "sdf = spark.createDataFrame(df)"
      ],
      "execution_count": 55,
      "outputs": []
    },
    {
      "cell_type": "code",
      "metadata": {
        "colab": {
          "base_uri": "https://localhost:8080/"
        },
        "id": "4AgVHyoCE9Hd",
        "outputId": "b8d6a4f8-728f-451b-e4dd-b5127a5793cf"
      },
      "source": [
        "sdf.show(5)"
      ],
      "execution_count": 56,
      "outputs": [
        {
          "output_type": "stream",
          "text": [
            "+-------------------+--------+-----------+\n",
            "|               date|store_id|      sales|\n",
            "+-------------------+--------+-----------+\n",
            "|2019-01-06 00:00:00|      25|736657.2267|\n",
            "|2019-01-06 00:00:00|      26|   233711.0|\n",
            "|2019-01-06 00:00:00|      28|692156.3794|\n",
            "|2019-01-06 00:00:00|      29|   213706.8|\n",
            "|2019-01-06 00:00:00|      30|   266455.0|\n",
            "+-------------------+--------+-----------+\n",
            "only showing top 5 rows\n",
            "\n"
          ],
          "name": "stdout"
        }
      ]
    },
    {
      "cell_type": "code",
      "metadata": {
        "colab": {
          "base_uri": "https://localhost:8080/"
        },
        "id": "vBW12bgLE9KW",
        "outputId": "824ff52f-b5b3-48ed-e411-add3432bcbdc"
      },
      "source": [
        "sdf.select(['store_id']).groupby('store_id').agg({'store_id':'count'}).show()"
      ],
      "execution_count": 57,
      "outputs": [
        {
          "output_type": "stream",
          "text": [
            "+--------+---------------+\n",
            "|store_id|count(store_id)|\n",
            "+--------+---------------+\n",
            "|      26|             50|\n",
            "|      29|             50|\n",
            "|      31|             50|\n",
            "|      25|             50|\n",
            "|      41|             50|\n",
            "|      28|             50|\n",
            "|      44|             50|\n",
            "|      35|             50|\n",
            "|      38|             50|\n",
            "|      30|             50|\n",
            "+--------+---------------+\n",
            "\n"
          ],
          "name": "stdout"
        }
      ]
    },
    {
      "cell_type": "code",
      "metadata": {
        "id": "rXH71mxSHTP6"
      },
      "source": [
        "sdf.createOrReplaceTempView(\"sales\")"
      ],
      "execution_count": 58,
      "outputs": []
    },
    {
      "cell_type": "code",
      "metadata": {
        "id": "Gd8bkkfLE9Nb"
      },
      "source": [
        "sql = 'SELECT store_id, date as ds, sum(sales) as y FROM sales GROUP BY store_id, ds ORDER BY store_id, ds'"
      ],
      "execution_count": 59,
      "outputs": []
    },
    {
      "cell_type": "code",
      "metadata": {
        "colab": {
          "base_uri": "https://localhost:8080/"
        },
        "id": "5bX_bkWSGmED",
        "outputId": "729c6adc-573f-49eb-e908-5defe7a75444"
      },
      "source": [
        "spark.sql(sql).show()"
      ],
      "execution_count": 60,
      "outputs": [
        {
          "output_type": "stream",
          "text": [
            "+--------+-------------------+------------------+\n",
            "|store_id|                 ds|                 y|\n",
            "+--------+-------------------+------------------+\n",
            "|      25|2019-01-06 00:00:00|       736657.2267|\n",
            "|      25|2019-01-13 00:00:00|       696457.1717|\n",
            "|      25|2019-01-20 00:00:00|        996876.875|\n",
            "|      25|2019-01-27 00:00:00|        1029737.05|\n",
            "|      25|2019-02-03 00:00:00|       1072873.705|\n",
            "|      25|2019-02-10 00:00:00|       880462.4681|\n",
            "|      25|2019-02-17 00:00:00|        1088756.78|\n",
            "|      25|2019-02-24 00:00:00|       1266928.313|\n",
            "|      25|2019-03-03 00:00:00|       907510.1217|\n",
            "|      25|2019-03-10 00:00:00|       747920.9824|\n",
            "|      25|2019-03-17 00:00:00|       904750.3158|\n",
            "|      25|2019-03-24 00:00:00|1069857.5890000002|\n",
            "|      25|2019-03-31 00:00:00|       1195574.314|\n",
            "|      25|2019-04-07 00:00:00|       834911.3333|\n",
            "|      25|2019-04-14 00:00:00|       788777.4167|\n",
            "|      25|2019-04-21 00:00:00|       849603.4333|\n",
            "|      25|2019-04-28 00:00:00|        965521.165|\n",
            "|      25|2019-05-05 00:00:00|       1045632.688|\n",
            "|      25|2019-05-12 00:00:00|        587768.245|\n",
            "|      25|2019-05-19 00:00:00|       806767.5946|\n",
            "+--------+-------------------+------------------+\n",
            "only showing top 20 rows\n",
            "\n"
          ],
          "name": "stdout"
        }
      ]
    },
    {
      "cell_type": "code",
      "metadata": {
        "colab": {
          "base_uri": "https://localhost:8080/"
        },
        "id": "lOW2VozBGmJV",
        "outputId": "033e4ae7-eacc-48c5-f410-eb3d555ea668"
      },
      "source": [
        "sdf.explain()"
      ],
      "execution_count": 61,
      "outputs": [
        {
          "output_type": "stream",
          "text": [
            "== Physical Plan ==\n",
            "*(1) Scan ExistingRDD[date#1136,store_id#1137L,sales#1138]\n",
            "\n",
            "\n"
          ],
          "name": "stdout"
        }
      ]
    },
    {
      "cell_type": "code",
      "metadata": {
        "colab": {
          "base_uri": "https://localhost:8080/"
        },
        "id": "BNOSENbDGmLf",
        "outputId": "52503f88-b2fd-4888-f014-593254e16432"
      },
      "source": [
        "sdf.rdd.getNumPartitions()"
      ],
      "execution_count": 62,
      "outputs": [
        {
          "output_type": "execute_result",
          "data": {
            "text/plain": [
              "1"
            ]
          },
          "metadata": {
            "tags": []
          },
          "execution_count": 62
        }
      ]
    },
    {
      "cell_type": "code",
      "metadata": {
        "id": "hI0AtFSIGmOR"
      },
      "source": [
        "store_part = (spark.sql(sql).repartition(spark.sparkContext.defaultParallelism, ['store_id'])).cache()"
      ],
      "execution_count": 63,
      "outputs": []
    },
    {
      "cell_type": "code",
      "metadata": {
        "colab": {
          "base_uri": "https://localhost:8080/"
        },
        "id": "Ll0LR5fUGmQ2",
        "outputId": "65fedb61-1f65-48c2-89e6-39aa05158a7a"
      },
      "source": [
        "store_part"
      ],
      "execution_count": 64,
      "outputs": [
        {
          "output_type": "execute_result",
          "data": {
            "text/plain": [
              "DataFrame[store_id: bigint, ds: timestamp, y: double]"
            ]
          },
          "metadata": {
            "tags": []
          },
          "execution_count": 64
        }
      ]
    },
    {
      "cell_type": "code",
      "metadata": {
        "colab": {
          "base_uri": "https://localhost:8080/"
        },
        "id": "EZ-GPCdTGmTT",
        "outputId": "0711185e-961d-4d75-85d5-b122ae5d0996"
      },
      "source": [
        "store_part.explain()"
      ],
      "execution_count": 65,
      "outputs": [
        {
          "output_type": "stream",
          "text": [
            "== Physical Plan ==\n",
            "InMemoryTableScan [store_id#1137L, ds#1198, y#1199]\n",
            "   +- InMemoryRelation [store_id#1137L, ds#1198, y#1199], StorageLevel(disk, memory, deserialized, 1 replicas)\n",
            "         +- Exchange hashpartitioning(store_id#1137L, 1), REPARTITION_WITH_NUM, [id=#347]\n",
            "            +- *(3) Sort [store_id#1137L ASC NULLS FIRST, ds#1198 ASC NULLS FIRST], true, 0\n",
            "               +- Exchange rangepartitioning(store_id#1137L ASC NULLS FIRST, ds#1198 ASC NULLS FIRST, 200), ENSURE_REQUIREMENTS, [id=#343]\n",
            "                  +- *(2) HashAggregate(keys=[store_id#1137L, date#1136], functions=[sum(sales#1138)])\n",
            "                     +- Exchange hashpartitioning(store_id#1137L, date#1136, 200), ENSURE_REQUIREMENTS, [id=#339]\n",
            "                        +- *(1) HashAggregate(keys=[store_id#1137L, date#1136], functions=[partial_sum(sales#1138)])\n",
            "                           +- *(1) Scan ExistingRDD[date#1136,store_id#1137L,sales#1138]\n",
            "\n",
            "\n"
          ],
          "name": "stdout"
        }
      ]
    },
    {
      "cell_type": "code",
      "metadata": {
        "id": "o4s_uP7PGmWS"
      },
      "source": [
        "from pyspark.sql.types import *\n",
        "\n",
        "result_schema = StructType([\n",
        "                            StructField('ds', TimestampType()),\n",
        "                            StructField('store_id', IntegerType()),\n",
        "                            StructField('y', DoubleType()),\n",
        "                            StructField('yhat', DoubleType()),\n",
        "                            StructField('yhat_lower', DoubleType()),\n",
        "                            StructField('yhat_upper', DoubleType())\n",
        "])"
      ],
      "execution_count": 66,
      "outputs": []
    },
    {
      "cell_type": "code",
      "metadata": {
        "id": "pY8Tw6qmGmY7"
      },
      "source": [
        "from pyspark.sql.functions import pandas_udf, PandasUDFType\n",
        "\n",
        "@pandas_udf(result_schema, PandasUDFType.GROUPED_MAP)\n",
        "def forecast_sales(store_pd):\n",
        "  model = Prophet(interval_width=0.95, \n",
        "                  seasonality_mode = 'multiplicative',\n",
        "                  weekly_seasonality=True, \n",
        "                  yearly_seasonality=True)\n",
        "  \n",
        "  model.fit(store_pd)\n",
        "\n",
        "  future_pd = model.make_future_dataframe(\n",
        "      periods=5,\n",
        "      freq = 'w'\n",
        "  )\n",
        "\n",
        "  forecast_pd = model.predict(future_pd)\n",
        "\n",
        "  f_pd = forecast_pd[['ds', 'yhat', 'yhat_upper', 'yhat_lower']].set_index('ds')\n",
        "  st_pd = store_pd[['ds', 'store_id', 'y']].set_index('ds')\n",
        "\n",
        "  results_pd = f_pd.join(st_pd, how='left')\n",
        "  results_pd.reset_index(level=0, inplace=True)\n",
        "\n",
        "  results_pd['store_id'] = store_pd['store_id'].iloc[0]\n",
        "\n",
        "  return results_pd[ ['ds', 'store_id', 'y', 'yhat', 'yhat_upper', 'yhat_lower'] ]"
      ],
      "execution_count": 75,
      "outputs": []
    },
    {
      "cell_type": "code",
      "metadata": {
        "colab": {
          "base_uri": "https://localhost:8080/"
        },
        "id": "R0CTeg5QL2SC",
        "outputId": "b5be4a4e-936f-43c6-ae56-16cc04a95e5b"
      },
      "source": [
        "from pyspark.sql.functions import current_date\n",
        "\n",
        "results = (\n",
        "    store_part.groupby('store_id').apply(forecast_sales).withColumn('training_date', current_date())\n",
        ")"
      ],
      "execution_count": 76,
      "outputs": [
        {
          "output_type": "stream",
          "text": [
            "/usr/local/lib/python3.7/dist-packages/pyspark/sql/pandas/group_ops.py:84: UserWarning:\n",
            "\n",
            "It is preferred to use 'applyInPandas' over this API. This API will be deprecated in the future releases. See SPARK-28264 for more details.\n",
            "\n"
          ],
          "name": "stderr"
        }
      ]
    },
    {
      "cell_type": "code",
      "metadata": {
        "colab": {
          "base_uri": "https://localhost:8080/"
        },
        "id": "-l_5NhXYL2Ve",
        "outputId": "f69c9b7f-6a0f-4df2-c3d3-804e79ee827f"
      },
      "source": [
        "results.cache()"
      ],
      "execution_count": 77,
      "outputs": [
        {
          "output_type": "execute_result",
          "data": {
            "text/plain": [
              "DataFrame[ds: timestamp, store_id: int, y: double, yhat: double, yhat_lower: double, yhat_upper: double, training_date: date]"
            ]
          },
          "metadata": {
            "tags": []
          },
          "execution_count": 77
        }
      ]
    },
    {
      "cell_type": "code",
      "metadata": {
        "colab": {
          "base_uri": "https://localhost:8080/"
        },
        "id": "j_auhYkcL2XZ",
        "outputId": "5b38b801-50db-49fb-8718-627aff966704"
      },
      "source": [
        "results.show()"
      ],
      "execution_count": 78,
      "outputs": [
        {
          "output_type": "stream",
          "text": [
            "+-------------------+--------+------------------+------------------+------------------+------------------+-------------+\n",
            "|                 ds|store_id|                 y|              yhat|        yhat_lower|        yhat_upper|training_date|\n",
            "+-------------------+--------+------------------+------------------+------------------+------------------+-------------+\n",
            "|2019-01-06 00:00:00|      25|       736657.2267| 712575.0694095818|473655.26172057027|  953197.814497732|   2021-05-02|\n",
            "|2019-01-13 00:00:00|      25|       696457.1717| 743751.7568979745| 505490.9758820478| 980553.5191341601|   2021-05-02|\n",
            "|2019-01-20 00:00:00|      25|        996876.875| 972909.8778074606| 733535.8793644882|1205047.2624788326|   2021-05-02|\n",
            "|2019-01-27 00:00:00|      25|        1029737.05|1034447.5557655566| 785314.8696924116|1260907.1103557572|   2021-05-02|\n",
            "|2019-02-03 00:00:00|      25|       1072873.705| 986365.7266813249| 748157.7948720506|1214837.1926313564|   2021-05-02|\n",
            "|2019-02-10 00:00:00|      25|       880462.4681|1016291.0609378252|  783102.201954747|1262378.1288382118|   2021-05-02|\n",
            "|2019-02-17 00:00:00|      25|        1088756.78|1108793.2648377852| 870687.6384492444|1347784.3272309972|   2021-05-02|\n",
            "|2019-02-24 00:00:00|      25|       1266928.313| 1099825.778191229| 871982.0220023862|1331580.9169849555|   2021-05-02|\n",
            "|2019-03-03 00:00:00|      25|       907510.1217| 954930.7385069402| 709713.7048008955|1193693.9556479256|   2021-05-02|\n",
            "|2019-03-10 00:00:00|      25|       747920.9824| 840307.5565039386| 619597.9488928632|  1093974.55164123|   2021-05-02|\n",
            "|2019-03-17 00:00:00|      25|       904750.3158| 895698.5219485628| 640745.1899775771|1149351.1631179648|   2021-05-02|\n",
            "|2019-03-24 00:00:00|      25|1069857.5890000002|1040022.5385733753| 806240.7597734482| 1263155.385650451|   2021-05-02|\n",
            "|2019-03-31 00:00:00|      25|       1195574.314|1078329.0328818252| 849894.0713059464|1307396.1413811073|   2021-05-02|\n",
            "|2019-04-07 00:00:00|      25|       834911.3333| 957531.8584538421| 715951.0610467296|1196260.8446143323|   2021-05-02|\n",
            "|2019-04-14 00:00:00|      25|       788777.4167| 825594.4716870873| 593323.2595573915| 1072359.948124124|   2021-05-02|\n",
            "|2019-04-21 00:00:00|      25|       849603.4333|  826255.107714139| 612125.4358205806|  1084394.03877602|   2021-05-02|\n",
            "|2019-04-28 00:00:00|      25|        965521.165| 913980.6218906845| 670109.0708732589|1139978.7837670278|   2021-05-02|\n",
            "|2019-05-05 00:00:00|      25|       1045632.688|  931383.522344465| 702004.7104969287|1159229.6720634326|   2021-05-02|\n",
            "|2019-05-12 00:00:00|      25|        587768.245| 831326.9849957973| 605751.0337216072|1042964.5089901829|   2021-05-02|\n",
            "|2019-05-19 00:00:00|      25|       806767.5946| 740232.6751864685| 513836.8107095679| 985288.1541102618|   2021-05-02|\n",
            "+-------------------+--------+------------------+------------------+------------------+------------------+-------------+\n",
            "only showing top 20 rows\n",
            "\n"
          ],
          "name": "stdout"
        }
      ]
    },
    {
      "cell_type": "code",
      "metadata": {
        "colab": {
          "base_uri": "https://localhost:8080/"
        },
        "id": "0nCNWBlvL2Zu",
        "outputId": "be31b6f4-87b9-4c1b-d8b2-f46adc0860e3"
      },
      "source": [
        "results.coalesce(1)"
      ],
      "execution_count": 79,
      "outputs": [
        {
          "output_type": "execute_result",
          "data": {
            "text/plain": [
              "DataFrame[ds: timestamp, store_id: int, y: double, yhat: double, yhat_lower: double, yhat_upper: double, training_date: date]"
            ]
          },
          "metadata": {
            "tags": []
          },
          "execution_count": 79
        }
      ]
    },
    {
      "cell_type": "code",
      "metadata": {
        "colab": {
          "base_uri": "https://localhost:8080/"
        },
        "id": "ACwdoCipGmbK",
        "outputId": "3e3d994a-0be1-4660-c332-dd53718382c1"
      },
      "source": [
        "results.count()"
      ],
      "execution_count": 80,
      "outputs": [
        {
          "output_type": "execute_result",
          "data": {
            "text/plain": [
              "550"
            ]
          },
          "metadata": {
            "tags": []
          },
          "execution_count": 80
        }
      ]
    },
    {
      "cell_type": "code",
      "metadata": {
        "id": "yQ0XkmMlPLk2"
      },
      "source": [
        "results.createOrReplaceTempView('forecasted')"
      ],
      "execution_count": 81,
      "outputs": []
    },
    {
      "cell_type": "code",
      "metadata": {
        "id": "wB-kAtfcPLnU"
      },
      "source": [
        "final = results.toPandas()"
      ],
      "execution_count": 85,
      "outputs": []
    },
    {
      "cell_type": "code",
      "metadata": {
        "id": "_6qA81m-PLr4"
      },
      "source": [
        "final = final.set_index('ds')"
      ],
      "execution_count": 86,
      "outputs": []
    },
    {
      "cell_type": "code",
      "metadata": {
        "colab": {
          "base_uri": "https://localhost:8080/",
          "height": 525
        },
        "id": "JRpBqcB_PLuf",
        "outputId": "84de46ba-ffbf-4d39-f25e-98ca285ad485"
      },
      "source": [
        "final.query('store_id==44')[['y','yhat']].plot()"
      ],
      "execution_count": 87,
      "outputs": [
        {
          "output_type": "execute_result",
          "data": {
            "text/plain": [
              "<matplotlib.axes._subplots.AxesSubplot at 0x7f8ff10f1850>"
            ]
          },
          "metadata": {
            "tags": []
          },
          "execution_count": 87
        },
        {
          "output_type": "display_data",
          "data": {
            "image/png": "[encoded data removed]",
            "text/plain": [
              "<Figure size 720x576 with 1 Axes>"
            ]
          },
          "metadata": {
            "tags": [],
            "needs_background": "light"
          }
        }
      ]
    },
    {
      "cell_type": "code",
      "metadata": {
        "colab": {
          "base_uri": "https://localhost:8080/",
          "height": 536
        },
        "id": "KlxaPoeqPLyQ",
        "outputId": "9c2ff8c8-6a59-4111-c2e6-04aaa51a484f"
      },
      "source": [
        "final.query('store_id==31')[['y','yhat']].plot()"
      ],
      "execution_count": 88,
      "outputs": [
        {
          "output_type": "execute_result",
          "data": {
            "text/plain": [
              "<matplotlib.axes._subplots.AxesSubplot at 0x7f8fefe244d0>"
            ]
          },
          "metadata": {
            "tags": []
          },
          "execution_count": 88
        },
        {
          "output_type": "display_data",
          "data": {
            "image/png": "[encoded data removed]",
            "text/plain": [
              "<Figure size 720x576 with 1 Axes>"
            ]
          },
          "metadata": {
            "tags": [],
            "needs_background": "light"
          }
        }
      ]
    },
    {
      "cell_type": "code",
      "metadata": {
        "id": "V_e5NUlvPL0a"
      },
      "source": [
        ""
      ],
      "execution_count": null,
      "outputs": []
    },
    {
      "cell_type": "code",
      "metadata": {
        "id": "1kQjZrxKPL3P"
      },
      "source": [
        ""
      ],
      "execution_count": null,
      "outputs": []
    },
    {
      "cell_type": "code",
      "metadata": {
        "id": "xeeuZLvJPL6e"
      },
      "source": [
        ""
      ],
      "execution_count": null,
      "outputs": []
    },
    {
      "cell_type": "code",
      "metadata": {
        "id": "IoquOFAQPL9d"
      },
      "source": [
        ""
      ],
      "execution_count": null,
      "outputs": []
    }
  ]
}