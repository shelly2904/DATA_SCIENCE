{
  "nbformat": 4,
  "nbformat_minor": 0,
  "metadata": {
    "colab": {
      "name": "AutoEncoders.ipynb",
      "provenance": [],
      "collapsed_sections": []
    },
    "kernelspec": {
      "name": "python3",
      "display_name": "Python 3"
    },
    "language_info": {
      "name": "python"
    }
  },
  "cells": [
    {
      "cell_type": "markdown",
      "metadata": {
        "id": "ukiiZhNj0FNJ"
      },
      "source": [
        "Unsupervised algorithm\n",
        "\n",
        "Can be used for dimensionality reduction and can work well on non linear datasets"
      ]
    },
    {
      "cell_type": "code",
      "metadata": {
        "id": "PS_iQAzb0DDs"
      },
      "source": [
        "import pandas as pd\n",
        "import matplotlib.pyplot as plt\n",
        "import matplotlib as mpl\n",
        "\n",
        "import tensorflow as tf\n",
        "from tensorflow.keras.models import Model \n",
        "import numpy as np \n",
        "\n",
        "from sklearn.model_selection import train_test_split\n",
        "from sklearn.preprocessing import MinMaxScaler, StandardScaler \n",
        "\n",
        "mpl.rcParams['figure.figsize'] = (10,8)\n",
        "mpl.rcParams['axes.grid'] = False"
      ],
      "execution_count": 1,
      "outputs": []
    },
    {
      "cell_type": "code",
      "metadata": {
        "colab": {
          "base_uri": "https://localhost:8080/"
        },
        "id": "vXArArYP8YD3",
        "outputId": "2b8e38f8-b39b-4313-daee-bd0cfb3683bb"
      },
      "source": [
        "!wget http://www.timeseriesclassification.com/Downloads/ECG5000.zip\n",
        "!unzip ECG5000.zip"
      ],
      "execution_count": 2,
      "outputs": [
        {
          "output_type": "stream",
          "text": [
            "--2021-05-26 23:11:27--  http://www.timeseriesclassification.com/Downloads/ECG5000.zip\n",
            "Resolving www.timeseriesclassification.com (www.timeseriesclassification.com)... 109.123.71.232\n",
            "Connecting to www.timeseriesclassification.com (www.timeseriesclassification.com)|109.123.71.232|:80... connected.\n",
            "HTTP request sent, awaiting response... 200 OK\n",
            "Length: 10614407 (10M) [application/zip]\n",
            "Saving to: ‘ECG5000.zip’\n",
            "\n",
            "ECG5000.zip         100%[===================>]  10.12M  13.1MB/s    in 0.8s    \n",
            "\n",
            "2021-05-26 23:11:28 (13.1 MB/s) - ‘ECG5000.zip’ saved [10614407/10614407]\n",
            "\n",
            "Archive:  ECG5000.zip\n",
            "  inflating: ECG5000.txt             \n",
            "  inflating: ECG5000_TEST.arff       \n",
            "  inflating: ECG5000_TEST.txt        \n",
            "  inflating: ECG5000_TRAIN.arff      \n",
            "  inflating: ECG5000_TRAIN.txt       \n",
            "  inflating: ECG5000_TEST.ts         \n",
            "  inflating: ECG5000_TRAIN.ts        \n"
          ],
          "name": "stdout"
        }
      ]
    },
    {
      "cell_type": "code",
      "metadata": {
        "id": "r5Cm4iie9H3C"
      },
      "source": [
        "!cat ECG5000_TRAIN.txt ECG5000_TEST.txt > ecg_final.txt"
      ],
      "execution_count": null,
      "outputs": []
    },
    {
      "cell_type": "code",
      "metadata": {
        "colab": {
          "base_uri": "https://localhost:8080/"
        },
        "id": "AwREO5dZ8YGz",
        "outputId": "b9073c0c-12af-44ac-8faf-3cc38095e4d9"
      },
      "source": [
        "df =  pd.read_csv('ecg_final.txt', sep='  ', header=None)"
      ],
      "execution_count": 12,
      "outputs": [
        {
          "output_type": "stream",
          "text": [
            "/usr/local/lib/python3.7/dist-packages/ipykernel_launcher.py:1: ParserWarning: Falling back to the 'python' engine because the 'c' engine does not support regex separators (separators > 1 char and different from '\\s+' are interpreted as regex); you can avoid this warning by specifying engine='python'.\n",
            "  \"\"\"Entry point for launching an IPython kernel.\n"
          ],
          "name": "stderr"
        }
      ]
    },
    {
      "cell_type": "code",
      "metadata": {
        "colab": {
          "base_uri": "https://localhost:8080/"
        },
        "id": "10VDBPkJ8YKi",
        "outputId": "abac0246-8020-49d9-9f12-631575492431"
      },
      "source": [
        "df.info()"
      ],
      "execution_count": 13,
      "outputs": [
        {
          "output_type": "stream",
          "text": [
            "<class 'pandas.core.frame.DataFrame'>\n",
            "RangeIndex: 5000 entries, 0 to 4999\n",
            "Columns: 141 entries, 0 to 140\n",
            "dtypes: float64(141)\n",
            "memory usage: 5.4 MB\n"
          ],
          "name": "stdout"
        }
      ]
    },
    {
      "cell_type": "code",
      "metadata": {
        "colab": {
          "base_uri": "https://localhost:8080/"
        },
        "id": "jZYXDwpg8YMd",
        "outputId": "db855918-4b22-490e-825f-ab2256990fcb"
      },
      "source": [
        "df.columns"
      ],
      "execution_count": 14,
      "outputs": [
        {
          "output_type": "execute_result",
          "data": {
            "text/plain": [
              "Int64Index([  0,   1,   2,   3,   4,   5,   6,   7,   8,   9,\n",
              "            ...\n",
              "            131, 132, 133, 134, 135, 136, 137, 138, 139, 140],\n",
              "           dtype='int64', length=141)"
            ]
          },
          "metadata": {
            "tags": []
          },
          "execution_count": 14
        }
      ]
    },
    {
      "cell_type": "code",
      "metadata": {
        "id": "f41AmG858YR-"
      },
      "source": [
        "df = df.add_prefix('c')"
      ],
      "execution_count": 15,
      "outputs": []
    },
    {
      "cell_type": "code",
      "metadata": {
        "colab": {
          "base_uri": "https://localhost:8080/"
        },
        "id": "DHrU82RQ8YVA",
        "outputId": "4d27c677-3dab-4492-c7d6-246abce4219f"
      },
      "source": [
        "df['c0'].value_counts()"
      ],
      "execution_count": 16,
      "outputs": [
        {
          "output_type": "execute_result",
          "data": {
            "text/plain": [
              "1.0    2919\n",
              "2.0    1767\n",
              "4.0     194\n",
              "3.0      96\n",
              "5.0      24\n",
              "Name: c0, dtype: int64"
            ]
          },
          "metadata": {
            "tags": []
          },
          "execution_count": 16
        }
      ]
    },
    {
      "cell_type": "code",
      "metadata": {
        "colab": {
          "base_uri": "https://localhost:8080/",
          "height": 346
        },
        "id": "xnyF8Ekp-zo0",
        "outputId": "768e4a41-e879-48e3-ede8-13fa5d3b6830"
      },
      "source": [
        "df.describe()"
      ],
      "execution_count": 17,
      "outputs": [
        {
          "output_type": "execute_result",
          "data": {
            "text/html": [
              "<div>\n",
              "<style scoped>\n",
              "    .dataframe tbody tr th:only-of-type {\n",
              "        vertical-align: middle;\n",
              "    }\n",
              "\n",
              "    .dataframe tbody tr th {\n",
              "        vertical-align: top;\n",
              "    }\n",
              "\n",
              "    .dataframe thead th {\n",
              "        text-align: right;\n",
              "    }\n",
              "</style>\n",
              "<table border=\"1\" class=\"dataframe\">\n",
              "  <thead>\n",
              "    <tr style=\"text-align: right;\">\n",
              "      <th></th>\n",
              "      <th>c0</th>\n",
              "      <th>c1</th>\n",
              "      <th>c2</th>\n",
              "      <th>c3</th>\n",
              "      <th>c4</th>\n",
              "      <th>c5</th>\n",
              "      <th>c6</th>\n",
              "      <th>c7</th>\n",
              "      <th>c8</th>\n",
              "      <th>c9</th>\n",
              "      <th>c10</th>\n",
              "      <th>c11</th>\n",
              "      <th>c12</th>\n",
              "      <th>c13</th>\n",
              "      <th>c14</th>\n",
              "      <th>c15</th>\n",
              "      <th>c16</th>\n",
              "      <th>c17</th>\n",
              "      <th>c18</th>\n",
              "      <th>c19</th>\n",
              "      <th>c20</th>\n",
              "      <th>c21</th>\n",
              "      <th>c22</th>\n",
              "      <th>c23</th>\n",
              "      <th>c24</th>\n",
              "      <th>c25</th>\n",
              "      <th>c26</th>\n",
              "      <th>c27</th>\n",
              "      <th>c28</th>\n",
              "      <th>c29</th>\n",
              "      <th>c30</th>\n",
              "      <th>c31</th>\n",
              "      <th>c32</th>\n",
              "      <th>c33</th>\n",
              "      <th>c34</th>\n",
              "      <th>c35</th>\n",
              "      <th>c36</th>\n",
              "      <th>c37</th>\n",
              "      <th>c38</th>\n",
              "      <th>c39</th>\n",
              "      <th>...</th>\n",
              "      <th>c101</th>\n",
              "      <th>c102</th>\n",
              "      <th>c103</th>\n",
              "      <th>c104</th>\n",
              "      <th>c105</th>\n",
              "      <th>c106</th>\n",
              "      <th>c107</th>\n",
              "      <th>c108</th>\n",
              "      <th>c109</th>\n",
              "      <th>c110</th>\n",
              "      <th>c111</th>\n",
              "      <th>c112</th>\n",
              "      <th>c113</th>\n",
              "      <th>c114</th>\n",
              "      <th>c115</th>\n",
              "      <th>c116</th>\n",
              "      <th>c117</th>\n",
              "      <th>c118</th>\n",
              "      <th>c119</th>\n",
              "      <th>c120</th>\n",
              "      <th>c121</th>\n",
              "      <th>c122</th>\n",
              "      <th>c123</th>\n",
              "      <th>c124</th>\n",
              "      <th>c125</th>\n",
              "      <th>c126</th>\n",
              "      <th>c127</th>\n",
              "      <th>c128</th>\n",
              "      <th>c129</th>\n",
              "      <th>c130</th>\n",
              "      <th>c131</th>\n",
              "      <th>c132</th>\n",
              "      <th>c133</th>\n",
              "      <th>c134</th>\n",
              "      <th>c135</th>\n",
              "      <th>c136</th>\n",
              "      <th>c137</th>\n",
              "      <th>c138</th>\n",
              "      <th>c139</th>\n",
              "      <th>c140</th>\n",
              "    </tr>\n",
              "  </thead>\n",
              "  <tbody>\n",
              "    <tr>\n",
              "      <th>count</th>\n",
              "      <td>5000.000000</td>\n",
              "      <td>5000.000000</td>\n",
              "      <td>5000.000000</td>\n",
              "      <td>5000.000000</td>\n",
              "      <td>5000.000000</td>\n",
              "      <td>5000.000000</td>\n",
              "      <td>5000.000000</td>\n",
              "      <td>5000.000000</td>\n",
              "      <td>5000.000000</td>\n",
              "      <td>5000.000000</td>\n",
              "      <td>5000.000000</td>\n",
              "      <td>5000.000000</td>\n",
              "      <td>5000.000000</td>\n",
              "      <td>5000.000000</td>\n",
              "      <td>5000.000000</td>\n",
              "      <td>5000.000000</td>\n",
              "      <td>5000.000000</td>\n",
              "      <td>5000.000000</td>\n",
              "      <td>5000.000000</td>\n",
              "      <td>5000.000000</td>\n",
              "      <td>5000.000000</td>\n",
              "      <td>5000.000000</td>\n",
              "      <td>5000.000000</td>\n",
              "      <td>5000.000000</td>\n",
              "      <td>5000.000000</td>\n",
              "      <td>5000.000000</td>\n",
              "      <td>5000.000000</td>\n",
              "      <td>5000.000000</td>\n",
              "      <td>5000.000000</td>\n",
              "      <td>5000.000000</td>\n",
              "      <td>5000.000000</td>\n",
              "      <td>5000.000000</td>\n",
              "      <td>5000.000000</td>\n",
              "      <td>5000.000000</td>\n",
              "      <td>5000.000000</td>\n",
              "      <td>5000.000000</td>\n",
              "      <td>5000.000000</td>\n",
              "      <td>5000.000000</td>\n",
              "      <td>5000.000000</td>\n",
              "      <td>5000.000000</td>\n",
              "      <td>...</td>\n",
              "      <td>5000.000000</td>\n",
              "      <td>5000.000000</td>\n",
              "      <td>5000.000000</td>\n",
              "      <td>5000.000000</td>\n",
              "      <td>5000.000000</td>\n",
              "      <td>5000.000000</td>\n",
              "      <td>5000.000000</td>\n",
              "      <td>5000.000000</td>\n",
              "      <td>5000.000000</td>\n",
              "      <td>5000.000000</td>\n",
              "      <td>5000.000000</td>\n",
              "      <td>5000.000000</td>\n",
              "      <td>5000.000000</td>\n",
              "      <td>5000.000000</td>\n",
              "      <td>5000.000000</td>\n",
              "      <td>5000.000000</td>\n",
              "      <td>5000.000000</td>\n",
              "      <td>5000.000000</td>\n",
              "      <td>5000.000000</td>\n",
              "      <td>5000.000000</td>\n",
              "      <td>5000.000000</td>\n",
              "      <td>5000.000000</td>\n",
              "      <td>5000.000000</td>\n",
              "      <td>5000.000000</td>\n",
              "      <td>5000.000000</td>\n",
              "      <td>5000.000000</td>\n",
              "      <td>5000.000000</td>\n",
              "      <td>5000.000000</td>\n",
              "      <td>5000.000000</td>\n",
              "      <td>5000.000000</td>\n",
              "      <td>5000.000000</td>\n",
              "      <td>5000.000000</td>\n",
              "      <td>5000.000000</td>\n",
              "      <td>5000.000000</td>\n",
              "      <td>5000.000000</td>\n",
              "      <td>5000.000000</td>\n",
              "      <td>5000.000000</td>\n",
              "      <td>5000.000000</td>\n",
              "      <td>5000.000000</td>\n",
              "      <td>5000.000000</td>\n",
              "    </tr>\n",
              "    <tr>\n",
              "      <th>mean</th>\n",
              "      <td>1.527400</td>\n",
              "      <td>-0.262476</td>\n",
              "      <td>-1.649511</td>\n",
              "      <td>-2.492211</td>\n",
              "      <td>-3.119443</td>\n",
              "      <td>-3.167438</td>\n",
              "      <td>-2.866308</td>\n",
              "      <td>-2.273126</td>\n",
              "      <td>-1.798127</td>\n",
              "      <td>-1.410124</td>\n",
              "      <td>-0.936082</td>\n",
              "      <td>-0.586326</td>\n",
              "      <td>-0.434430</td>\n",
              "      <td>-0.337621</td>\n",
              "      <td>-0.258235</td>\n",
              "      <td>-0.184443</td>\n",
              "      <td>-0.120015</td>\n",
              "      <td>-0.070396</td>\n",
              "      <td>-0.041849</td>\n",
              "      <td>-0.037049</td>\n",
              "      <td>-0.041243</td>\n",
              "      <td>-0.048908</td>\n",
              "      <td>-0.060176</td>\n",
              "      <td>-0.070725</td>\n",
              "      <td>-0.085491</td>\n",
              "      <td>-0.101144</td>\n",
              "      <td>-0.116070</td>\n",
              "      <td>-0.134461</td>\n",
              "      <td>-0.155811</td>\n",
              "      <td>-0.177542</td>\n",
              "      <td>-0.200685</td>\n",
              "      <td>-0.224244</td>\n",
              "      <td>-0.246686</td>\n",
              "      <td>-0.271476</td>\n",
              "      <td>-0.290321</td>\n",
              "      <td>-0.304461</td>\n",
              "      <td>-0.315111</td>\n",
              "      <td>-0.316851</td>\n",
              "      <td>-0.313070</td>\n",
              "      <td>-0.303238</td>\n",
              "      <td>...</td>\n",
              "      <td>0.946527</td>\n",
              "      <td>1.051337</td>\n",
              "      <td>1.138071</td>\n",
              "      <td>1.187551</td>\n",
              "      <td>1.201909</td>\n",
              "      <td>1.190866</td>\n",
              "      <td>1.154605</td>\n",
              "      <td>1.086347</td>\n",
              "      <td>0.986863</td>\n",
              "      <td>0.864419</td>\n",
              "      <td>0.720300</td>\n",
              "      <td>0.570000</td>\n",
              "      <td>0.428955</td>\n",
              "      <td>0.319734</td>\n",
              "      <td>0.242586</td>\n",
              "      <td>0.181059</td>\n",
              "      <td>0.134708</td>\n",
              "      <td>0.109781</td>\n",
              "      <td>0.093630</td>\n",
              "      <td>0.081028</td>\n",
              "      <td>0.065780</td>\n",
              "      <td>0.047326</td>\n",
              "      <td>0.025409</td>\n",
              "      <td>0.004531</td>\n",
              "      <td>-0.009790</td>\n",
              "      <td>-0.019087</td>\n",
              "      <td>-0.026208</td>\n",
              "      <td>-0.029561</td>\n",
              "      <td>0.000637</td>\n",
              "      <td>0.086588</td>\n",
              "      <td>0.146319</td>\n",
              "      <td>0.070973</td>\n",
              "      <td>-0.062914</td>\n",
              "      <td>-0.276206</td>\n",
              "      <td>-0.507667</td>\n",
              "      <td>-0.761043</td>\n",
              "      <td>-0.834741</td>\n",
              "      <td>-0.642263</td>\n",
              "      <td>-0.487242</td>\n",
              "      <td>-0.706008</td>\n",
              "    </tr>\n",
              "    <tr>\n",
              "      <th>std</th>\n",
              "      <td>0.760372</td>\n",
              "      <td>1.152369</td>\n",
              "      <td>1.445493</td>\n",
              "      <td>1.386409</td>\n",
              "      <td>1.302802</td>\n",
              "      <td>1.104382</td>\n",
              "      <td>0.906133</td>\n",
              "      <td>0.731627</td>\n",
              "      <td>0.623100</td>\n",
              "      <td>0.637149</td>\n",
              "      <td>0.657945</td>\n",
              "      <td>0.592049</td>\n",
              "      <td>0.493606</td>\n",
              "      <td>0.426206</td>\n",
              "      <td>0.393553</td>\n",
              "      <td>0.382488</td>\n",
              "      <td>0.386315</td>\n",
              "      <td>0.400830</td>\n",
              "      <td>0.415267</td>\n",
              "      <td>0.423797</td>\n",
              "      <td>0.429734</td>\n",
              "      <td>0.434976</td>\n",
              "      <td>0.441768</td>\n",
              "      <td>0.447727</td>\n",
              "      <td>0.454600</td>\n",
              "      <td>0.461603</td>\n",
              "      <td>0.472726</td>\n",
              "      <td>0.483574</td>\n",
              "      <td>0.492048</td>\n",
              "      <td>0.503468</td>\n",
              "      <td>0.516169</td>\n",
              "      <td>0.530030</td>\n",
              "      <td>0.543061</td>\n",
              "      <td>0.552285</td>\n",
              "      <td>0.560649</td>\n",
              "      <td>0.564906</td>\n",
              "      <td>0.566459</td>\n",
              "      <td>0.560789</td>\n",
              "      <td>0.548964</td>\n",
              "      <td>0.536229</td>\n",
              "      <td>...</td>\n",
              "      <td>0.520027</td>\n",
              "      <td>0.574633</td>\n",
              "      <td>0.614855</td>\n",
              "      <td>0.623050</td>\n",
              "      <td>0.608319</td>\n",
              "      <td>0.582721</td>\n",
              "      <td>0.553923</td>\n",
              "      <td>0.531272</td>\n",
              "      <td>0.507226</td>\n",
              "      <td>0.485600</td>\n",
              "      <td>0.483479</td>\n",
              "      <td>0.511334</td>\n",
              "      <td>0.546391</td>\n",
              "      <td>0.565580</td>\n",
              "      <td>0.571998</td>\n",
              "      <td>0.573798</td>\n",
              "      <td>0.584480</td>\n",
              "      <td>0.589680</td>\n",
              "      <td>0.591613</td>\n",
              "      <td>0.597117</td>\n",
              "      <td>0.603953</td>\n",
              "      <td>0.610288</td>\n",
              "      <td>0.619812</td>\n",
              "      <td>0.633101</td>\n",
              "      <td>0.649239</td>\n",
              "      <td>0.667657</td>\n",
              "      <td>0.680713</td>\n",
              "      <td>0.693871</td>\n",
              "      <td>0.751844</td>\n",
              "      <td>0.920052</td>\n",
              "      <td>1.171299</td>\n",
              "      <td>1.404842</td>\n",
              "      <td>1.646585</td>\n",
              "      <td>1.895134</td>\n",
              "      <td>2.059758</td>\n",
              "      <td>2.086218</td>\n",
              "      <td>2.056220</td>\n",
              "      <td>1.859296</td>\n",
              "      <td>1.830987</td>\n",
              "      <td>1.414465</td>\n",
              "    </tr>\n",
              "    <tr>\n",
              "      <th>min</th>\n",
              "      <td>1.000000</td>\n",
              "      <td>-6.729499</td>\n",
              "      <td>-7.090374</td>\n",
              "      <td>-5.132459</td>\n",
              "      <td>-5.363241</td>\n",
              "      <td>-5.375715</td>\n",
              "      <td>-5.330194</td>\n",
              "      <td>-4.782240</td>\n",
              "      <td>-4.311288</td>\n",
              "      <td>-4.071361</td>\n",
              "      <td>-4.142476</td>\n",
              "      <td>-4.040526</td>\n",
              "      <td>-3.724538</td>\n",
              "      <td>-3.264576</td>\n",
              "      <td>-3.222345</td>\n",
              "      <td>-3.263484</td>\n",
              "      <td>-3.219212</td>\n",
              "      <td>-3.202187</td>\n",
              "      <td>-3.147504</td>\n",
              "      <td>-3.459917</td>\n",
              "      <td>-4.102102</td>\n",
              "      <td>-4.311241</td>\n",
              "      <td>-4.099888</td>\n",
              "      <td>-3.614973</td>\n",
              "      <td>-3.822298</td>\n",
              "      <td>-3.795567</td>\n",
              "      <td>-3.690817</td>\n",
              "      <td>-3.542485</td>\n",
              "      <td>-3.631665</td>\n",
              "      <td>-3.587112</td>\n",
              "      <td>-3.452215</td>\n",
              "      <td>-4.074752</td>\n",
              "      <td>-4.137454</td>\n",
              "      <td>-4.059662</td>\n",
              "      <td>-3.626646</td>\n",
              "      <td>-2.829471</td>\n",
              "      <td>-3.585866</td>\n",
              "      <td>-4.003401</td>\n",
              "      <td>-3.900724</td>\n",
              "      <td>-3.325329</td>\n",
              "      <td>...</td>\n",
              "      <td>-2.662170</td>\n",
              "      <td>-2.634950</td>\n",
              "      <td>-2.634768</td>\n",
              "      <td>-2.591663</td>\n",
              "      <td>-2.446476</td>\n",
              "      <td>-2.234175</td>\n",
              "      <td>-2.431403</td>\n",
              "      <td>-2.681604</td>\n",
              "      <td>-2.864706</td>\n",
              "      <td>-3.415656</td>\n",
              "      <td>-3.497624</td>\n",
              "      <td>-3.091282</td>\n",
              "      <td>-2.608510</td>\n",
              "      <td>-2.383204</td>\n",
              "      <td>-2.678883</td>\n",
              "      <td>-3.305661</td>\n",
              "      <td>-3.179590</td>\n",
              "      <td>-3.311559</td>\n",
              "      <td>-3.501555</td>\n",
              "      <td>-4.007212</td>\n",
              "      <td>-4.199563</td>\n",
              "      <td>-3.335678</td>\n",
              "      <td>-3.127603</td>\n",
              "      <td>-3.042532</td>\n",
              "      <td>-3.116177</td>\n",
              "      <td>-3.972320</td>\n",
              "      <td>-4.754057</td>\n",
              "      <td>-4.290016</td>\n",
              "      <td>-3.802469</td>\n",
              "      <td>-4.014642</td>\n",
              "      <td>-3.971715</td>\n",
              "      <td>-4.167040</td>\n",
              "      <td>-4.557576</td>\n",
              "      <td>-4.530488</td>\n",
              "      <td>-4.563270</td>\n",
              "      <td>-5.150100</td>\n",
              "      <td>-4.880460</td>\n",
              "      <td>-5.496107</td>\n",
              "      <td>-5.880890</td>\n",
              "      <td>-6.092227</td>\n",
              "    </tr>\n",
              "    <tr>\n",
              "      <th>25%</th>\n",
              "      <td>1.000000</td>\n",
              "      <td>-1.004511</td>\n",
              "      <td>-2.701576</td>\n",
              "      <td>-3.668096</td>\n",
              "      <td>-4.227247</td>\n",
              "      <td>-4.007470</td>\n",
              "      <td>-3.480479</td>\n",
              "      <td>-2.779941</td>\n",
              "      <td>-2.165851</td>\n",
              "      <td>-1.774124</td>\n",
              "      <td>-1.362068</td>\n",
              "      <td>-0.935730</td>\n",
              "      <td>-0.704797</td>\n",
              "      <td>-0.557938</td>\n",
              "      <td>-0.457267</td>\n",
              "      <td>-0.392099</td>\n",
              "      <td>-0.346567</td>\n",
              "      <td>-0.329879</td>\n",
              "      <td>-0.332123</td>\n",
              "      <td>-0.342879</td>\n",
              "      <td>-0.359587</td>\n",
              "      <td>-0.373523</td>\n",
              "      <td>-0.392615</td>\n",
              "      <td>-0.415157</td>\n",
              "      <td>-0.441247</td>\n",
              "      <td>-0.470702</td>\n",
              "      <td>-0.501586</td>\n",
              "      <td>-0.538227</td>\n",
              "      <td>-0.570103</td>\n",
              "      <td>-0.616792</td>\n",
              "      <td>-0.650610</td>\n",
              "      <td>-0.695386</td>\n",
              "      <td>-0.735151</td>\n",
              "      <td>-0.770997</td>\n",
              "      <td>-0.799982</td>\n",
              "      <td>-0.812191</td>\n",
              "      <td>-0.827238</td>\n",
              "      <td>-0.815797</td>\n",
              "      <td>-0.795940</td>\n",
              "      <td>-0.762395</td>\n",
              "      <td>...</td>\n",
              "      <td>0.598936</td>\n",
              "      <td>0.637738</td>\n",
              "      <td>0.665225</td>\n",
              "      <td>0.688164</td>\n",
              "      <td>0.700096</td>\n",
              "      <td>0.713628</td>\n",
              "      <td>0.725200</td>\n",
              "      <td>0.719349</td>\n",
              "      <td>0.687158</td>\n",
              "      <td>0.628526</td>\n",
              "      <td>0.495111</td>\n",
              "      <td>0.255371</td>\n",
              "      <td>0.016633</td>\n",
              "      <td>-0.128735</td>\n",
              "      <td>-0.190527</td>\n",
              "      <td>-0.222440</td>\n",
              "      <td>-0.254884</td>\n",
              "      <td>-0.269984</td>\n",
              "      <td>-0.280098</td>\n",
              "      <td>-0.281648</td>\n",
              "      <td>-0.276871</td>\n",
              "      <td>-0.275941</td>\n",
              "      <td>-0.283400</td>\n",
              "      <td>-0.294317</td>\n",
              "      <td>-0.297383</td>\n",
              "      <td>-0.306833</td>\n",
              "      <td>-0.316086</td>\n",
              "      <td>-0.319952</td>\n",
              "      <td>-0.335665</td>\n",
              "      <td>-0.403909</td>\n",
              "      <td>-0.655753</td>\n",
              "      <td>-1.089300</td>\n",
              "      <td>-1.588885</td>\n",
              "      <td>-2.147449</td>\n",
              "      <td>-2.731550</td>\n",
              "      <td>-3.030509</td>\n",
              "      <td>-2.868331</td>\n",
              "      <td>-2.153513</td>\n",
              "      <td>-1.657771</td>\n",
              "      <td>-1.596692</td>\n",
              "    </tr>\n",
              "    <tr>\n",
              "      <th>50%</th>\n",
              "      <td>1.000000</td>\n",
              "      <td>-0.297541</td>\n",
              "      <td>-1.661892</td>\n",
              "      <td>-2.585677</td>\n",
              "      <td>-3.387934</td>\n",
              "      <td>-3.468718</td>\n",
              "      <td>-2.947061</td>\n",
              "      <td>-2.285578</td>\n",
              "      <td>-1.750157</td>\n",
              "      <td>-1.422570</td>\n",
              "      <td>-0.910487</td>\n",
              "      <td>-0.503252</td>\n",
              "      <td>-0.411444</td>\n",
              "      <td>-0.352522</td>\n",
              "      <td>-0.294927</td>\n",
              "      <td>-0.238326</td>\n",
              "      <td>-0.186184</td>\n",
              "      <td>-0.144882</td>\n",
              "      <td>-0.125969</td>\n",
              "      <td>-0.131354</td>\n",
              "      <td>-0.138634</td>\n",
              "      <td>-0.147518</td>\n",
              "      <td>-0.160052</td>\n",
              "      <td>-0.175798</td>\n",
              "      <td>-0.193161</td>\n",
              "      <td>-0.211104</td>\n",
              "      <td>-0.228285</td>\n",
              "      <td>-0.243069</td>\n",
              "      <td>-0.269368</td>\n",
              "      <td>-0.276044</td>\n",
              "      <td>-0.299238</td>\n",
              "      <td>-0.308305</td>\n",
              "      <td>-0.315026</td>\n",
              "      <td>-0.329079</td>\n",
              "      <td>-0.343601</td>\n",
              "      <td>-0.356198</td>\n",
              "      <td>-0.363587</td>\n",
              "      <td>-0.361086</td>\n",
              "      <td>-0.359822</td>\n",
              "      <td>-0.343371</td>\n",
              "      <td>...</td>\n",
              "      <td>0.839880</td>\n",
              "      <td>0.922165</td>\n",
              "      <td>1.030927</td>\n",
              "      <td>1.148533</td>\n",
              "      <td>1.245474</td>\n",
              "      <td>1.278506</td>\n",
              "      <td>1.188410</td>\n",
              "      <td>1.047127</td>\n",
              "      <td>0.924997</td>\n",
              "      <td>0.820237</td>\n",
              "      <td>0.718438</td>\n",
              "      <td>0.626942</td>\n",
              "      <td>0.507614</td>\n",
              "      <td>0.367181</td>\n",
              "      <td>0.254663</td>\n",
              "      <td>0.112411</td>\n",
              "      <td>0.021386</td>\n",
              "      <td>-0.008728</td>\n",
              "      <td>-0.017624</td>\n",
              "      <td>-0.024967</td>\n",
              "      <td>-0.036221</td>\n",
              "      <td>-0.054501</td>\n",
              "      <td>-0.070819</td>\n",
              "      <td>-0.087635</td>\n",
              "      <td>-0.098353</td>\n",
              "      <td>-0.103667</td>\n",
              "      <td>-0.104560</td>\n",
              "      <td>-0.074941</td>\n",
              "      <td>0.015636</td>\n",
              "      <td>0.188872</td>\n",
              "      <td>0.473642</td>\n",
              "      <td>0.658318</td>\n",
              "      <td>0.717808</td>\n",
              "      <td>0.604747</td>\n",
              "      <td>0.334857</td>\n",
              "      <td>-0.030767</td>\n",
              "      <td>-0.195151</td>\n",
              "      <td>-0.194423</td>\n",
              "      <td>-0.160262</td>\n",
              "      <td>-0.565588</td>\n",
              "    </tr>\n",
              "    <tr>\n",
              "      <th>75%</th>\n",
              "      <td>2.000000</td>\n",
              "      <td>0.500061</td>\n",
              "      <td>-0.677290</td>\n",
              "      <td>-1.513964</td>\n",
              "      <td>-2.235369</td>\n",
              "      <td>-2.530967</td>\n",
              "      <td>-2.398813</td>\n",
              "      <td>-1.823494</td>\n",
              "      <td>-1.484923</td>\n",
              "      <td>-1.063708</td>\n",
              "      <td>-0.476660</td>\n",
              "      <td>-0.245829</td>\n",
              "      <td>-0.203943</td>\n",
              "      <td>-0.173206</td>\n",
              "      <td>-0.114979</td>\n",
              "      <td>-0.022799</td>\n",
              "      <td>0.079113</td>\n",
              "      <td>0.182544</td>\n",
              "      <td>0.254382</td>\n",
              "      <td>0.294451</td>\n",
              "      <td>0.307700</td>\n",
              "      <td>0.312671</td>\n",
              "      <td>0.309714</td>\n",
              "      <td>0.310192</td>\n",
              "      <td>0.310867</td>\n",
              "      <td>0.307251</td>\n",
              "      <td>0.310081</td>\n",
              "      <td>0.308852</td>\n",
              "      <td>0.303877</td>\n",
              "      <td>0.295029</td>\n",
              "      <td>0.291460</td>\n",
              "      <td>0.286058</td>\n",
              "      <td>0.277438</td>\n",
              "      <td>0.268212</td>\n",
              "      <td>0.267853</td>\n",
              "      <td>0.256795</td>\n",
              "      <td>0.238882</td>\n",
              "      <td>0.233686</td>\n",
              "      <td>0.222895</td>\n",
              "      <td>0.215748</td>\n",
              "      <td>...</td>\n",
              "      <td>1.312210</td>\n",
              "      <td>1.521455</td>\n",
              "      <td>1.701035</td>\n",
              "      <td>1.765994</td>\n",
              "      <td>1.752310</td>\n",
              "      <td>1.686186</td>\n",
              "      <td>1.586685</td>\n",
              "      <td>1.424607</td>\n",
              "      <td>1.240844</td>\n",
              "      <td>1.051336</td>\n",
              "      <td>0.929503</td>\n",
              "      <td>0.861611</td>\n",
              "      <td>0.807057</td>\n",
              "      <td>0.773711</td>\n",
              "      <td>0.713567</td>\n",
              "      <td>0.627149</td>\n",
              "      <td>0.572461</td>\n",
              "      <td>0.550587</td>\n",
              "      <td>0.520526</td>\n",
              "      <td>0.486922</td>\n",
              "      <td>0.438161</td>\n",
              "      <td>0.385089</td>\n",
              "      <td>0.317233</td>\n",
              "      <td>0.251191</td>\n",
              "      <td>0.200961</td>\n",
              "      <td>0.180407</td>\n",
              "      <td>0.177057</td>\n",
              "      <td>0.215272</td>\n",
              "      <td>0.346149</td>\n",
              "      <td>0.715405</td>\n",
              "      <td>1.062134</td>\n",
              "      <td>1.169420</td>\n",
              "      <td>1.238687</td>\n",
              "      <td>1.264471</td>\n",
              "      <td>1.234433</td>\n",
              "      <td>1.034584</td>\n",
              "      <td>0.945237</td>\n",
              "      <td>0.951681</td>\n",
              "      <td>1.002692</td>\n",
              "      <td>0.272012</td>\n",
              "    </tr>\n",
              "    <tr>\n",
              "      <th>max</th>\n",
              "      <td>5.000000</td>\n",
              "      <td>4.966414</td>\n",
              "      <td>3.479689</td>\n",
              "      <td>2.660597</td>\n",
              "      <td>1.899798</td>\n",
              "      <td>2.147015</td>\n",
              "      <td>1.614375</td>\n",
              "      <td>1.868728</td>\n",
              "      <td>1.804251</td>\n",
              "      <td>1.683730</td>\n",
              "      <td>1.898627</td>\n",
              "      <td>2.033007</td>\n",
              "      <td>2.159861</td>\n",
              "      <td>2.390867</td>\n",
              "      <td>2.433236</td>\n",
              "      <td>2.160356</td>\n",
              "      <td>2.125758</td>\n",
              "      <td>2.566762</td>\n",
              "      <td>2.099727</td>\n",
              "      <td>2.117594</td>\n",
              "      <td>2.076279</td>\n",
              "      <td>2.053132</td>\n",
              "      <td>2.091794</td>\n",
              "      <td>2.003258</td>\n",
              "      <td>1.950623</td>\n",
              "      <td>1.958402</td>\n",
              "      <td>1.966838</td>\n",
              "      <td>1.941571</td>\n",
              "      <td>1.964678</td>\n",
              "      <td>1.866897</td>\n",
              "      <td>1.870258</td>\n",
              "      <td>1.862162</td>\n",
              "      <td>2.063265</td>\n",
              "      <td>1.941110</td>\n",
              "      <td>1.931091</td>\n",
              "      <td>1.890201</td>\n",
              "      <td>1.834472</td>\n",
              "      <td>1.721037</td>\n",
              "      <td>1.619301</td>\n",
              "      <td>1.583824</td>\n",
              "      <td>...</td>\n",
              "      <td>2.942679</td>\n",
              "      <td>2.836767</td>\n",
              "      <td>2.820616</td>\n",
              "      <td>2.940154</td>\n",
              "      <td>2.685726</td>\n",
              "      <td>2.959324</td>\n",
              "      <td>2.895572</td>\n",
              "      <td>2.604823</td>\n",
              "      <td>2.478775</td>\n",
              "      <td>2.513328</td>\n",
              "      <td>2.599892</td>\n",
              "      <td>2.937152</td>\n",
              "      <td>2.950522</td>\n",
              "      <td>2.830852</td>\n",
              "      <td>2.861781</td>\n",
              "      <td>2.828775</td>\n",
              "      <td>2.702857</td>\n",
              "      <td>2.538437</td>\n",
              "      <td>2.680203</td>\n",
              "      <td>2.764017</td>\n",
              "      <td>2.839710</td>\n",
              "      <td>2.714548</td>\n",
              "      <td>2.869542</td>\n",
              "      <td>3.052377</td>\n",
              "      <td>3.141808</td>\n",
              "      <td>3.215135</td>\n",
              "      <td>3.198790</td>\n",
              "      <td>3.086137</td>\n",
              "      <td>3.157157</td>\n",
              "      <td>3.037078</td>\n",
              "      <td>2.960969</td>\n",
              "      <td>3.007606</td>\n",
              "      <td>2.854680</td>\n",
              "      <td>2.912394</td>\n",
              "      <td>2.937685</td>\n",
              "      <td>3.351437</td>\n",
              "      <td>3.432518</td>\n",
              "      <td>3.579448</td>\n",
              "      <td>4.425976</td>\n",
              "      <td>7.402103</td>\n",
              "    </tr>\n",
              "  </tbody>\n",
              "</table>\n",
              "<p>8 rows × 141 columns</p>\n",
              "</div>"
            ],
            "text/plain": [
              "                c0           c1  ...         c139         c140\n",
              "count  5000.000000  5000.000000  ...  5000.000000  5000.000000\n",
              "mean      1.527400    -0.262476  ...    -0.487242    -0.706008\n",
              "std       0.760372     1.152369  ...     1.830987     1.414465\n",
              "min       1.000000    -6.729499  ...    -5.880890    -6.092227\n",
              "25%       1.000000    -1.004511  ...    -1.657771    -1.596692\n",
              "50%       1.000000    -0.297541  ...    -0.160262    -0.565588\n",
              "75%       2.000000     0.500061  ...     1.002692     0.272012\n",
              "max       5.000000     4.966414  ...     4.425976     7.402103\n",
              "\n",
              "[8 rows x 141 columns]"
            ]
          },
          "metadata": {
            "tags": []
          },
          "execution_count": 17
        }
      ]
    },
    {
      "cell_type": "code",
      "metadata": {
        "id": "zJdLF0nb-zrk"
      },
      "source": [
        "train_x, test_x, train_y, test_y = train_test_split(df.values, df.values[:,0:1], test_size=0.2, random_state=True)"
      ],
      "execution_count": 18,
      "outputs": []
    },
    {
      "cell_type": "code",
      "metadata": {
        "id": "t1mGGhnV-zuF"
      },
      "source": [
        "scaler = MinMaxScaler()\n",
        "data_scaled = scaler.fit(train_x)"
      ],
      "execution_count": 20,
      "outputs": []
    },
    {
      "cell_type": "code",
      "metadata": {
        "id": "EOgtfl2j-zwf"
      },
      "source": [
        "train_x_scaled = data_scaled.transform(train_x)\n",
        "test_x_scaled = data_scaled.transform(test_x)"
      ],
      "execution_count": 23,
      "outputs": []
    },
    {
      "cell_type": "code",
      "metadata": {
        "id": "OJPVrpy--z1K"
      },
      "source": [
        "normal_train_data = pd.DataFrame(train_x_scaled).add_prefix('c').query(\"c0==0\").values[:,1:]\n",
        "anomaly_train_data = pd.DataFrame(train_x_scaled).add_prefix('c').query(\"c0>0\").values[:,1:]"
      ],
      "execution_count": 29,
      "outputs": []
    },
    {
      "cell_type": "code",
      "metadata": {
        "id": "ULOFsJuf-z42"
      },
      "source": [
        "normal_test_data = pd.DataFrame(test_x_scaled).add_prefix('c').query(\"c0==0\").values[:,1:]\n",
        "anomaly_test_data = pd.DataFrame(test_x_scaled).add_prefix('c').query(\"c0>0\").values[:,1:]"
      ],
      "execution_count": 30,
      "outputs": []
    },
    {
      "cell_type": "code",
      "metadata": {
        "colab": {
          "base_uri": "https://localhost:8080/",
          "height": 282
        },
        "id": "UEFrDvHF-z69",
        "outputId": "ac43080a-4838-4573-91c9-bc77de6678d2"
      },
      "source": [
        "plt.plot(normal_train_data[0])\n",
        "plt.plot(normal_train_data[1])\n",
        "plt.plot(normal_train_data[2])"
      ],
      "execution_count": 31,
      "outputs": [
        {
          "output_type": "execute_result",
          "data": {
            "text/plain": [
              "[<matplotlib.lines.Line2D at 0x7f2046c0ea10>]"
            ]
          },
          "metadata": {
            "tags": []
          },
          "execution_count": 31
        },
        {
          "output_type": "display_data",
          "data": {
            "image/png": "[encoded data removed]",
            "text/plain": [
              "<Figure size 432x288 with 1 Axes>"
            ]
          },
          "metadata": {
            "tags": [],
            "needs_background": "light"
          }
        }
      ]
    },
    {
      "cell_type": "code",
      "metadata": {
        "colab": {
          "base_uri": "https://localhost:8080/",
          "height": 282
        },
        "id": "okdybR77-z9p",
        "outputId": "6d689dc4-8870-4f34-cbb8-37b7cf0bf9d6"
      },
      "source": [
        "plt.plot(anomaly_train_data[0])\n",
        "plt.plot(anomaly_train_data[1])\n",
        "plt.plot(anomaly_train_data[2])"
      ],
      "execution_count": 32,
      "outputs": [
        {
          "output_type": "execute_result",
          "data": {
            "text/plain": [
              "[<matplotlib.lines.Line2D at 0x7f2046b8c810>]"
            ]
          },
          "metadata": {
            "tags": []
          },
          "execution_count": 32
        },
        {
          "output_type": "display_data",
          "data": {
            "image/png": "[encoded data removed]",
            "text/plain": [
              "<Figure size 432x288 with 1 Axes>"
            ]
          },
          "metadata": {
            "tags": [],
            "needs_background": "light"
          }
        }
      ]
    },
    {
      "cell_type": "code",
      "metadata": {
        "id": "ClCQcFaB-z_0"
      },
      "source": [
        "# DL model can be used\n",
        "\n",
        "model = tf.keras.Sequential()\n",
        "model.add(tf.keras.layers.Dense(64, activation='relu'))\n",
        "model.add(tf.keras.layers.Dense(32, activation='relu'))\n",
        "model.add(tf.keras.layers.Dense(16, activation='relu'))\n",
        "model.add(tf.keras.layers.Dense(8, activation='relu'))\n",
        "model.add(tf.keras.layers.Dense(16, activation='relu'))\n",
        "model.add(tf.keras.layers.Dense(32, activation='relu'))\n",
        "model.add(tf.keras.layers.Dense(64, activation='relu'))\n",
        "model.add(tf.keras.layers.Dense(140, activation='sigmoid'))"
      ],
      "execution_count": 33,
      "outputs": []
    },
    {
      "cell_type": "code",
      "metadata": {
        "id": "2KxiOSTF-0CD"
      },
      "source": [
        "class AutoEncoder(Model):\n",
        "  def __init__(self):\n",
        "    super(AutoEncoder, self).__init__()\n",
        "    self.encoder = tf.keras.Sequential([\n",
        "            tf.keras.layers.Dense(64, activation='relu'),\n",
        "            tf.keras.layers.Dense(32, activation='relu'),\n",
        "            tf.keras.layers.Dense(16, activation='relu'),\n",
        "            tf.keras.layers.Dense(8, activation='relu')])\n",
        "    \n",
        "    self.decoder = tf.keras.Sequential([\n",
        "            tf.keras.layers.Dense(16, activation='relu'),\n",
        "            tf.keras.layers.Dense(32, activation='relu'),\n",
        "            tf.keras.layers.Dense(64, activation='relu'),\n",
        "            tf.keras.layers.Dense(140, activation='sigmoid')])\n",
        "    \n",
        "  def call(self,x):\n",
        "    encoded = self.encoder(x)\n",
        "    decoded = self.decoder(encoded)\n",
        "    return decoded "
      ],
      "execution_count": 34,
      "outputs": []
    },
    {
      "cell_type": "code",
      "metadata": {
        "id": "4zzj3-wP-0NK"
      },
      "source": [
        "model = AutoEncoder()\n",
        "early_stopping = tf.keras.callbacks.EarlyStopping(monitor='val_loss',\n",
        "                                                  patience=2,\n",
        "                                                  mode='min')\n",
        "\n",
        "model.compile(optimizer='adam', loss='mae')"
      ],
      "execution_count": 35,
      "outputs": []
    },
    {
      "cell_type": "code",
      "metadata": {
        "colab": {
          "base_uri": "https://localhost:8080/"
        },
        "id": "Z20WiFShDKZV",
        "outputId": "a75d298b-e932-46cd-89d7-776ccccb3ff3"
      },
      "source": [
        "history = model.fit(normal_train_data, normal_train_data,\n",
        "                    epochs=50, batch_size=128,\n",
        "                    validation_data=(train_x_scaled[:,1:], train_x_scaled[:,1:]),\n",
        "                    shuffle=True,\n",
        "                    callbacks=[early_stopping])"
      ],
      "execution_count": 37,
      "outputs": [
        {
          "output_type": "stream",
          "text": [
            "Epoch 1/50\n",
            "19/19 [==============================] - 1s 14ms/step - loss: 0.1229 - val_loss: 0.1050\n",
            "Epoch 2/50\n",
            "19/19 [==============================] - 0s 5ms/step - loss: 0.0746 - val_loss: 0.0800\n",
            "Epoch 3/50\n",
            "19/19 [==============================] - 0s 5ms/step - loss: 0.0504 - val_loss: 0.0747\n",
            "Epoch 4/50\n",
            "19/19 [==============================] - 0s 7ms/step - loss: 0.0464 - val_loss: 0.0748\n",
            "Epoch 5/50\n",
            "19/19 [==============================] - 0s 7ms/step - loss: 0.0458 - val_loss: 0.0736\n",
            "Epoch 6/50\n",
            "19/19 [==============================] - 0s 7ms/step - loss: 0.0456 - val_loss: 0.0735\n",
            "Epoch 7/50\n",
            "19/19 [==============================] - 0s 5ms/step - loss: 0.0455 - val_loss: 0.0729\n",
            "Epoch 8/50\n",
            "19/19 [==============================] - 0s 5ms/step - loss: 0.0454 - val_loss: 0.0727\n",
            "Epoch 9/50\n",
            "19/19 [==============================] - 0s 7ms/step - loss: 0.0452 - val_loss: 0.0727\n",
            "Epoch 10/50\n",
            "19/19 [==============================] - 0s 5ms/step - loss: 0.0449 - val_loss: 0.0722\n",
            "Epoch 11/50\n",
            "19/19 [==============================] - 0s 7ms/step - loss: 0.0446 - val_loss: 0.0715\n",
            "Epoch 12/50\n",
            "19/19 [==============================] - 0s 5ms/step - loss: 0.0435 - val_loss: 0.0700\n",
            "Epoch 13/50\n",
            "19/19 [==============================] - 0s 5ms/step - loss: 0.0411 - val_loss: 0.0662\n",
            "Epoch 14/50\n",
            "19/19 [==============================] - 0s 5ms/step - loss: 0.0382 - val_loss: 0.0631\n",
            "Epoch 15/50\n",
            "19/19 [==============================] - 0s 5ms/step - loss: 0.0368 - val_loss: 0.0616\n",
            "Epoch 16/50\n",
            "19/19 [==============================] - 0s 7ms/step - loss: 0.0358 - val_loss: 0.0608\n",
            "Epoch 17/50\n",
            "19/19 [==============================] - 0s 5ms/step - loss: 0.0354 - val_loss: 0.0604\n",
            "Epoch 18/50\n",
            "19/19 [==============================] - 0s 7ms/step - loss: 0.0350 - val_loss: 0.0603\n",
            "Epoch 19/50\n",
            "19/19 [==============================] - 0s 7ms/step - loss: 0.0348 - val_loss: 0.0600\n",
            "Epoch 20/50\n",
            "19/19 [==============================] - 0s 6ms/step - loss: 0.0346 - val_loss: 0.0597\n",
            "Epoch 21/50\n",
            "19/19 [==============================] - 0s 6ms/step - loss: 0.0345 - val_loss: 0.0600\n",
            "Epoch 22/50\n",
            "19/19 [==============================] - 0s 5ms/step - loss: 0.0343 - val_loss: 0.0592\n",
            "Epoch 23/50\n",
            "19/19 [==============================] - 0s 5ms/step - loss: 0.0341 - val_loss: 0.0590\n",
            "Epoch 24/50\n",
            "19/19 [==============================] - 0s 7ms/step - loss: 0.0340 - val_loss: 0.0591\n",
            "Epoch 25/50\n",
            "19/19 [==============================] - 0s 7ms/step - loss: 0.0339 - val_loss: 0.0586\n",
            "Epoch 26/50\n",
            "19/19 [==============================] - 0s 5ms/step - loss: 0.0337 - val_loss: 0.0584\n",
            "Epoch 27/50\n",
            "19/19 [==============================] - 0s 6ms/step - loss: 0.0336 - val_loss: 0.0581\n",
            "Epoch 28/50\n",
            "19/19 [==============================] - 0s 6ms/step - loss: 0.0333 - val_loss: 0.0574\n",
            "Epoch 29/50\n",
            "19/19 [==============================] - 0s 7ms/step - loss: 0.0329 - val_loss: 0.0573\n",
            "Epoch 30/50\n",
            "19/19 [==============================] - 0s 5ms/step - loss: 0.0324 - val_loss: 0.0557\n",
            "Epoch 31/50\n",
            "19/19 [==============================] - 0s 5ms/step - loss: 0.0316 - val_loss: 0.0546\n",
            "Epoch 32/50\n",
            "19/19 [==============================] - 0s 7ms/step - loss: 0.0299 - val_loss: 0.0535\n",
            "Epoch 33/50\n",
            "19/19 [==============================] - 0s 7ms/step - loss: 0.0294 - val_loss: 0.0521\n",
            "Epoch 34/50\n",
            "19/19 [==============================] - 0s 7ms/step - loss: 0.0287 - val_loss: 0.0523\n",
            "Epoch 35/50\n",
            "19/19 [==============================] - 0s 5ms/step - loss: 0.0282 - val_loss: 0.0520\n",
            "Epoch 36/50\n",
            "19/19 [==============================] - 0s 6ms/step - loss: 0.0279 - val_loss: 0.0510\n",
            "Epoch 37/50\n",
            "19/19 [==============================] - 0s 6ms/step - loss: 0.0276 - val_loss: 0.0506\n",
            "Epoch 38/50\n",
            "19/19 [==============================] - 0s 7ms/step - loss: 0.0273 - val_loss: 0.0509\n",
            "Epoch 39/50\n",
            "19/19 [==============================] - 0s 5ms/step - loss: 0.0271 - val_loss: 0.0506\n"
          ],
          "name": "stdout"
        }
      ]
    },
    {
      "cell_type": "code",
      "metadata": {
        "id": "u7mAcZUADKcR"
      },
      "source": [
        "encoder_out = model.encoder(normal_test_data).numpy()\n",
        "decoder_out = model.decoder(encoder_out).numpy()"
      ],
      "execution_count": 38,
      "outputs": []
    },
    {
      "cell_type": "code",
      "metadata": {
        "colab": {
          "base_uri": "https://localhost:8080/"
        },
        "id": "H1yltBIYDKhB",
        "outputId": "6765b667-cefd-4660-acb4-c36dadd13f81"
      },
      "source": [
        "encoder_out.shape"
      ],
      "execution_count": 39,
      "outputs": [
        {
          "output_type": "execute_result",
          "data": {
            "text/plain": [
              "(599, 8)"
            ]
          },
          "metadata": {
            "tags": []
          },
          "execution_count": 39
        }
      ]
    },
    {
      "cell_type": "code",
      "metadata": {
        "colab": {
          "base_uri": "https://localhost:8080/"
        },
        "id": "gUrhEG4zDKkE",
        "outputId": "fe8c4e1f-5713-493e-bb0f-362d24f4576b"
      },
      "source": [
        "decoder_out.shape"
      ],
      "execution_count": 40,
      "outputs": [
        {
          "output_type": "execute_result",
          "data": {
            "text/plain": [
              "(599, 140)"
            ]
          },
          "metadata": {
            "tags": []
          },
          "execution_count": 40
        }
      ]
    },
    {
      "cell_type": "code",
      "metadata": {
        "colab": {
          "base_uri": "https://localhost:8080/",
          "height": 282
        },
        "id": "bZG99ZfBDKmS",
        "outputId": "d8d54c3f-6aa4-4fa2-b0eb-9898dd3a390f"
      },
      "source": [
        "plt.plot(normal_test_data[0],'b')\n",
        "plt.plot(decoder_out[0], 'r')"
      ],
      "execution_count": 41,
      "outputs": [
        {
          "output_type": "execute_result",
          "data": {
            "text/plain": [
              "[<matplotlib.lines.Line2D at 0x7f2043868690>]"
            ]
          },
          "metadata": {
            "tags": []
          },
          "execution_count": 41
        },
        {
          "output_type": "display_data",
          "data": {
            "image/png": "[encoded data removed]",
            "text/plain": [
              "<Figure size 432x288 with 1 Axes>"
            ]
          },
          "metadata": {
            "tags": [],
            "needs_background": "light"
          }
        }
      ]
    },
    {
      "cell_type": "code",
      "metadata": {
        "id": "IHCRQbltDKo9"
      },
      "source": [
        "encoder_out_a = model.encoder(anomaly_test_data).numpy()\n",
        "decoder_out_a = model.decoder(encoder_out_a).numpy()"
      ],
      "execution_count": 43,
      "outputs": []
    },
    {
      "cell_type": "code",
      "metadata": {
        "colab": {
          "base_uri": "https://localhost:8080/",
          "height": 282
        },
        "id": "_9uAIQ-xDKrx",
        "outputId": "11dd1390-109d-4119-9bf3-6574ec906180"
      },
      "source": [
        "plt.plot(anomaly_test_data[0],'b')\n",
        "plt.plot(decoder_out_a[0], 'r')"
      ],
      "execution_count": 44,
      "outputs": [
        {
          "output_type": "execute_result",
          "data": {
            "text/plain": [
              "[<matplotlib.lines.Line2D at 0x7f203de6cfd0>]"
            ]
          },
          "metadata": {
            "tags": []
          },
          "execution_count": 44
        },
        {
          "output_type": "display_data",
          "data": {
            "image/png": "[encoded data removed]",
            "text/plain": [
              "<Figure size 432x288 with 1 Axes>"
            ]
          },
          "metadata": {
            "tags": [],
            "needs_background": "light"
          }
        }
      ]
    },
    {
      "cell_type": "code",
      "metadata": {
        "colab": {
          "base_uri": "https://localhost:8080/",
          "height": 540
        },
        "id": "elR87cxHDKu_",
        "outputId": "b66aef3f-4801-4372-f210-ad4bbb98a8e4"
      },
      "source": [
        "reconstructs = model.predict(normal_test_data)\n",
        "train_loss = tf.keras.losses.mae(reconstructs, normal_test_data)\n",
        "\n",
        "plt.hist(train_loss, bins=50)"
      ],
      "execution_count": 46,
      "outputs": [
        {
          "output_type": "execute_result",
          "data": {
            "text/plain": [
              "(array([13., 51., 88., 96., 73., 54., 56., 35., 26., 21., 26., 17., 12.,\n",
              "        11.,  4.,  2.,  3.,  1.,  2.,  0.,  0.,  1.,  0.,  0.,  0.,  0.,\n",
              "         1.,  3.,  0.,  0.,  0.,  0.,  1.,  0.,  0.,  0.,  0.,  0.,  1.,\n",
              "         0.,  0.,  0.,  0.,  0.,  0.,  0.,  0.,  0.,  0.,  1.]),\n",
              " array([0.01077532, 0.01362438, 0.01647343, 0.01932249, 0.02217154,\n",
              "        0.0250206 , 0.02786965, 0.03071871, 0.03356777, 0.03641682,\n",
              "        0.03926588, 0.04211493, 0.04496399, 0.04781304, 0.0506621 ,\n",
              "        0.05351115, 0.05636021, 0.05920927, 0.06205832, 0.06490738,\n",
              "        0.06775643, 0.07060549, 0.07345454, 0.0763036 , 0.07915265,\n",
              "        0.08200171, 0.08485077, 0.08769982, 0.09054888, 0.09339793,\n",
              "        0.09624699, 0.09909604, 0.1019451 , 0.10479415, 0.10764321,\n",
              "        0.11049227, 0.11334132, 0.11619038, 0.11903943, 0.12188849,\n",
              "        0.12473754, 0.1275866 , 0.13043565, 0.13328471, 0.13613377,\n",
              "        0.13898282, 0.14183188, 0.14468093, 0.14752999, 0.15037904,\n",
              "        0.1532281 ]),\n",
              " <a list of 50 Patch objects>)"
            ]
          },
          "metadata": {
            "tags": []
          },
          "execution_count": 46
        },
        {
          "output_type": "display_data",
          "data": {
            "image/png": "[encoded data removed]",
            "text/plain": [
              "<Figure size 432x288 with 1 Axes>"
            ]
          },
          "metadata": {
            "tags": [],
            "needs_background": "light"
          }
        }
      ]
    },
    {
      "cell_type": "code",
      "metadata": {
        "colab": {
          "base_uri": "https://localhost:8080/"
        },
        "id": "oM2Kk8CQFJd5",
        "outputId": "8851cf52-6da2-4c30-837d-aa844a0975c3"
      },
      "source": [
        "np.mean(train_loss)"
      ],
      "execution_count": 47,
      "outputs": [
        {
          "output_type": "execute_result",
          "data": {
            "text/plain": [
              "0.027516718305749678"
            ]
          },
          "metadata": {
            "tags": []
          },
          "execution_count": 47
        }
      ]
    },
    {
      "cell_type": "code",
      "metadata": {
        "colab": {
          "base_uri": "https://localhost:8080/"
        },
        "id": "a7dTOx18FJhB",
        "outputId": "c8d7ea6e-bf04-491f-adce-977d3e974780"
      },
      "source": [
        "np.std(train_loss)"
      ],
      "execution_count": 48,
      "outputs": [
        {
          "output_type": "execute_result",
          "data": {
            "text/plain": [
              "0.013268409510320149"
            ]
          },
          "metadata": {
            "tags": []
          },
          "execution_count": 48
        }
      ]
    },
    {
      "cell_type": "code",
      "metadata": {
        "id": "AFNkRDJMFJj6"
      },
      "source": [
        "threshold = np.mean(train_loss) + 2*np.std(train_loss)"
      ],
      "execution_count": 49,
      "outputs": []
    },
    {
      "cell_type": "code",
      "metadata": {
        "colab": {
          "base_uri": "https://localhost:8080/"
        },
        "id": "s2a0NgiKFeBW",
        "outputId": "53e6c139-fbe9-4efe-9922-7bc6657f5c33"
      },
      "source": [
        "threshold"
      ],
      "execution_count": 50,
      "outputs": [
        {
          "output_type": "execute_result",
          "data": {
            "text/plain": [
              "0.054053537326389976"
            ]
          },
          "metadata": {
            "tags": []
          },
          "execution_count": 50
        }
      ]
    },
    {
      "cell_type": "code",
      "metadata": {
        "colab": {
          "base_uri": "https://localhost:8080/",
          "height": 537
        },
        "id": "Z9-nhCQcFeEl",
        "outputId": "e09ac51d-27f8-413e-ada5-575a8aa9d5a2"
      },
      "source": [
        "reconstructs_a = model.predict(anomaly_test_data)\n",
        "train_loss_a = tf.keras.losses.mae(reconstructs_a, anomaly_test_data)\n",
        "plt.hist(train_loss_a, bins=50)"
      ],
      "execution_count": 54,
      "outputs": [
        {
          "output_type": "execute_result",
          "data": {
            "text/plain": [
              "(array([ 1.,  0.,  1.,  0.,  0.,  1.,  1.,  1.,  0.,  1.,  3.,  4.,  3.,\n",
              "         6., 14., 18., 23., 30., 32., 25., 47., 36., 38., 29., 22., 26.,\n",
              "        11., 12.,  3.,  2.,  0.,  3.,  0.,  0.,  1.,  1.,  0.,  0.,  0.,\n",
              "         0.,  2.,  0.,  0.,  0.,  0.,  2.,  0.,  1.,  0.,  1.]),\n",
              " array([0.03384898, 0.03621877, 0.03858857, 0.04095836, 0.04332816,\n",
              "        0.04569796, 0.04806775, 0.05043755, 0.05280734, 0.05517714,\n",
              "        0.05754693, 0.05991673, 0.06228652, 0.06465632, 0.06702611,\n",
              "        0.06939591, 0.0717657 , 0.0741355 , 0.07650529, 0.07887509,\n",
              "        0.08124488, 0.08361468, 0.08598447, 0.08835427, 0.09072407,\n",
              "        0.09309386, 0.09546366, 0.09783345, 0.10020325, 0.10257304,\n",
              "        0.10494284, 0.10731263, 0.10968243, 0.11205222, 0.11442202,\n",
              "        0.11679181, 0.11916161, 0.1215314 , 0.1239012 , 0.12627099,\n",
              "        0.12864079, 0.13101058, 0.13338038, 0.13575018, 0.13811997,\n",
              "        0.14048977, 0.14285956, 0.14522936, 0.14759915, 0.14996895,\n",
              "        0.15233874]),\n",
              " <a list of 50 Patch objects>)"
            ]
          },
          "metadata": {
            "tags": []
          },
          "execution_count": 54
        },
        {
          "output_type": "display_data",
          "data": {
            "image/png": "[encoded data removed]",
            "text/plain": [
              "<Figure size 432x288 with 1 Axes>"
            ]
          },
          "metadata": {
            "tags": [],
            "needs_background": "light"
          }
        }
      ]
    },
    {
      "cell_type": "code",
      "metadata": {
        "colab": {
          "base_uri": "https://localhost:8080/",
          "height": 268
        },
        "id": "nm5qk7_wFeHk",
        "outputId": "d9ed2a22-cea0-48cb-ba52-49a4c78169a7"
      },
      "source": [
        "plt.hist(train_loss, bins=50, label='normal')\n",
        "plt.hist(train_loss_a, bins=50, label='anomaly')\n",
        "plt.axvline(threshold, color='r', linewidth=3, linestyle='dashed',\n",
        "            label='{:0.3f}'.format(threshold))\n",
        "plt.legend(loc='upper right')\n",
        "plt.show()"
      ],
      "execution_count": 56,
      "outputs": [
        {
          "output_type": "display_data",
          "data": {
            "image/png": "[encoded data removed]",
            "text/plain": [
              "<Figure size 432x288 with 1 Axes>"
            ]
          },
          "metadata": {
            "tags": [],
            "needs_background": "light"
          }
        }
      ]
    },
    {
      "cell_type": "code",
      "metadata": {
        "colab": {
          "base_uri": "https://localhost:8080/"
        },
        "id": "rRtG2HuOG33n",
        "outputId": "54a5ac7a-136a-498b-a727-0aca0cd48f65"
      },
      "source": [
        "np.mean(train_loss_a)"
      ],
      "execution_count": 57,
      "outputs": [
        {
          "output_type": "execute_result",
          "data": {
            "text/plain": [
              "0.08333364141515562"
            ]
          },
          "metadata": {
            "tags": []
          },
          "execution_count": 57
        }
      ]
    },
    {
      "cell_type": "code",
      "metadata": {
        "colab": {
          "base_uri": "https://localhost:8080/"
        },
        "id": "RS9Wpyi_G36n",
        "outputId": "5ca15347-37e2-414b-9f67-367387b03060"
      },
      "source": [
        "np.std(train_loss_a)"
      ],
      "execution_count": 58,
      "outputs": [
        {
          "output_type": "execute_result",
          "data": {
            "text/plain": [
              "0.012639546047470689"
            ]
          },
          "metadata": {
            "tags": []
          },
          "execution_count": 58
        }
      ]
    },
    {
      "cell_type": "code",
      "metadata": {
        "id": "9mv3gtI2G39A"
      },
      "source": [
        ""
      ],
      "execution_count": null,
      "outputs": []
    },
    {
      "cell_type": "code",
      "metadata": {
        "id": "5u0N2Y9OG3_4"
      },
      "source": [
        ""
      ],
      "execution_count": null,
      "outputs": []
    },
    {
      "cell_type": "code",
      "metadata": {
        "id": "pWWVuIHeFeKp"
      },
      "source": [
        ""
      ],
      "execution_count": null,
      "outputs": []
    }
  ]
}