{
  "nbformat": 4,
  "nbformat_minor": 0,
  "metadata": {
    "colab": {
      "name": "AutoEncoders.ipynb",
      "provenance": [],
      "collapsed_sections": []
    },
    "kernelspec": {
      "name": "python3",
      "display_name": "Python 3"
    },
    "language_info": {
      "name": "python"
    }
  },
  "cells": [
    {
      "cell_type": "markdown",
      "metadata": {
        "id": "ukiiZhNj0FNJ"
      },
      "source": [
        "Unsupervised algorithm\n",
        "\n",
        "Can be used for dimensionality reduction and can work well on non linear datasets"
      ]
    },
    {
      "cell_type": "code",
      "metadata": {
        "id": "PS_iQAzb0DDs"
      },
      "source": [
        "import pandas as pd\n",
        "import matplotlib.pyplot as plt\n",
        "import matplotlib as mpl\n",
        "\n",
        "import tensorflow as tf\n",
        "from tensorflow.keras.models import Model \n",
        "import numpy as np \n",
        "\n",
        "from sklearn.model_selection import train_test_split\n",
        "from sklearn.preprocessing import MinMaxScaler, StandardScaler \n",
        "\n",
        "mpl.rcParams['figure.figsize'] = (10,8)\n",
        "mpl.rcParams['axes.grid'] = False"
      ],
      "execution_count": 1,
      "outputs": []
    },
    {
      "cell_type": "code",
      "metadata": {
        "colab": {
          "base_uri": "https://localhost:8080/"
        },
        "id": "vXArArYP8YD3",
        "outputId": "2b8e38f8-b39b-4313-daee-bd0cfb3683bb"
      },
      "source": [
        "!wget http://www.timeseriesclassification.com/Downloads/ECG5000.zip\n",
        "!unzip ECG5000.zip"
      ],
      "execution_count": 2,
      "outputs": [
        {
          "output_type": "stream",
          "text": [
            "--2021-05-26 23:11:27--  http://www.timeseriesclassification.com/Downloads/ECG5000.zip\n",
            "Resolving www.timeseriesclassification.com (www.timeseriesclassification.com)... 109.123.71.232\n",
            "Connecting to www.timeseriesclassification.com (www.timeseriesclassification.com)|109.123.71.232|:80... connected.\n",
            "HTTP request sent, awaiting response... 200 OK\n",
            "Length: 10614407 (10M) [application/zip]\n",
            "Saving to: ‘ECG5000.zip’\n",
            "\n",
            "ECG5000.zip         100%[===================>]  10.12M  13.1MB/s    in 0.8s    \n",
            "\n",
            "2021-05-26 23:11:28 (13.1 MB/s) - ‘ECG5000.zip’ saved [10614407/10614407]\n",
            "\n",
            "Archive:  ECG5000.zip\n",
            "  inflating: ECG5000.txt             \n",
            "  inflating: ECG5000_TEST.arff       \n",
            "  inflating: ECG5000_TEST.txt        \n",
            "  inflating: ECG5000_TRAIN.arff      \n",
            "  inflating: ECG5000_TRAIN.txt       \n",
            "  inflating: ECG5000_TEST.ts         \n",
            "  inflating: ECG5000_TRAIN.ts        \n"
          ],
          "name": "stdout"
        }
      ]
    },
    {
      "cell_type": "code",
      "metadata": {
        "id": "r5Cm4iie9H3C"
      },
      "source": [
        "!cat ECG5000_TRAIN.txt ECG5000_TEST.txt > ecg_final.txt"
      ],
      "execution_count": null,
      "outputs": []
    },
    {
      "cell_type": "code",
      "metadata": {
        "colab": {
          "base_uri": "https://localhost:8080/"
        },
        "id": "AwREO5dZ8YGz",
        "outputId": "b9073c0c-12af-44ac-8faf-3cc38095e4d9"
      },
      "source": [
        "df =  pd.read_csv('ecg_final.txt', sep='  ', header=None)"
      ],
      "execution_count": 12,
      "outputs": [
        {
          "output_type": "stream",
          "text": [
            "/usr/local/lib/python3.7/dist-packages/ipykernel_launcher.py:1: ParserWarning: Falling back to the 'python' engine because the 'c' engine does not support regex separators (separators > 1 char and different from '\\s+' are interpreted as regex); you can avoid this warning by specifying engine='python'.\n",
            "  \"\"\"Entry point for launching an IPython kernel.\n"
          ],
          "name": "stderr"
        }
      ]
    },
    {
      "cell_type": "code",
      "metadata": {
        "colab": {
          "base_uri": "https://localhost:8080/"
        },
        "id": "10VDBPkJ8YKi",
        "outputId": "abac0246-8020-49d9-9f12-631575492431"
      },
      "source": [
        "df.info()"
      ],
      "execution_count": 13,
      "outputs": [
        {
          "output_type": "stream",
          "text": [
            "<class 'pandas.core.frame.DataFrame'>\n",
            "RangeIndex: 5000 entries, 0 to 4999\n",
            "Columns: 141 entries, 0 to 140\n",
            "dtypes: float64(141)\n",
            "memory usage: 5.4 MB\n"
          ],
          "name": "stdout"
        }
      ]
    },
    {
      "cell_type": "code",
      "metadata": {
        "colab": {
          "base_uri": "https://localhost:8080/"
        },
        "id": "jZYXDwpg8YMd",
        "outputId": "db855918-4b22-490e-825f-ab2256990fcb"
      },
      "source": [
        "df.columns"
      ],
      "execution_count": 14,
      "outputs": [
        {
          "output_type": "execute_result",
          "data": {
            "text/plain": [
              "Int64Index([  0,   1,   2,   3,   4,   5,   6,   7,   8,   9,\n",
              "            ...\n",
              "            131, 132, 133, 134, 135, 136, 137, 138, 139, 140],\n",
              "           dtype='int64', length=141)"
            ]
          },
          "metadata": {
            "tags": []
          },
          "execution_count": 14
        }
      ]
    },
    {
      "cell_type": "code",
      "metadata": {
        "id": "f41AmG858YR-"
      },
      "source": [
        "df = df.add_prefix('c')"
      ],
      "execution_count": 15,
      "outputs": []
    },
    {
      "cell_type": "code",
      "metadata": {
        "colab": {
          "base_uri": "https://localhost:8080/"
        },
        "id": "DHrU82RQ8YVA",
        "outputId": "4d27c677-3dab-4492-c7d6-246abce4219f"
      },
      "source": [
        "df['c0'].value_counts()"
      ],
      "execution_count": 16,
      "outputs": [
        {
          "output_type": "execute_result",
          "data": {
            "text/plain": [
              "1.0    2919\n",
              "2.0    1767\n",
              "4.0     194\n",
              "3.0      96\n",
              "5.0      24\n",
              "Name: c0, dtype: int64"
            ]
          },
          "metadata": {
            "tags": []
          },
          "execution_count": 16
        }
      ]
    },
    {
      "cell_type": "code",
      "metadata": {
        "id": "xnyF8Ekp-zo0"
      },
      "source": [
        ""
      ],
      "execution_count": null,
      "outputs": []
    },
    {
      "cell_type": "code",
      "metadata": {
        "id": "zJdLF0nb-zrk"
      },
      "source": [
        ""
      ],
      "execution_count": null,
      "outputs": []
    },
    {
      "cell_type": "code",
      "metadata": {
        "id": "t1mGGhnV-zuF"
      },
      "source": [
        ""
      ],
      "execution_count": null,
      "outputs": []
    },
    {
      "cell_type": "code",
      "metadata": {
        "id": "EOgtfl2j-zwf"
      },
      "source": [
        ""
      ],
      "execution_count": null,
      "outputs": []
    },
    {
      "cell_type": "code",
      "metadata": {
        "id": "OJPVrpy--z1K"
      },
      "source": [
        ""
      ],
      "execution_count": null,
      "outputs": []
    },
    {
      "cell_type": "code",
      "metadata": {
        "id": "ULOFsJuf-z42"
      },
      "source": [
        ""
      ],
      "execution_count": null,
      "outputs": []
    },
    {
      "cell_type": "code",
      "metadata": {
        "id": "UEFrDvHF-z69"
      },
      "source": [
        ""
      ],
      "execution_count": null,
      "outputs": []
    },
    {
      "cell_type": "code",
      "metadata": {
        "id": "okdybR77-z9p"
      },
      "source": [
        ""
      ],
      "execution_count": null,
      "outputs": []
    },
    {
      "cell_type": "code",
      "metadata": {
        "id": "ClCQcFaB-z_0"
      },
      "source": [
        ""
      ],
      "execution_count": null,
      "outputs": []
    },
    {
      "cell_type": "code",
      "metadata": {
        "id": "2KxiOSTF-0CD"
      },
      "source": [
        ""
      ],
      "execution_count": null,
      "outputs": []
    },
    {
      "cell_type": "code",
      "metadata": {
        "id": "4zzj3-wP-0NK"
      },
      "source": [
        ""
      ],
      "execution_count": null,
      "outputs": []
    }
  ]
}