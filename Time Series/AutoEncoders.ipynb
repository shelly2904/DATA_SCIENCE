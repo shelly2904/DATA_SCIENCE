{
  "nbformat": 4,
  "nbformat_minor": 0,
  "metadata": {
    "colab": {
      "name": "AutoEncoders.ipynb",
      "provenance": []
    },
    "kernelspec": {
      "name": "python3",
      "display_name": "Python 3"
    },
    "language_info": {
      "name": "python"
    }
  },
  "cells": [
    {
      "cell_type": "markdown",
      "metadata": {
        "id": "ukiiZhNj0FNJ"
      },
      "source": [
        "Unsupervised algorithm\n",
        "\n",
        "Can be used for dimensionality reduction and can work well on non linear datasets"
      ]
    },
    {
      "cell_type": "code",
      "metadata": {
        "id": "PS_iQAzb0DDs"
      },
      "source": [
        ""
      ],
      "execution_count": null,
      "outputs": []
    }
  ]
}