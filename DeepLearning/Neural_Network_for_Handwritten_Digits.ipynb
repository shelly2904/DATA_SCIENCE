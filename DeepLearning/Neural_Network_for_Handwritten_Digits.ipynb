{
  "nbformat": 4,
  "nbformat_minor": 0,
  "metadata": {
    "colab": {
      "name": "Neural_Network_for_Handwritten_Digits.ipynb",
      "provenance": [],
      "collapsed_sections": []
    },
    "kernelspec": {
      "name": "python3",
      "display_name": "Python 3"
    },
    "language_info": {
      "name": "python"
    }
  },
  "cells": [
    {
      "cell_type": "markdown",
      "metadata": {
        "id": "RLiNC5jSIGZN"
      },
      "source": [
        "Two parts of a neuron: summation and activation.\n",
        "\n",
        "Dense means every neuron in a layer is connected to every other neurons in next layer"
      ]
    },
    {
      "cell_type": "code",
      "metadata": {
        "id": "9A8fZTnlHzkb"
      },
      "source": [
        "import tensorflow as tf\n",
        "from tensorflow import keras\n",
        "import matplotlib.pyplot as plt\n",
        "%matplotlib inline\n",
        "import numpy as np"
      ],
      "execution_count": 49,
      "outputs": []
    },
    {
      "cell_type": "code",
      "metadata": {
        "id": "XWJg-uLrI3Nz"
      },
      "source": [
        "(X_train, y_train), (X_test, y_test) = keras.datasets.mnist.load_data()"
      ],
      "execution_count": 50,
      "outputs": []
    },
    {
      "cell_type": "code",
      "metadata": {
        "colab": {
          "base_uri": "https://localhost:8080/"
        },
        "id": "N8TwOcL3I3Qp",
        "outputId": "80e34a49-f019-4f00-9133-0a264667ad03"
      },
      "source": [
        "len(X_train), len(X_test)"
      ],
      "execution_count": 51,
      "outputs": [
        {
          "output_type": "execute_result",
          "data": {
            "text/plain": [
              "(60000, 10000)"
            ]
          },
          "metadata": {
            "tags": []
          },
          "execution_count": 51
        }
      ]
    },
    {
      "cell_type": "code",
      "metadata": {
        "colab": {
          "base_uri": "https://localhost:8080/"
        },
        "id": "24NR8x60MXeB",
        "outputId": "c3294f18-b53f-4cd5-ca81-0c8c128a8853"
      },
      "source": [
        "X_train[0].shape, X_test[0].shape"
      ],
      "execution_count": 52,
      "outputs": [
        {
          "output_type": "execute_result",
          "data": {
            "text/plain": [
              "((28, 28), (28, 28))"
            ]
          },
          "metadata": {
            "tags": []
          },
          "execution_count": 52
        }
      ]
    },
    {
      "cell_type": "markdown",
      "metadata": {
        "id": "1Q49q-A5LEce"
      },
      "source": [
        "Scaling improves the accuracy"
      ]
    },
    {
      "cell_type": "code",
      "metadata": {
        "id": "rS_AjUCOK94E"
      },
      "source": [
        "X_train = X_train/255\n",
        "X_test = X_test/255"
      ],
      "execution_count": 53,
      "outputs": []
    },
    {
      "cell_type": "code",
      "metadata": {
        "colab": {
          "base_uri": "https://localhost:8080/",
          "height": 292
        },
        "id": "-N2hU5HyI3WM",
        "outputId": "e5881613-2d5f-4022-e046-4b567097420e"
      },
      "source": [
        "plt.matshow(X_train[4])"
      ],
      "execution_count": 54,
      "outputs": [
        {
          "output_type": "execute_result",
          "data": {
            "text/plain": [
              "<matplotlib.image.AxesImage at 0x7fc912dc6410>"
            ]
          },
          "metadata": {
            "tags": []
          },
          "execution_count": 54
        },
        {
          "output_type": "display_data",
          "data": {
            "image/png": "[encoded data removed]",
            "text/plain": [
              "<Figure size 288x288 with 1 Axes>"
            ]
          },
          "metadata": {
            "tags": [],
            "needs_background": "light"
          }
        }
      ]
    },
    {
      "cell_type": "code",
      "metadata": {
        "colab": {
          "base_uri": "https://localhost:8080/"
        },
        "id": "VvJwPPytI3Yz",
        "outputId": "cc3fa0f0-cc01-46ea-c5a5-4c0170fe175d"
      },
      "source": [
        "y_train[4]"
      ],
      "execution_count": 55,
      "outputs": [
        {
          "output_type": "execute_result",
          "data": {
            "text/plain": [
              "9"
            ]
          },
          "metadata": {
            "tags": []
          },
          "execution_count": 55
        }
      ]
    },
    {
      "cell_type": "code",
      "metadata": {
        "id": "UpHp-_adI3bU"
      },
      "source": [
        "#flatten the matrix\n",
        "\n",
        "X_train_flattened = X_train.reshape(len(X_train), 28*28)\n",
        "X_test_flattened = X_test.reshape(len(X_test), 28*28)"
      ],
      "execution_count": 56,
      "outputs": []
    },
    {
      "cell_type": "code",
      "metadata": {
        "colab": {
          "base_uri": "https://localhost:8080/"
        },
        "id": "bEusQ993I3fJ",
        "outputId": "cf1210af-6ab5-408d-e466-5e881b507715"
      },
      "source": [
        "X_train_flattened.shape"
      ],
      "execution_count": 57,
      "outputs": [
        {
          "output_type": "execute_result",
          "data": {
            "text/plain": [
              "(60000, 784)"
            ]
          },
          "metadata": {
            "tags": []
          },
          "execution_count": 57
        }
      ]
    },
    {
      "cell_type": "code",
      "metadata": {
        "colab": {
          "base_uri": "https://localhost:8080/"
        },
        "id": "LAA2eOEFJ8u5",
        "outputId": "b24915b9-ca45-4c8e-8e22-1aa6105aba3b"
      },
      "source": [
        "model_wo_hl = keras.Sequential([\n",
        "                  keras.layers.Dense(10, \n",
        "                                     input_shape = (784,), \n",
        "                                     activation='sigmoid')\n",
        "])\n",
        "\n",
        "model_wo_hl.compile(optimizer='adam',\n",
        "              loss='sparse_categorical_crossentropy',\n",
        "              metrics=['accuracy'])\n",
        "\n",
        "\n",
        "model_wo_hl.fit(X_train_flattened, y_train, epochs=5)"
      ],
      "execution_count": 58,
      "outputs": [
        {
          "output_type": "stream",
          "text": [
            "Epoch 1/5\n",
            "1875/1875 [==============================] - 3s 1ms/step - loss: 0.4646 - accuracy: 0.8780\n",
            "Epoch 2/5\n",
            "1875/1875 [==============================] - 2s 1ms/step - loss: 0.3035 - accuracy: 0.9150\n",
            "Epoch 3/5\n",
            "1875/1875 [==============================] - 2s 1ms/step - loss: 0.2831 - accuracy: 0.9210\n",
            "Epoch 4/5\n",
            "1875/1875 [==============================] - 2s 1ms/step - loss: 0.2733 - accuracy: 0.9242\n",
            "Epoch 5/5\n",
            "1875/1875 [==============================] - 2s 1ms/step - loss: 0.2659 - accuracy: 0.9260\n"
          ],
          "name": "stdout"
        },
        {
          "output_type": "execute_result",
          "data": {
            "text/plain": [
              "<tensorflow.python.keras.callbacks.History at 0x7fc9123a95d0>"
            ]
          },
          "metadata": {
            "tags": []
          },
          "execution_count": 58
        }
      ]
    },
    {
      "cell_type": "code",
      "metadata": {
        "colab": {
          "base_uri": "https://localhost:8080/",
          "height": 292
        },
        "id": "i7m-gWnzLTe2",
        "outputId": "b7317078-5151-46c8-dd31-f7ff7faf8372"
      },
      "source": [
        "plt.matshow(X_test[3])"
      ],
      "execution_count": 59,
      "outputs": [
        {
          "output_type": "execute_result",
          "data": {
            "text/plain": [
              "<matplotlib.image.AxesImage at 0x7fc91230ef90>"
            ]
          },
          "metadata": {
            "tags": []
          },
          "execution_count": 59
        },
        {
          "output_type": "display_data",
          "data": {
            "image/png": "[encoded data removed]",
            "text/plain": [
              "<Figure size 288x288 with 1 Axes>"
            ]
          },
          "metadata": {
            "tags": [],
            "needs_background": "light"
          }
        }
      ]
    },
    {
      "cell_type": "code",
      "metadata": {
        "id": "5aLbtd7fKhBf"
      },
      "source": [
        "import seaborn as sns \n",
        "\n",
        "def confusion_matrix(m):\n",
        "  print(\"Accuracy\", m.evaluate(X_test_flattened, y_test))\n",
        "  y_preds = m.predict(X_test_flattened)\n",
        "  y_predicted = [np.argmax(i) for i in y_preds]\n",
        "  cm = tf.math.confusion_matrix(labels=y_test, predictions=y_predicted)\n",
        "  plt.figure(figsize= (10,7))\n",
        "  sns.heatmap(cm, annot=True, fmt='d')\n",
        "  plt.xlabel('Predicted')\n",
        "  plt.ylabel('Actual')"
      ],
      "execution_count": 60,
      "outputs": []
    },
    {
      "cell_type": "code",
      "metadata": {
        "colab": {
          "base_uri": "https://localhost:8080/",
          "height": 476
        },
        "id": "vJVpRyxjKhEl",
        "outputId": "5608f932-852f-4ac0-9430-f90c1cd3ed35"
      },
      "source": [
        "confusion_matrix(model_wo_hl)"
      ],
      "execution_count": 61,
      "outputs": [
        {
          "output_type": "stream",
          "text": [
            "313/313 [==============================] - 0s 1ms/step - loss: 0.2644 - accuracy: 0.9280\n",
            "Accuracy [0.26438799500465393, 0.9279999732971191]\n"
          ],
          "name": "stdout"
        },
        {
          "output_type": "display_data",
          "data": {
            "image/png": "[encoded data removed]",
            "text/plain": [
              "<Figure size 720x504 with 2 Axes>"
            ]
          },
          "metadata": {
            "tags": [],
            "needs_background": "light"
          }
        }
      ]
    },
    {
      "cell_type": "markdown",
      "metadata": {
        "id": "vTGY_1v0McR8"
      },
      "source": [
        "Adding hidden layers to improve the model"
      ]
    },
    {
      "cell_type": "code",
      "metadata": {
        "colab": {
          "base_uri": "https://localhost:8080/"
        },
        "id": "e9hAWAAIKhI3",
        "outputId": "40f80847-2af7-4e5f-ffe7-c04e5316441d"
      },
      "source": [
        "model_w_hl = keras.Sequential([\n",
        "        keras.layers.Dense(100,input_shape = (784,), activation='relu'),\n",
        "        keras.layers.Dense(10, activation='sigmoid')\n",
        "])\n",
        "\n",
        "model_w_hl.compile(optimizer='adam',\n",
        "              loss='sparse_categorical_crossentropy',\n",
        "              metrics=['accuracy'])\n",
        "\n",
        "\n",
        "model_w_hl.fit(X_train_flattened, y_train, epochs=5)"
      ],
      "execution_count": 62,
      "outputs": [
        {
          "output_type": "stream",
          "text": [
            "Epoch 1/5\n",
            "1875/1875 [==============================] - 4s 2ms/step - loss: 0.2736 - accuracy: 0.9221\n",
            "Epoch 2/5\n",
            "1875/1875 [==============================] - 3s 2ms/step - loss: 0.1195 - accuracy: 0.9655\n",
            "Epoch 3/5\n",
            "1875/1875 [==============================] - 4s 2ms/step - loss: 0.0842 - accuracy: 0.9747\n",
            "Epoch 4/5\n",
            "1875/1875 [==============================] - 4s 2ms/step - loss: 0.0650 - accuracy: 0.9801\n",
            "Epoch 5/5\n",
            "1875/1875 [==============================] - 3s 2ms/step - loss: 0.0527 - accuracy: 0.9844\n"
          ],
          "name": "stdout"
        },
        {
          "output_type": "execute_result",
          "data": {
            "text/plain": [
              "<tensorflow.python.keras.callbacks.History at 0x7fc9160717d0>"
            ]
          },
          "metadata": {
            "tags": []
          },
          "execution_count": 62
        }
      ]
    },
    {
      "cell_type": "code",
      "metadata": {
        "colab": {
          "base_uri": "https://localhost:8080/",
          "height": 476
        },
        "id": "Yy-288l-KhNU",
        "outputId": "841465c1-af23-4459-c0ef-09896a626a1b"
      },
      "source": [
        "confusion_matrix(model_w_hl)"
      ],
      "execution_count": 63,
      "outputs": [
        {
          "output_type": "stream",
          "text": [
            "313/313 [==============================] - 1s 1ms/step - loss: 0.0766 - accuracy: 0.9761\n",
            "Accuracy [0.07658812403678894, 0.9761000275611877]\n"
          ],
          "name": "stdout"
        },
        {
          "output_type": "display_data",
          "data": {
            "image/png": "[encoded data removed]",
            "text/plain": [
              "<Figure size 720x504 with 2 Axes>"
            ]
          },
          "metadata": {
            "tags": [],
            "needs_background": "light"
          }
        }
      ]
    }
  ]
}