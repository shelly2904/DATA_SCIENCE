{
 "cells": [
  {
   "cell_type": "code",
   "execution_count": 1,
   "metadata": {},
   "outputs": [
    {
     "name": "stderr",
     "output_type": "stream",
     "text": [
      "Using TensorFlow backend.\n",
      "/opt/anaconda3/lib/python3.7/site-packages/tensorflow/python/framework/dtypes.py:526: FutureWarning: Passing (type, 1) or '1type' as a synonym of type is deprecated; in a future version of numpy, it will be understood as (type, (1,)) / '(1,)type'.\n",
      "  _np_qint8 = np.dtype([(\"qint8\", np.int8, 1)])\n",
      "/opt/anaconda3/lib/python3.7/site-packages/tensorflow/python/framework/dtypes.py:527: FutureWarning: Passing (type, 1) or '1type' as a synonym of type is deprecated; in a future version of numpy, it will be understood as (type, (1,)) / '(1,)type'.\n",
      "  _np_quint8 = np.dtype([(\"quint8\", np.uint8, 1)])\n",
      "/opt/anaconda3/lib/python3.7/site-packages/tensorflow/python/framework/dtypes.py:528: FutureWarning: Passing (type, 1) or '1type' as a synonym of type is deprecated; in a future version of numpy, it will be understood as (type, (1,)) / '(1,)type'.\n",
      "  _np_qint16 = np.dtype([(\"qint16\", np.int16, 1)])\n",
      "/opt/anaconda3/lib/python3.7/site-packages/tensorflow/python/framework/dtypes.py:529: FutureWarning: Passing (type, 1) or '1type' as a synonym of type is deprecated; in a future version of numpy, it will be understood as (type, (1,)) / '(1,)type'.\n",
      "  _np_quint16 = np.dtype([(\"quint16\", np.uint16, 1)])\n",
      "/opt/anaconda3/lib/python3.7/site-packages/tensorflow/python/framework/dtypes.py:530: FutureWarning: Passing (type, 1) or '1type' as a synonym of type is deprecated; in a future version of numpy, it will be understood as (type, (1,)) / '(1,)type'.\n",
      "  _np_qint32 = np.dtype([(\"qint32\", np.int32, 1)])\n",
      "/opt/anaconda3/lib/python3.7/site-packages/tensorflow/python/framework/dtypes.py:535: FutureWarning: Passing (type, 1) or '1type' as a synonym of type is deprecated; in a future version of numpy, it will be understood as (type, (1,)) / '(1,)type'.\n",
      "  np_resource = np.dtype([(\"resource\", np.ubyte, 1)])\n"
     ]
    }
   ],
   "source": [
    "import PIL\n",
    "import cv2\n",
    "import glob\n",
    "import os\n",
    "from tkinter import *\n",
    "from PIL import Image, ImageDraw, ImageGrab\n",
    "# let's keep our keras backend tensorflow quiet\n",
    "import os\n",
    "os.environ['TF_CPP_MIN_LOG_LEVEL']='3'\n",
    "\n",
    "# imports for array-handling and plotting\n",
    "import numpy as np\n",
    "import matplotlib\n",
    "matplotlib.use('agg')\n",
    "import matplotlib.pyplot as plt"
   ]
  },
  {
   "cell_type": "code",
   "execution_count": 21,
   "metadata": {},
   "outputs": [
    {
     "name": "stdout",
     "output_type": "stream",
     "text": [
      "(60000, 28, 28) (60000,)\n"
     ]
    }
   ],
   "source": [
    "import keras\n",
    "from keras.datasets import mnist\n",
    "from keras.models import Sequential\n",
    "from keras.layers import Dense, Dropout, Flatten\n",
    "from keras.layers import Conv2D, MaxPooling2D\n",
    "from keras import backend as K\n",
    "# the data, split between train and test sets\n",
    "(x_train, y_train), (x_test, y_test) = mnist.load_data()\n",
    "print(x_train.shape, y_train.shape)"
   ]
  },
  {
   "cell_type": "code",
   "execution_count": 23,
   "metadata": {},
   "outputs": [
    {
     "name": "stdout",
     "output_type": "stream",
     "text": [
      "x_train shape: (60000, 28, 28, 1)\n",
      "60000 train samples\n",
      "10000 test samples\n"
     ]
    }
   ],
   "source": [
    "x_train = x_train.reshape(x_train.shape[0], 28, 28, 1)\n",
    "x_test = x_test.reshape(x_test.shape[0], 28, 28, 1)\n",
    "input_shape = (28, 28, 1)\n",
    "num_classes = 10\n",
    "# convert class vectors to binary class matrices\n",
    "y_train = keras.utils.to_categorical(y_train, num_classes)\n",
    "y_test = keras.utils.to_categorical(y_test, num_classes)\n",
    "x_train = x_train.astype('float32')\n",
    "x_test = x_test.astype('float32')\n",
    "x_train /= 255\n",
    "x_test /= 255\n",
    "print('x_train shape:', x_train.shape)\n",
    "print(x_train.shape[0], 'train samples')\n",
    "print(x_test.shape[0], 'test samples')"
   ]
  },
  {
   "cell_type": "code",
   "execution_count": 24,
   "metadata": {},
   "outputs": [],
   "source": [
    "batch_size = 128\n",
    "num_classes = 10\n",
    "epochs = 10\n",
    "model = Sequential()\n",
    "model.add(Conv2D(32, kernel_size=(3, 3),activation='relu',input_shape=input_shape))\n",
    "model.add(Conv2D(64, (3, 3), activation='relu'))\n",
    "model.add(MaxPooling2D(pool_size=(2, 2)))\n",
    "model.add(Dropout(0.25))\n",
    "model.add(Flatten())\n",
    "model.add(Dense(256, activation='relu'))\n",
    "model.add(Dropout(0.5))\n",
    "model.add(Dense(num_classes, activation='softmax'))\n",
    "model.compile(loss=keras.losses.categorical_crossentropy,optimizer=keras.optimizers.Adadelta(),metrics=['accuracy'])"
   ]
  },
  {
   "cell_type": "code",
   "execution_count": 27,
   "metadata": {},
   "outputs": [
    {
     "name": "stdout",
     "output_type": "stream",
     "text": [
      "Test loss: 0.025007825736984887\n",
      "Test accuracy: 0.9919000267982483\n"
     ]
    }
   ],
   "source": [
    "score = model.evaluate(x_test, y_test, verbose=0)\n",
    "print('Test loss:', score[0])\n",
    "print('Test accuracy:', score[1])"
   ]
  },
  {
   "cell_type": "code",
   "execution_count": 2,
   "metadata": {},
   "outputs": [
    {
     "name": "stdout",
     "output_type": "stream",
     "text": [
      "WARNING:tensorflow:From /opt/anaconda3/lib/python3.7/site-packages/tensorflow/python/ops/resource_variable_ops.py:435: colocate_with (from tensorflow.python.framework.ops) is deprecated and will be removed in a future version.\n",
      "Instructions for updating:\n",
      "Colocations handled automatically by placer.\n",
      "WARNING:tensorflow:From /opt/anaconda3/lib/python3.7/site-packages/tensorflow/python/ops/math_ops.py:3066: to_int32 (from tensorflow.python.ops.math_ops) is deprecated and will be removed in a future version.\n",
      "Instructions for updating:\n",
      "Use tf.cast instead.\n"
     ]
    }
   ],
   "source": [
    "save_dir = \"models/\"\n",
    "model_name = 'mnist.h5'\n",
    "model_path = os.path.join(save_dir, model_name)\n",
    "model = load_model(model_name)"
   ]
  },
  {
   "cell_type": "code",
   "execution_count": null,
   "metadata": {},
   "outputs": [
    {
     "name": "stdout",
     "output_type": "stream",
     "text": [
      "Saved\n",
      "8 22%\n"
     ]
    }
   ],
   "source": [
    "root = Tk()\n",
    "root.resizable(0,0)\n",
    "root.title(\"Handwritten Digit Recognition GUI App\")\n",
    "\n",
    "lastx, lasty = None, None\n",
    "image_number = 0\n",
    "\n",
    "def clear_widget():\n",
    "    global cv\n",
    "    cv.delete(\"all\")\n",
    "    \n",
    "def activate_event(event):\n",
    "    global lastx, lasty\n",
    "    cv.bind('<B1-Motion>', draw_lines)\n",
    "    lastx, lasty = event.x, event.y\n",
    "    \n",
    "\n",
    "def draw_lines(event):\n",
    "    global lastx, lasty\n",
    "    x,y = event.x, event.y\n",
    "    cv.create_line((lastx, lasty, x,y), width=8, fill=\"black\",\n",
    "                   capstyle=ROUND, smooth=True, splinesteps=12)\n",
    "    lastx, lasty = x,y\n",
    "    \n",
    "    \n",
    "def Recognize_Digit():\n",
    "    save_dir = \"models/\"\n",
    "    model_name = 'mnist.h5'\n",
    "    model_path = os.path.join(save_dir, model_name)\n",
    "    model = load_model(model_name)\n",
    "    global image_number\n",
    "    predictions = []\n",
    "    percentage = []\n",
    "    filename = f'image_{image_number}.png'\n",
    "    widget = cv\n",
    "    \n",
    "    x = root.winfo_rootx()+widget.winfo_x()\n",
    "    y = root.winfo_rooty()+widget.winfo_y()\n",
    "    x1 = x+widget.winfo_width()\n",
    "    y1 = y+widget.winfo_height()\n",
    "    \n",
    "    ImageGrab.grab().crop((x,y,x1,y1)).save(filename)\n",
    "    print(\"Saved\")\n",
    "    \n",
    "    image = cv2.imread(filename, cv2.IMREAD_GRAYSCALE)\n",
    "    \n",
    "    img_pil = Image.fromarray(image)\n",
    "    img = cv2.resize(image, (28, 28), interpolation=cv2.INTER_AREA)    \n",
    "    img = img.reshape(1,28,28,1)\n",
    "    img = img/255.0\n",
    "    pred = model.predict([img])[0]\n",
    "    final_pred = np.argmax(pred)\n",
    "    data = str(final_pred)+ ' ' + str(int(max(pred)*100)) + '%'\n",
    "    print(data)\n",
    "    font = cv2.FONT_HERSHEY_SIMPLEX\n",
    "    fontScale = 0.5\n",
    "    color = (255,0,0)\n",
    "    thickness=1\n",
    "    cv2.putText(image, data, (24,46), font, fontScale, color, thickness)\n",
    "    cv2.waitKey(0)\n",
    "\n",
    "\n",
    "cv = Canvas(root, width=640, height=480, bg=\"white\")\n",
    "cv.grid(row=0, column=0, pady=2, sticky=W, columnspan=2)\n",
    "\n",
    "cv.bind('<Button-1>', activate_event)\n",
    "\n",
    "btn_save = Button(text = \"Recognize Digit\", command=Recognize_Digit)\n",
    "btn_save.grid(row=2, column=0, pady=1, padx=1)\n",
    "button_clear = Button(text=\"Clear Widget\", command = clear_widget)\n",
    "btn_save.grid(row=2, column=1, pady=1, padx=1)\n",
    "\n",
    "root.mainloop()"
   ]
  },
  {
   "cell_type": "code",
   "execution_count": 25,
   "metadata": {},
   "outputs": [
    {
     "name": "stdout",
     "output_type": "stream",
     "text": [
      "Train on 60000 samples, validate on 10000 samples\n",
      "Epoch 1/10\n",
      "60000/60000 [==============================] - 248s 4ms/step - loss: 0.2176 - accuracy: 0.9326 - val_loss: 0.0538 - val_accuracy: 0.9823\n",
      "Epoch 2/10\n",
      "60000/60000 [==============================] - 250s 4ms/step - loss: 0.0706 - accuracy: 0.9786 - val_loss: 0.0365 - val_accuracy: 0.9873\n",
      "Epoch 3/10\n",
      "60000/60000 [==============================] - 248s 4ms/step - loss: 0.0533 - accuracy: 0.9838 - val_loss: 0.0339 - val_accuracy: 0.9874\n",
      "Epoch 4/10\n",
      "60000/60000 [==============================] - 253s 4ms/step - loss: 0.0409 - accuracy: 0.9876 - val_loss: 0.0296 - val_accuracy: 0.9900\n",
      "Epoch 5/10\n",
      "60000/60000 [==============================] - 254s 4ms/step - loss: 0.0353 - accuracy: 0.9888 - val_loss: 0.0262 - val_accuracy: 0.9910\n",
      "Epoch 6/10\n",
      "60000/60000 [==============================] - 223s 4ms/step - loss: 0.0298 - accuracy: 0.9908 - val_loss: 0.0281 - val_accuracy: 0.9912\n",
      "Epoch 7/10\n",
      "60000/60000 [==============================] - 195s 3ms/step - loss: 0.0275 - accuracy: 0.9911 - val_loss: 0.0302 - val_accuracy: 0.9907\n",
      "Epoch 8/10\n",
      "60000/60000 [==============================] - 226s 4ms/step - loss: 0.0233 - accuracy: 0.9926 - val_loss: 0.0235 - val_accuracy: 0.9915\n",
      "Epoch 9/10\n",
      "60000/60000 [==============================] - 215s 4ms/step - loss: 0.0215 - accuracy: 0.9932 - val_loss: 0.0250 - val_accuracy: 0.9917\n",
      "Epoch 10/10\n",
      "60000/60000 [==============================] - 222s 4ms/step - loss: 0.0187 - accuracy: 0.9943 - val_loss: 0.0266 - val_accuracy: 0.9911\n",
      "The model has successfully trained\n"
     ]
    }
   ],
   "source": [
    "hist = model.fit(x_train, y_train,batch_size=batch_size,epochs=epochs,verbose=1,validation_data=(x_test, y_test))\n",
    "print(\"The model has successfully trained\")\n",
    "model.save('mnist.h5')"
   ]
  },
  {
   "cell_type": "code",
   "execution_count": null,
   "metadata": {},
   "outputs": [],
   "source": []
  }
 ],
 "metadata": {
  "kernelspec": {
   "display_name": "Python 3",
   "language": "python",
   "name": "python3"
  },
  "language_info": {
   "codemirror_mode": {
    "name": "ipython",
    "version": 3
   },
   "file_extension": ".py",
   "mimetype": "text/x-python",
   "name": "python",
   "nbconvert_exporter": "python",
   "pygments_lexer": "ipython3",
   "version": "3.7.6"
  }
 },
 "nbformat": 4,
 "nbformat_minor": 4
}
