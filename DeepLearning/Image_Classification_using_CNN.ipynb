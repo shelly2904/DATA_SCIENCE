{
  "nbformat": 4,
  "nbformat_minor": 0,
  "metadata": {
    "colab": {
      "name": "Image_Classification_using_CNN.ipynb",
      "provenance": []
    },
    "kernelspec": {
      "name": "python3",
      "display_name": "Python 3"
    },
    "language_info": {
      "name": "python"
    }
  },
  "cells": [
    {
      "cell_type": "code",
      "metadata": {
        "id": "uFZft7eV9nTl"
      },
      "source": [
        "import tensorflow as tf\n",
        "from tensorflow.keras import datasets, layers, models\n",
        "import matplotlib.pyplot as plt\n",
        "import numpy as np\n"
      ],
      "execution_count": 17,
      "outputs": []
    },
    {
      "cell_type": "code",
      "metadata": {
        "id": "gswmW7S1-CEC"
      },
      "source": [
        "(X_train, y_train), (X_test, y_test) = datasets.cifar10.load_data()"
      ],
      "execution_count": 18,
      "outputs": []
    },
    {
      "cell_type": "code",
      "metadata": {
        "colab": {
          "base_uri": "https://localhost:8080/"
        },
        "id": "GBFbyK03-CGc",
        "outputId": "9821c449-6a5e-45b2-de63-fa5bb574c779"
      },
      "source": [
        "X_test.shape"
      ],
      "execution_count": 19,
      "outputs": [
        {
          "output_type": "execute_result",
          "data": {
            "text/plain": [
              "(10000, 32, 32, 3)"
            ]
          },
          "metadata": {
            "tags": []
          },
          "execution_count": 19
        }
      ]
    },
    {
      "cell_type": "code",
      "metadata": {
        "id": "ma6y_wOq-dtn"
      },
      "source": [
        "classes = [\"airplane\", \"automobile\", \"bird\", \"cat\",\n",
        "           \"deer\", \"dog\", \"frog\", \"horse\", \n",
        "           \"ship\", \"truck\"]"
      ],
      "execution_count": 20,
      "outputs": []
    },
    {
      "cell_type": "code",
      "metadata": {
        "id": "UEbVGvWv-wTH"
      },
      "source": [
        "y_train = y_train.reshape(-1,)"
      ],
      "execution_count": 21,
      "outputs": []
    },
    {
      "cell_type": "code",
      "metadata": {
        "id": "poWc5uw8-CJD"
      },
      "source": [
        "def plot_sample(x, y, index):\n",
        "  plt.figure(figsize=(15,2))\n",
        "  plt.imshow(x[index])\n",
        "  plt.xlabel(classes[y[index]])"
      ],
      "execution_count": 22,
      "outputs": []
    },
    {
      "cell_type": "code",
      "metadata": {
        "colab": {
          "base_uri": "https://localhost:8080/",
          "height": 173
        },
        "id": "z5xfPIXb-CLI",
        "outputId": "83e5b5ab-1599-4068-e19a-984c173dead0"
      },
      "source": [
        "plot_sample(X_train, y_train, 124)"
      ],
      "execution_count": 23,
      "outputs": [
        {
          "output_type": "display_data",
          "data": {
            "image/png": "[encoded data removed]",
            "text/plain": [
              "<Figure size 1080x144 with 1 Axes>"
            ]
          },
          "metadata": {
            "tags": [],
            "needs_background": "light"
          }
        }
      ]
    },
    {
      "cell_type": "code",
      "metadata": {
        "id": "81J-UVzs-CNN"
      },
      "source": [
        "#Normalize the X_train\n",
        "\n",
        "X_train = X_train/255\n",
        "X_test = X_test/255"
      ],
      "execution_count": 24,
      "outputs": []
    },
    {
      "cell_type": "code",
      "metadata": {
        "colab": {
          "base_uri": "https://localhost:8080/"
        },
        "id": "ggL3QeWe-CR0",
        "outputId": "7b4e96f9-8464-455c-87d1-90b84f10f438"
      },
      "source": [
        "# First check with ANN \n",
        "\n",
        "model_ann = models.Sequential([\n",
        "              layers.Flatten(input_shape=(32,32, 3)),\n",
        "              layers.Dense(3000, activation='relu'),\n",
        "              layers.Dense(1000, activation='relu'),\n",
        "              layers.Dense(10, activation='sigmoid')\n",
        "])\n",
        "\n",
        "model_ann.compile(optimizer=\"SGD\",\n",
        "                  loss=\"sparse_categorical_crossentropy\",\n",
        "                  metrics=[\"accuracy\"])\n",
        "\n",
        "model_ann.fit(X_train, y_train, epochs=10)"
      ],
      "execution_count": null,
      "outputs": [
        {
          "output_type": "stream",
          "text": [
            "Epoch 1/10\n",
            "1563/1563 [==============================] - 122s 77ms/step - loss: 1.8145 - accuracy: 0.3551\n",
            "Epoch 2/10\n",
            "1285/1563 [=======================>......] - ETA: 21s - loss: 1.6291 - accuracy: 0.4245"
          ],
          "name": "stdout"
        }
      ]
    },
    {
      "cell_type": "code",
      "metadata": {
        "id": "hp7cE89X-CUi"
      },
      "source": [
        "model.evaluate(x_test, y_test)"
      ],
      "execution_count": 25,
      "outputs": []
    }
  ]
}