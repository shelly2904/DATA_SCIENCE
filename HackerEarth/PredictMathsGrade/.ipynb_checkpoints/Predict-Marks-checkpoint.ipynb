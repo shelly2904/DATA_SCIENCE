{
 "cells": [
  {
   "cell_type": "code",
   "execution_count": 134,
   "metadata": {},
   "outputs": [],
   "source": [
    "import sklearn\n",
    "import json\n",
    "import csv\n",
    "import pandas as pd\n",
    "import numpy as np\n",
    "from sklearn import preprocessing\n",
    "from matplotlib import pyplot as plt\n",
    "import scipy.stats as stats\n",
    "import cPickle\n",
    "from sklearn.metrics import classification_report\n",
    "from sklearn.linear_model import LogisticRegression, LinearRegression\n",
    "from sklearn.cross_validation import train_test_split\n",
    "from sklearn.metrics import accuracy_score"
   ]
  },
  {
   "cell_type": "code",
   "execution_count": 157,
   "metadata": {
    "collapsed": true
   },
   "outputs": [],
   "source": [
    "IP_train = open('training.json', 'rb')\n",
    "train = []\n",
    "subjects = [\"English\", \"Physics\", \"Chemistry\", \"ComputerScience\", \"Biology\", \"PhysicalEducation\", \"Economics\", \"Accountancy\", \"BusinessStudies\", \"Mathematics\"]\n",
    "\n",
    "for lines in IP_train.readlines():\n",
    "    try:\n",
    "        lines = json.loads(lines.strip(\"\\n\"))\n",
    "        del lines['serial']\n",
    "        marks = []\n",
    "        for sub in subjects:\n",
    "            try:\n",
    "                marks.append(lines[sub])\n",
    "            except:\n",
    "                continue\n",
    "        if len(marks) < 5:\n",
    "            continue\n",
    "        train.append(marks)\n",
    "    except:\n",
    "        pass"
   ]
  },
  {
   "cell_type": "code",
   "execution_count": 158,
   "metadata": {},
   "outputs": [
    {
     "name": "stdout",
     "output_type": "stream",
     "text": [
      "   Sbj1  Sbj2  Sbj3  Sbj4  Sbj5\n",
      "0     4     2     1     2     8\n",
      "1     3     5     6     7     8\n",
      "2     2     1     2     1     3\n",
      "3     3     5     3     4     4\n",
      "4     1     2     2     1     3\n"
     ]
    }
   ],
   "source": [
    "train = pd.DataFrame(train)\n",
    "train.columns = [\"Sbj1\", \"Sbj2\", \"Sbj3\", \"Sbj4\", \"Sbj5\"]"
   ]
  },
  {
   "cell_type": "code",
   "execution_count": 160,
   "metadata": {},
   "outputs": [
    {
     "data": {
      "text/plain": [
       "LinearRegression(copy_X=True, fit_intercept=True, n_jobs=1, normalize=True)"
      ]
     },
     "execution_count": 160,
     "metadata": {},
     "output_type": "execute_result"
    }
   ],
   "source": [
    "train = pd.DataFrame(train)\n",
    "train.columns = [\"Sbj1\", \"Sbj2\", \"Sbj3\", \"Sbj4\", \"Sbj5\"]\n",
    "train = train.fillna(train.mean())\n",
    "train[\"Sbj4\"] = train[\"Sbj4\"].astype(int)\n",
    "train[\"Sbj5\"] = train[\"Sbj5\"].astype(int)\n",
    "\n",
    "X_train, y_train = train.ix[:,:3], train[\"Sbj5\"]\n",
    "lreg_sci = LinearRegression(normalize=True)\n",
    "lreg_sci.fit(X_train, y_train)"
   ]
  },
  {
   "cell_type": "code",
   "execution_count": 172,
   "metadata": {},
   "outputs": [
    {
     "name": "stdout",
     "output_type": "stream",
     "text": [
      "1\n",
      "{\"Accountancy\":3,\"BusinessStudies\":3,\"Economics\":2,\"English\":6,\"serial\":205967}\n",
      "[[6, 2, 3, 3]]\n",
      "   Sbj1  Sbj2  Sbj3  Sbj4\n",
      "0     6     2     3     3\n"
     ]
    }
   ],
   "source": [
    "import json\n",
    "n = int(raw_input())\n",
    "test = []\n",
    "\n",
    "subjects = [\"English\", \"Physics\", \"Chemistry\", \"ComputerScience\", \"Biology\", \"PhysicalEducation\", \"Economics\", \"Accountancy\", \"BusinessStudies\"]\n",
    "for i in xrange(0, n):\n",
    "    text = json.loads(raw_input())\n",
    "    del text['serial']\n",
    "    marks = []\n",
    "    for sub in subjects:\n",
    "        try:\n",
    "            marks.append(text[sub])\n",
    "        except:\n",
    "            continue\n",
    "        if len(marks) < 4:\n",
    "            continue\n",
    "        test.append(marks)\n",
    "        \n",
    "test = pd.DataFrame(test)\n",
    "test.columns = [\"Sbj1\", \"Sbj2\", \"Sbj3\", \"Sbj4\"]    \n"
   ]
  },
  {
   "cell_type": "code",
   "execution_count": null,
   "metadata": {
    "collapsed": true
   },
   "outputs": [],
   "source": []
  }
 ],
 "metadata": {
  "kernelspec": {
   "display_name": "Python 2",
   "language": "python",
   "name": "python2"
  },
  "language_info": {
   "codemirror_mode": {
    "name": "ipython",
    "version": 2
   },
   "file_extension": ".py",
   "mimetype": "text/x-python",
   "name": "python",
   "nbconvert_exporter": "python",
   "pygments_lexer": "ipython2",
   "version": "2.7.12"
  }
 },
 "nbformat": 4,
 "nbformat_minor": 2
}
