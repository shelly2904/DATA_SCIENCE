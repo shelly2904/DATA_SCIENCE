{
  "nbformat": 4,
  "nbformat_minor": 0,
  "metadata": {
    "colab": {
      "name": "Topic_Modelling.ipynb",
      "provenance": [],
      "collapsed_sections": []
    },
    "kernelspec": {
      "name": "python3",
      "display_name": "Python 3"
    },
    "language_info": {
      "name": "python"
    }
  },
  "cells": [
    {
      "cell_type": "code",
      "metadata": {
        "id": "3kwFTzzLphmK"
      },
      "source": [
        "import pandas as pd\n",
        "from sklearn.feature_extraction.text import TfidfVectorizer, CountVectorizer\n",
        "from sklearn import decomposition\n",
        "import matplotlib.pyplot as plt\n",
        "import numpy as np\n",
        "import re\n",
        "import nltk\n",
        "from nltk.stem.porter import PorterStemmer\n",
        "from sklearn.model_selection import train_test_split"
      ],
      "execution_count": null,
      "outputs": []
    },
    {
      "cell_type": "code",
      "metadata": {
        "colab": {
          "base_uri": "https://localhost:8080/"
        },
        "id": "MovQ0bwordmx",
        "outputId": "aa151a4c-ef88-4a8b-b31d-eb35a2e1fb81"
      },
      "source": [
        "nltk.download('punkt')"
      ],
      "execution_count": null,
      "outputs": [
        {
          "output_type": "stream",
          "text": [
            "[nltk_data] Downloading package punkt to /root/nltk_data...\n",
            "[nltk_data]   Unzipping tokenizers/punkt.zip.\n"
          ],
          "name": "stdout"
        },
        {
          "output_type": "execute_result",
          "data": {
            "text/plain": [
              "True"
            ]
          },
          "metadata": {
            "tags": []
          },
          "execution_count": 2
        }
      ]
    },
    {
      "cell_type": "code",
      "metadata": {
        "id": "IRMmljTbrdp8"
      },
      "source": [
        "df = pd.read_csv('https://github.com/srivatsan88/YouTubeLI/blob/master/dataset/consumer_compliants.zip?raw=true', compression='zip', sep=',', quotechar='\"')"
      ],
      "execution_count": null,
      "outputs": []
    },
    {
      "cell_type": "code",
      "metadata": {
        "colab": {
          "base_uri": "https://localhost:8080/",
          "height": 632
        },
        "id": "B9aj8oUwrdtB",
        "outputId": "74108b17-73d7-4c8e-f08a-09a1557cbbb5"
      },
      "source": [
        "df.head()"
      ],
      "execution_count": null,
      "outputs": [
        {
          "output_type": "execute_result",
          "data": {
            "text/html": [
              "<div>\n",
              "<style scoped>\n",
              "    .dataframe tbody tr th:only-of-type {\n",
              "        vertical-align: middle;\n",
              "    }\n",
              "\n",
              "    .dataframe tbody tr th {\n",
              "        vertical-align: top;\n",
              "    }\n",
              "\n",
              "    .dataframe thead th {\n",
              "        text-align: right;\n",
              "    }\n",
              "</style>\n",
              "<table border=\"1\" class=\"dataframe\">\n",
              "  <thead>\n",
              "    <tr style=\"text-align: right;\">\n",
              "      <th></th>\n",
              "      <th>Date received</th>\n",
              "      <th>Product</th>\n",
              "      <th>Sub-product</th>\n",
              "      <th>Issue</th>\n",
              "      <th>Sub-issue</th>\n",
              "      <th>Consumer complaint narrative</th>\n",
              "      <th>Company public response</th>\n",
              "      <th>Company</th>\n",
              "      <th>State</th>\n",
              "      <th>ZIP code</th>\n",
              "      <th>Tags</th>\n",
              "      <th>Consumer consent provided?</th>\n",
              "      <th>Submitted via</th>\n",
              "      <th>Date sent to company</th>\n",
              "      <th>Company response to consumer</th>\n",
              "      <th>Timely response?</th>\n",
              "      <th>Consumer disputed?</th>\n",
              "      <th>Complaint ID</th>\n",
              "    </tr>\n",
              "  </thead>\n",
              "  <tbody>\n",
              "    <tr>\n",
              "      <th>0</th>\n",
              "      <td>4/3/2020</td>\n",
              "      <td>Vehicle loan or lease</td>\n",
              "      <td>Loan</td>\n",
              "      <td>Getting a loan or lease</td>\n",
              "      <td>Fraudulent loan</td>\n",
              "      <td>This auto loan was opened on XX/XX/2020 in XXX...</td>\n",
              "      <td>Company has responded to the consumer and the ...</td>\n",
              "      <td>TRUIST FINANCIAL CORPORATION</td>\n",
              "      <td>PA</td>\n",
              "      <td>None</td>\n",
              "      <td>None</td>\n",
              "      <td>Consent provided</td>\n",
              "      <td>Web</td>\n",
              "      <td>4/3/2020</td>\n",
              "      <td>Closed with explanation</td>\n",
              "      <td>Yes</td>\n",
              "      <td>NaN</td>\n",
              "      <td>3591341</td>\n",
              "    </tr>\n",
              "    <tr>\n",
              "      <th>1</th>\n",
              "      <td>3/12/2020</td>\n",
              "      <td>Debt collection</td>\n",
              "      <td>Payday loan debt</td>\n",
              "      <td>Attempts to collect debt not owed</td>\n",
              "      <td>Debt is not yours</td>\n",
              "      <td>In XXXX of 2019 I noticed a debt for {$620.00}...</td>\n",
              "      <td>None</td>\n",
              "      <td>CURO Intermediate Holdings</td>\n",
              "      <td>CO</td>\n",
              "      <td>806XX</td>\n",
              "      <td>None</td>\n",
              "      <td>Consent provided</td>\n",
              "      <td>Web</td>\n",
              "      <td>3/12/2020</td>\n",
              "      <td>Closed with explanation</td>\n",
              "      <td>Yes</td>\n",
              "      <td>NaN</td>\n",
              "      <td>3564184</td>\n",
              "    </tr>\n",
              "    <tr>\n",
              "      <th>2</th>\n",
              "      <td>2/6/2020</td>\n",
              "      <td>Vehicle loan or lease</td>\n",
              "      <td>Loan</td>\n",
              "      <td>Getting a loan or lease</td>\n",
              "      <td>Credit denial</td>\n",
              "      <td>As stated from Capital One, XXXX XX/XX/XXXX an...</td>\n",
              "      <td>None</td>\n",
              "      <td>CAPITAL ONE FINANCIAL CORPORATION</td>\n",
              "      <td>OH</td>\n",
              "      <td>430XX</td>\n",
              "      <td>None</td>\n",
              "      <td>Consent provided</td>\n",
              "      <td>Web</td>\n",
              "      <td>2/6/2020</td>\n",
              "      <td>Closed with explanation</td>\n",
              "      <td>Yes</td>\n",
              "      <td>NaN</td>\n",
              "      <td>3521949</td>\n",
              "    </tr>\n",
              "    <tr>\n",
              "      <th>3</th>\n",
              "      <td>3/6/2020</td>\n",
              "      <td>Checking or savings account</td>\n",
              "      <td>Savings account</td>\n",
              "      <td>Managing an account</td>\n",
              "      <td>Banking errors</td>\n",
              "      <td>Please see CFPB case XXXX. \\n\\nCapital One, in...</td>\n",
              "      <td>None</td>\n",
              "      <td>CAPITAL ONE FINANCIAL CORPORATION</td>\n",
              "      <td>CA</td>\n",
              "      <td>None</td>\n",
              "      <td>None</td>\n",
              "      <td>Consent provided</td>\n",
              "      <td>Web</td>\n",
              "      <td>3/6/2020</td>\n",
              "      <td>Closed with explanation</td>\n",
              "      <td>Yes</td>\n",
              "      <td>NaN</td>\n",
              "      <td>3556237</td>\n",
              "    </tr>\n",
              "    <tr>\n",
              "      <th>4</th>\n",
              "      <td>2/14/2020</td>\n",
              "      <td>Debt collection</td>\n",
              "      <td>Medical debt</td>\n",
              "      <td>Attempts to collect debt not owed</td>\n",
              "      <td>Debt is not yours</td>\n",
              "      <td>This debt was incurred due to medical malpract...</td>\n",
              "      <td>Company believes it acted appropriately as aut...</td>\n",
              "      <td>Merchants and Professional Bureau, Inc.</td>\n",
              "      <td>OH</td>\n",
              "      <td>432XX</td>\n",
              "      <td>None</td>\n",
              "      <td>Consent provided</td>\n",
              "      <td>Web</td>\n",
              "      <td>2/14/2020</td>\n",
              "      <td>Closed with explanation</td>\n",
              "      <td>Yes</td>\n",
              "      <td>NaN</td>\n",
              "      <td>3531704</td>\n",
              "    </tr>\n",
              "  </tbody>\n",
              "</table>\n",
              "</div>"
            ],
            "text/plain": [
              "  Date received                      Product  ... Consumer disputed? Complaint ID\n",
              "0      4/3/2020        Vehicle loan or lease  ...                NaN      3591341\n",
              "1     3/12/2020              Debt collection  ...                NaN      3564184\n",
              "2      2/6/2020        Vehicle loan or lease  ...                NaN      3521949\n",
              "3      3/6/2020  Checking or savings account  ...                NaN      3556237\n",
              "4     2/14/2020              Debt collection  ...                NaN      3531704\n",
              "\n",
              "[5 rows x 18 columns]"
            ]
          },
          "metadata": {
            "tags": []
          },
          "execution_count": 4
        }
      ]
    },
    {
      "cell_type": "code",
      "metadata": {
        "colab": {
          "base_uri": "https://localhost:8080/"
        },
        "id": "7HcyOrp9rdv4",
        "outputId": "397c4ee3-35d4-4dc5-afdb-20d094c39a71"
      },
      "source": [
        "df['Product'].value_counts()"
      ],
      "execution_count": null,
      "outputs": [
        {
          "output_type": "execute_result",
          "data": {
            "text/plain": [
              "Debt collection                21772\n",
              "Credit card or prepaid card    13193\n",
              "Mortgage                        9799\n",
              "Checking or savings account     7003\n",
              "Student loan                    2950\n",
              "Vehicle loan or lease           2736\n",
              "Name: Product, dtype: int64"
            ]
          },
          "metadata": {
            "tags": []
          },
          "execution_count": 5
        }
      ]
    },
    {
      "cell_type": "code",
      "metadata": {
        "colab": {
          "base_uri": "https://localhost:8080/"
        },
        "id": "yqQtoX5srdy_",
        "outputId": "3ecb824f-d9c5-4771-c39f-8bc3f21b5b77"
      },
      "source": [
        "df['Company'].value_counts()"
      ],
      "execution_count": null,
      "outputs": [
        {
          "output_type": "execute_result",
          "data": {
            "text/plain": [
              "CITIBANK, N.A.                           3226\n",
              "CAPITAL ONE FINANCIAL CORPORATION        2711\n",
              "BANK OF AMERICA, NATIONAL ASSOCIATION    2580\n",
              "JPMORGAN CHASE & CO.                     2409\n",
              "WELLS FARGO & COMPANY                    2001\n",
              "                                         ... \n",
              "Admiral Holdings, LLC                       1\n",
              "U.S. Auto Credit Corporation                1\n",
              "Full Circle Financial Services, LLC         1\n",
              "D.S. Erickson & Associates, PLLC            1\n",
              "Rapid Auto Loans LLC                        1\n",
              "Name: Company, Length: 2197, dtype: int64"
            ]
          },
          "metadata": {
            "tags": []
          },
          "execution_count": 6
        }
      ]
    },
    {
      "cell_type": "code",
      "metadata": {
        "id": "vchYWmXArd1z"
      },
      "source": [
        "complaints_df = df[['Consumer complaint narrative', 'Product', 'Company']]\n",
        "complaints_df = complaints_df.rename(columns={'Consumer complaint narrative': 'complaints'})"
      ],
      "execution_count": null,
      "outputs": []
    },
    {
      "cell_type": "code",
      "metadata": {
        "colab": {
          "base_uri": "https://localhost:8080/"
        },
        "id": "csGwLNRDssFz",
        "outputId": "a13b103e-28db-4f6e-dc4c-066bcc95a2cf"
      },
      "source": [
        "pd.set_option('display.max_colwidth', -1)\n",
        "complaints_df.columns"
      ],
      "execution_count": null,
      "outputs": [
        {
          "output_type": "stream",
          "text": [
            "/usr/local/lib/python3.7/dist-packages/ipykernel_launcher.py:1: FutureWarning: Passing a negative integer is deprecated in version 1.0 and will not be supported in future version. Instead, use None to not limit the column width.\n",
            "  \"\"\"Entry point for launching an IPython kernel.\n"
          ],
          "name": "stderr"
        },
        {
          "output_type": "execute_result",
          "data": {
            "text/plain": [
              "Index(['complaints', 'Product', 'Company'], dtype='object')"
            ]
          },
          "metadata": {
            "tags": []
          },
          "execution_count": 8
        }
      ]
    },
    {
      "cell_type": "code",
      "metadata": {
        "id": "EI7VMwc2ssIL"
      },
      "source": [
        "x_train, x_hold = train_test_split(complaints_df, test_size=0.3, random_state=111)"
      ],
      "execution_count": null,
      "outputs": []
    },
    {
      "cell_type": "code",
      "metadata": {
        "colab": {
          "base_uri": "https://localhost:8080/",
          "height": 1000
        },
        "id": "TJR6si8TssKo",
        "outputId": "6850e8d2-f494-4840-e41b-e582f4c2a6ad"
      },
      "source": [
        "x_train.head(5)"
      ],
      "execution_count": null,
      "outputs": [
        {
          "output_type": "execute_result",
          "data": {
            "text/html": [
              "<div>\n",
              "<style scoped>\n",
              "    .dataframe tbody tr th:only-of-type {\n",
              "        vertical-align: middle;\n",
              "    }\n",
              "\n",
              "    .dataframe tbody tr th {\n",
              "        vertical-align: top;\n",
              "    }\n",
              "\n",
              "    .dataframe thead th {\n",
              "        text-align: right;\n",
              "    }\n",
              "</style>\n",
              "<table border=\"1\" class=\"dataframe\">\n",
              "  <thead>\n",
              "    <tr style=\"text-align: right;\">\n",
              "      <th></th>\n",
              "      <th>complaints</th>\n",
              "      <th>Product</th>\n",
              "      <th>Company</th>\n",
              "    </tr>\n",
              "  </thead>\n",
              "  <tbody>\n",
              "    <tr>\n",
              "      <th>36524</th>\n",
              "      <td>On XX/XX/2020. Checks for the full amounts owed were sent to each of these accounts from XXXX to Capital One : Capital One ending in # XXXX {$3700.00} Capital One ending in # XXXX {$680.00} Capital One ending in # XXXX {$2600.00} Capital One ending in # XXXX {$2100.00} Capital One ending in # XXXX {$3400.00} Total payment on these accounts : {$12000.00}. \\nPrior to these payoff checks sent, I made my monthly payments due XX/XX/XXXX to avoid any late fees while these checks were received and processed by Capital One. \\nI later received statements showing I owed interest on each one after payment in full was received. After sending them a letter priority mail on XX/XX/2020, asking why I was paying interest on top of interest, I received a letter on XX/XX/2020 letting me know the accounts were closed per my request, which I had requested they close since I was paying in full BUT no answer to my question. I attempted to call several times prior to mailing this letter but had not success in getting anyone on the line after waiting over an hour. I went ahead and paid the interest on these accounts which added to {$280.00}, out of fear I may be hit with a late fee. I attempted to call again XX/XX/2020. After waiting over an hour for a rep on phone, I was told I had to pay the interest on interest and also a residual fee after for each one. ( how do you pay interest on interest? ) Residual fee? On accounts paid in full? They said, that was their policy. \\nShortly after making full payments on these accounts, On XX/XX/XXXX, my husband lost his job due to COVID and is currently unemployed. I have struggled to pay these additional fees that I find to be an illegal act by this credit card company. I was told if I did not pay the additional fees, a late fee will be added on top. I should not have to pay interest or residual fees on a payoff amount that had not outstanding balance. I also requested a copy of their agreement stating they are allowed to do this. I never received a response or any response to any of my questions. Again, we are in no financial position at this time due to loss of unemployment to be slammed with extra fees. It is unfortunate that the timing on these payments made in full and my husband losing his job came at a worse time.</td>\n",
              "      <td>Credit card or prepaid card</td>\n",
              "      <td>CAPITAL ONE FINANCIAL CORPORATION</td>\n",
              "    </tr>\n",
              "    <tr>\n",
              "      <th>46281</th>\n",
              "      <td>On or about XX/XX/XXXX I opened a Citibank Basic Checking Account after seeing an offer described by Citibank that if I opened a Basic Checking Account, deposited at least {$5000.00} within 30 days of accounting opening, and held at least that amount in the account for 60 days that within 90 days after fulfilling the conditions of the agreement I would receive a {$200.00} checking account bonus. I soon deposited approximately {$5000.00} on XX/XX/XXXX into the account. On XX/XX/XXXX I received another email update from Citibank about the offer and thanking me for enrolling in the Citibank {$200.00} checking offer and repeating the terms of the agreement. \\n\\nOn or about XX/XX/XXXX I utilized the Citibank Mobile Application 's chat function to inquire as to when my bonus might be depositing, as it had been well over 60 days since when I opened the account and deposited the qualifying funds on XX/XX/XXXX. 60 days since my deposit would have been around early XX/XX/XXXX. The Mobile Application representative stated they could not resolve the issue and to call their One Stop Sales Unit, which I did on XX/XX/XXXX. The representative at the One Stop Sales Unit was confused and did not know how to search for the offer clearly, saying too that often the offers are for holding money in the account for 90 days or more, and provided essentially no clarity or guidance. \\n\\nI withdrew {$3000.00} of the {$5000.00} I had held in the account since XX/XX/XXXX on XX/XX/XXXX, my first withdrawl from the account. I am concerned as Citibank has been very unclear on when my deposit bonus will be depositing, as that is {$5000.00} I could be storing in other accounts that actually provided material interest income ( which are generally well over 1.7 % at the moment compared to Citibank Basic Checking 's essential zero interest ). Furthermore Citibank makes it extremely difficult to get any clear, definite answers on the matter as neither their chat representative nor their One Stop Sales Unit personnel have any meaningful knowledge on how to handle the matter.</td>\n",
              "      <td>Checking or savings account</td>\n",
              "      <td>CITIBANK, N.A.</td>\n",
              "    </tr>\n",
              "    <tr>\n",
              "      <th>45126</th>\n",
              "      <td>i did received a check XXXX on XX/XX/2017 at that time i was moving from XXXX to XXXX, the check was for a refund of over payment, and the check got lost. Later I close my account with XXXX balance. since then i try many time calling capital one, they put an hold and promise to re issue a new check, every time they wan na verified my address, &amp; i have to wait couples of weeks to received a new one and never received any new check.</td>\n",
              "      <td>Credit card or prepaid card</td>\n",
              "      <td>CAPITAL ONE FINANCIAL CORPORATION</td>\n",
              "    </tr>\n",
              "    <tr>\n",
              "      <th>54605</th>\n",
              "      <td>On XX/XX/2020, sometime before XXXX XXXX, XXXX XXXX called not only my employer, but the office of the Director at my place of employment for the city of   XXXX on behalf of Reliant Capital Solutions. She did not call with questions attempting to identify my location. This company is not the original debt owner. She identified her employer without being asked. My place of employment does not allow personal calls at work. It prohibits personal calls on work time. I was notified via an official email from my Director 's personal assistant. I do not wish the stress caused by this blatant invasion on privacy and violation of the FDCPA amongst other violations. If I lose my job, I will surely sue for lost wages.This account is not even reported on my credit report. I have not ever received any written documentation from this company prior to the escalation of calling the Top office for the company I work for. This is blatant harrassment! An official cease and desist letter has been sent.</td>\n",
              "      <td>Debt collection</td>\n",
              "      <td>Reliant Capital Solutions, LLC</td>\n",
              "    </tr>\n",
              "    <tr>\n",
              "      <th>17153</th>\n",
              "      <td>Hello, CFPB. I am submitting this complaint because I dont know what else to do. Well Fargo is not respecting my rights as a consumer. I tried to solve this issue with them but they did not respond my demand. \\n\\nAccounts : WF CRD SVC XXXX Date Opened XX/XX/XXXX Bal XXXX WF CRD SVC XXXX Date Opened XX/XX/XXXX Bal XXXX On XX/XX/XXXX, I sent them a dispute notice, which they ignored, and did not send any debt validation, as required by the Fair Credit Reporting Act. \\n\\nI am demanding Wells Fargo to remove the RELATED TO FRAUD items from my credit report. I wans a deletion letter for my records. I have been affected psychologically because of this situation.</td>\n",
              "      <td>Debt collection</td>\n",
              "      <td>WELLS FARGO &amp; COMPANY</td>\n",
              "    </tr>\n",
              "  </tbody>\n",
              "</table>\n",
              "</div>"
            ],
            "text/plain": [
              "                                                                                                                                                                                                                                                                                                                                                                                                                                                                                                                                                                                                                                                                                                                                                                                                                                                                                                                                                                                                                                                                                                                                                                                                                                                                                                                                                                                                                                                                                                                                                                                                                                                                                                                                                                                                                                                                                                                                                                                                                                                                                                                                                                                                                                                                                                                                                                 complaints  ...                            Company\n",
              "36524  On XX/XX/2020. Checks for the full amounts owed were sent to each of these accounts from XXXX to Capital One : Capital One ending in # XXXX {$3700.00} Capital One ending in # XXXX {$680.00} Capital One ending in # XXXX {$2600.00} Capital One ending in # XXXX {$2100.00} Capital One ending in # XXXX {$3400.00} Total payment on these accounts : {$12000.00}. \\nPrior to these payoff checks sent, I made my monthly payments due XX/XX/XXXX to avoid any late fees while these checks were received and processed by Capital One. \\nI later received statements showing I owed interest on each one after payment in full was received. After sending them a letter priority mail on XX/XX/2020, asking why I was paying interest on top of interest, I received a letter on XX/XX/2020 letting me know the accounts were closed per my request, which I had requested they close since I was paying in full BUT no answer to my question. I attempted to call several times prior to mailing this letter but had not success in getting anyone on the line after waiting over an hour. I went ahead and paid the interest on these accounts which added to {$280.00}, out of fear I may be hit with a late fee. I attempted to call again XX/XX/2020. After waiting over an hour for a rep on phone, I was told I had to pay the interest on interest and also a residual fee after for each one. ( how do you pay interest on interest? ) Residual fee? On accounts paid in full? They said, that was their policy. \\nShortly after making full payments on these accounts, On XX/XX/XXXX, my husband lost his job due to COVID and is currently unemployed. I have struggled to pay these additional fees that I find to be an illegal act by this credit card company. I was told if I did not pay the additional fees, a late fee will be added on top. I should not have to pay interest or residual fees on a payoff amount that had not outstanding balance. I also requested a copy of their agreement stating they are allowed to do this. I never received a response or any response to any of my questions. Again, we are in no financial position at this time due to loss of unemployment to be slammed with extra fees. It is unfortunate that the timing on these payments made in full and my husband losing his job came at a worse time.  ...  CAPITAL ONE FINANCIAL CORPORATION\n",
              "46281  On or about XX/XX/XXXX I opened a Citibank Basic Checking Account after seeing an offer described by Citibank that if I opened a Basic Checking Account, deposited at least {$5000.00} within 30 days of accounting opening, and held at least that amount in the account for 60 days that within 90 days after fulfilling the conditions of the agreement I would receive a {$200.00} checking account bonus. I soon deposited approximately {$5000.00} on XX/XX/XXXX into the account. On XX/XX/XXXX I received another email update from Citibank about the offer and thanking me for enrolling in the Citibank {$200.00} checking offer and repeating the terms of the agreement. \\n\\nOn or about XX/XX/XXXX I utilized the Citibank Mobile Application 's chat function to inquire as to when my bonus might be depositing, as it had been well over 60 days since when I opened the account and deposited the qualifying funds on XX/XX/XXXX. 60 days since my deposit would have been around early XX/XX/XXXX. The Mobile Application representative stated they could not resolve the issue and to call their One Stop Sales Unit, which I did on XX/XX/XXXX. The representative at the One Stop Sales Unit was confused and did not know how to search for the offer clearly, saying too that often the offers are for holding money in the account for 90 days or more, and provided essentially no clarity or guidance. \\n\\nI withdrew {$3000.00} of the {$5000.00} I had held in the account since XX/XX/XXXX on XX/XX/XXXX, my first withdrawl from the account. I am concerned as Citibank has been very unclear on when my deposit bonus will be depositing, as that is {$5000.00} I could be storing in other accounts that actually provided material interest income ( which are generally well over 1.7 % at the moment compared to Citibank Basic Checking 's essential zero interest ). Furthermore Citibank makes it extremely difficult to get any clear, definite answers on the matter as neither their chat representative nor their One Stop Sales Unit personnel have any meaningful knowledge on how to handle the matter.                                                                                                                                                                                                               ...  CITIBANK, N.A.                   \n",
              "45126  i did received a check XXXX on XX/XX/2017 at that time i was moving from XXXX to XXXX, the check was for a refund of over payment, and the check got lost. Later I close my account with XXXX balance. since then i try many time calling capital one, they put an hold and promise to re issue a new check, every time they wan na verified my address, & i have to wait couples of weeks to received a new one and never received any new check.                                                                                                                                                                                                                                                                                                                                                                                                                                                                                                                                                                                                                                                                                                                                                                                                                                                                                                                                                                                                                                                                                                                                                                                                                                                                                                                                                                                                                                                                                                                                                                                                                                                                                                                                                                                                                                                                                                                    ...  CAPITAL ONE FINANCIAL CORPORATION\n",
              "54605  On XX/XX/2020, sometime before XXXX XXXX, XXXX XXXX called not only my employer, but the office of the Director at my place of employment for the city of   XXXX on behalf of Reliant Capital Solutions. She did not call with questions attempting to identify my location. This company is not the original debt owner. She identified her employer without being asked. My place of employment does not allow personal calls at work. It prohibits personal calls on work time. I was notified via an official email from my Director 's personal assistant. I do not wish the stress caused by this blatant invasion on privacy and violation of the FDCPA amongst other violations. If I lose my job, I will surely sue for lost wages.This account is not even reported on my credit report. I have not ever received any written documentation from this company prior to the escalation of calling the Top office for the company I work for. This is blatant harrassment! An official cease and desist letter has been sent.                                                                                                                                                                                                                                                                                                                                                                                                                                                                                                                                                                                                                                                                                                                                                                                                                                                                                                                                                                                                                                                                                                                                                                                                                                                                                                                                 ...  Reliant Capital Solutions, LLC   \n",
              "17153  Hello, CFPB. I am submitting this complaint because I dont know what else to do. Well Fargo is not respecting my rights as a consumer. I tried to solve this issue with them but they did not respond my demand. \\n\\nAccounts : WF CRD SVC XXXX Date Opened XX/XX/XXXX Bal XXXX WF CRD SVC XXXX Date Opened XX/XX/XXXX Bal XXXX On XX/XX/XXXX, I sent them a dispute notice, which they ignored, and did not send any debt validation, as required by the Fair Credit Reporting Act. \\n\\nI am demanding Wells Fargo to remove the RELATED TO FRAUD items from my credit report. I wans a deletion letter for my records. I have been affected psychologically because of this situation.                                                                                                                                                                                                                                                                                                                                                                                                                                                                                                                                                                                                                                                                                                                                                                                                                                                                                                                                                                                                                                                                                                                                                                                                                                                                                                                                                                                                                                                                                                                                                                                                                                                                              ...  WELLS FARGO & COMPANY            \n",
              "\n",
              "[5 rows x 3 columns]"
            ]
          },
          "metadata": {
            "tags": []
          },
          "execution_count": 10
        }
      ]
    },
    {
      "cell_type": "markdown",
      "metadata": {
        "id": "GsU_kkbsg1wx"
      },
      "source": [
        "## Latent Drichlet Allocation (LDA)"
      ]
    },
    {
      "cell_type": "code",
      "metadata": {
        "id": "iZj8rFW8ssNl"
      },
      "source": [
        "stemmer = PorterStemmer()"
      ],
      "execution_count": null,
      "outputs": []
    },
    {
      "cell_type": "code",
      "metadata": {
        "id": "EMNPubytTUEs"
      },
      "source": [
        "def tokenize(text):\n",
        "  tokens = [word for word in nltk.word_tokenize(text) if(len(word) > 3 and len(word.strip('Xx/')) > 2)]\n",
        "  return tokens"
      ],
      "execution_count": null,
      "outputs": []
    },
    {
      "cell_type": "code",
      "metadata": {
        "id": "yoyv3HbdTUHX"
      },
      "source": [
        "vectorizer_df = TfidfVectorizer(tokenizer=tokenize,\n",
        "                                stop_words = 'english',\n",
        "                                max_df=0.75, min_df=50, max_features=10000,\n",
        "                                use_idf=False, norm=None)\n",
        "\n",
        "tf_vectors = vectorizer_df.fit_transform(x_train.complaints)"
      ],
      "execution_count": null,
      "outputs": []
    },
    {
      "cell_type": "code",
      "metadata": {
        "colab": {
          "base_uri": "https://localhost:8080/"
        },
        "id": "vE8esVtaTUKQ",
        "outputId": "8b48869c-b466-4962-a01f-c88ac58229e8"
      },
      "source": [
        "tf_vectors.A"
      ],
      "execution_count": null,
      "outputs": [
        {
          "output_type": "execute_result",
          "data": {
            "text/plain": [
              "array([[0., 0., 0., ..., 0., 0., 0.],\n",
              "       [0., 0., 0., ..., 0., 0., 1.],\n",
              "       [0., 0., 0., ..., 0., 0., 0.],\n",
              "       ...,\n",
              "       [0., 0., 0., ..., 0., 0., 0.],\n",
              "       [0., 0., 0., ..., 0., 0., 0.],\n",
              "       [0., 0., 0., ..., 0., 0., 0.]])"
            ]
          },
          "metadata": {
            "tags": []
          },
          "execution_count": 31
        }
      ]
    },
    {
      "cell_type": "code",
      "metadata": {
        "id": "SrBYIqcLTUNT"
      },
      "source": [
        "#vectorizer_df.get_feature_names()"
      ],
      "execution_count": null,
      "outputs": []
    },
    {
      "cell_type": "code",
      "metadata": {
        "id": "UIKvGJ_eTURs"
      },
      "source": [
        "# n_components: no. of topics\n",
        "# max_iter: more the iterations, better the performance\n",
        "\n",
        "\n",
        "lda = decomposition.LatentDirichletAllocation(n_components=6, max_iter=3, learning_method='online', learning_offset=50,n_jobs=1, random_state=111)\n",
        "W1 = lda.fit_transform(tf_vectors)\n",
        "H1 = lda.components_"
      ],
      "execution_count": null,
      "outputs": []
    },
    {
      "cell_type": "code",
      "metadata": {
        "colab": {
          "base_uri": "https://localhost:8080/"
        },
        "id": "mp0MZivjTUU_",
        "outputId": "e5af969e-ff31-4eee-c0c5-ae931ba6ed92"
      },
      "source": [
        "W1"
      ],
      "execution_count": null,
      "outputs": [
        {
          "output_type": "execute_result",
          "data": {
            "text/plain": [
              "array([[0.39738388, 0.00119779, 0.22199229, 0.25544898, 0.00119199,\n",
              "        0.12278506],\n",
              "       [0.00126202, 0.06441092, 0.60474967, 0.32704835, 0.00126163,\n",
              "        0.00126741],\n",
              "       [0.12856772, 0.00559638, 0.20017757, 0.65447287, 0.00557809,\n",
              "        0.00560737],\n",
              "       ...,\n",
              "       [0.09245675, 0.00304748, 0.17866742, 0.71969463, 0.00306321,\n",
              "        0.00307051],\n",
              "       [0.01686614, 0.01675331, 0.73817173, 0.19464288, 0.01681425,\n",
              "        0.01675169],\n",
              "       [0.19913084, 0.66215434, 0.00137137, 0.00137076, 0.13459089,\n",
              "        0.0013818 ]])"
            ]
          },
          "metadata": {
            "tags": []
          },
          "execution_count": 36
        }
      ]
    },
    {
      "cell_type": "code",
      "metadata": {
        "id": "WHUKLCxxTUXu"
      },
      "source": [
        "num_words=15\n",
        "vocab = np.array(vectorizer_df.get_feature_names())\n",
        "\n",
        "top_words = lambda t: [vocab[i] for i in np.argsort(t)[:-num_words-1:-1]]\n",
        "topic_words = ([top_words(t) for t in H1])\n",
        "topics = [' '.join(t) for t in topic_words]"
      ],
      "execution_count": null,
      "outputs": []
    },
    {
      "cell_type": "code",
      "metadata": {
        "colab": {
          "base_uri": "https://localhost:8080/"
        },
        "id": "CHVK5cl9TUav",
        "outputId": "9059396f-f7d7-4995-8808-b85fcc3fca37"
      },
      "source": [
        "topics"
      ],
      "execution_count": null,
      "outputs": [
        {
          "output_type": "execute_result",
          "data": {
            "text/plain": [
              "['payment paid account balance payments fees insurance late statement received month charged company make date',\n",
              " 'loan mortgage home received property letter sent documents company modification time process servicing closing request',\n",
              " 'card credit account charges dispute capital charge received citi bank closed fraud xx/xx/2019 report citibank',\n",
              " 'account bank told called said phone money number check asked received time chase funds email',\n",
              " 'debt credit collection report account company information reporting letter sent agency provide received original identity',\n",
              " 'payment payments credit time told years loan loans month make months help called late just']"
            ]
          },
          "metadata": {
            "tags": []
          },
          "execution_count": 38
        }
      ]
    },
    {
      "cell_type": "code",
      "metadata": {
        "id": "r594Q2OPXa5H"
      },
      "source": [
        "columns = [\"Topic\" + str(i) for i in range(lda.n_components)]\n",
        "docnames = [\"Doc\" + str(i) for i in range(len(x_train.complaints))]\n",
        "df_doc_topic = pd.DataFrame(np.round(W1,2), columns=columns, index=docnames)\n",
        "significant_topic = np.argmax(df_doc_topic.values, axis=1)\n",
        "df_doc_topic['dominant_topic'] = significant_topic"
      ],
      "execution_count": null,
      "outputs": []
    },
    {
      "cell_type": "code",
      "metadata": {
        "colab": {
          "base_uri": "https://localhost:8080/",
          "height": 419
        },
        "id": "Cq1cEH3CXa7b",
        "outputId": "f3917ef5-b4bd-4d1d-8941-8f99a6387ec2"
      },
      "source": [
        "df_doc_topic"
      ],
      "execution_count": null,
      "outputs": [
        {
          "output_type": "execute_result",
          "data": {
            "text/html": [
              "<div>\n",
              "<style scoped>\n",
              "    .dataframe tbody tr th:only-of-type {\n",
              "        vertical-align: middle;\n",
              "    }\n",
              "\n",
              "    .dataframe tbody tr th {\n",
              "        vertical-align: top;\n",
              "    }\n",
              "\n",
              "    .dataframe thead th {\n",
              "        text-align: right;\n",
              "    }\n",
              "</style>\n",
              "<table border=\"1\" class=\"dataframe\">\n",
              "  <thead>\n",
              "    <tr style=\"text-align: right;\">\n",
              "      <th></th>\n",
              "      <th>Topic0</th>\n",
              "      <th>Topic1</th>\n",
              "      <th>Topic2</th>\n",
              "      <th>Topic3</th>\n",
              "      <th>Topic4</th>\n",
              "      <th>Topic5</th>\n",
              "      <th>dominant_topic</th>\n",
              "    </tr>\n",
              "  </thead>\n",
              "  <tbody>\n",
              "    <tr>\n",
              "      <th>Doc0</th>\n",
              "      <td>0.40</td>\n",
              "      <td>0.00</td>\n",
              "      <td>0.22</td>\n",
              "      <td>0.26</td>\n",
              "      <td>0.00</td>\n",
              "      <td>0.12</td>\n",
              "      <td>0</td>\n",
              "    </tr>\n",
              "    <tr>\n",
              "      <th>Doc1</th>\n",
              "      <td>0.00</td>\n",
              "      <td>0.06</td>\n",
              "      <td>0.60</td>\n",
              "      <td>0.33</td>\n",
              "      <td>0.00</td>\n",
              "      <td>0.00</td>\n",
              "      <td>2</td>\n",
              "    </tr>\n",
              "    <tr>\n",
              "      <th>Doc2</th>\n",
              "      <td>0.13</td>\n",
              "      <td>0.01</td>\n",
              "      <td>0.20</td>\n",
              "      <td>0.65</td>\n",
              "      <td>0.01</td>\n",
              "      <td>0.01</td>\n",
              "      <td>3</td>\n",
              "    </tr>\n",
              "    <tr>\n",
              "      <th>Doc3</th>\n",
              "      <td>0.00</td>\n",
              "      <td>0.00</td>\n",
              "      <td>0.00</td>\n",
              "      <td>0.42</td>\n",
              "      <td>0.57</td>\n",
              "      <td>0.00</td>\n",
              "      <td>4</td>\n",
              "    </tr>\n",
              "    <tr>\n",
              "      <th>Doc4</th>\n",
              "      <td>0.00</td>\n",
              "      <td>0.00</td>\n",
              "      <td>0.00</td>\n",
              "      <td>0.19</td>\n",
              "      <td>0.79</td>\n",
              "      <td>0.00</td>\n",
              "      <td>4</td>\n",
              "    </tr>\n",
              "    <tr>\n",
              "      <th>...</th>\n",
              "      <td>...</td>\n",
              "      <td>...</td>\n",
              "      <td>...</td>\n",
              "      <td>...</td>\n",
              "      <td>...</td>\n",
              "      <td>...</td>\n",
              "      <td>...</td>\n",
              "    </tr>\n",
              "    <tr>\n",
              "      <th>Doc22976</th>\n",
              "      <td>0.00</td>\n",
              "      <td>0.00</td>\n",
              "      <td>0.71</td>\n",
              "      <td>0.15</td>\n",
              "      <td>0.00</td>\n",
              "      <td>0.13</td>\n",
              "      <td>2</td>\n",
              "    </tr>\n",
              "    <tr>\n",
              "      <th>Doc22977</th>\n",
              "      <td>0.00</td>\n",
              "      <td>0.06</td>\n",
              "      <td>0.17</td>\n",
              "      <td>0.29</td>\n",
              "      <td>0.17</td>\n",
              "      <td>0.31</td>\n",
              "      <td>5</td>\n",
              "    </tr>\n",
              "    <tr>\n",
              "      <th>Doc22978</th>\n",
              "      <td>0.09</td>\n",
              "      <td>0.00</td>\n",
              "      <td>0.18</td>\n",
              "      <td>0.72</td>\n",
              "      <td>0.00</td>\n",
              "      <td>0.00</td>\n",
              "      <td>3</td>\n",
              "    </tr>\n",
              "    <tr>\n",
              "      <th>Doc22979</th>\n",
              "      <td>0.02</td>\n",
              "      <td>0.02</td>\n",
              "      <td>0.74</td>\n",
              "      <td>0.19</td>\n",
              "      <td>0.02</td>\n",
              "      <td>0.02</td>\n",
              "      <td>2</td>\n",
              "    </tr>\n",
              "    <tr>\n",
              "      <th>Doc22980</th>\n",
              "      <td>0.20</td>\n",
              "      <td>0.66</td>\n",
              "      <td>0.00</td>\n",
              "      <td>0.00</td>\n",
              "      <td>0.13</td>\n",
              "      <td>0.00</td>\n",
              "      <td>1</td>\n",
              "    </tr>\n",
              "  </tbody>\n",
              "</table>\n",
              "<p>22981 rows × 7 columns</p>\n",
              "</div>"
            ],
            "text/plain": [
              "          Topic0  Topic1  Topic2  Topic3  Topic4  Topic5  dominant_topic\n",
              "Doc0      0.40    0.00    0.22    0.26    0.00    0.12    0             \n",
              "Doc1      0.00    0.06    0.60    0.33    0.00    0.00    2             \n",
              "Doc2      0.13    0.01    0.20    0.65    0.01    0.01    3             \n",
              "Doc3      0.00    0.00    0.00    0.42    0.57    0.00    4             \n",
              "Doc4      0.00    0.00    0.00    0.19    0.79    0.00    4             \n",
              "...        ...     ...     ...     ...     ...     ...   ..             \n",
              "Doc22976  0.00    0.00    0.71    0.15    0.00    0.13    2             \n",
              "Doc22977  0.00    0.06    0.17    0.29    0.17    0.31    5             \n",
              "Doc22978  0.09    0.00    0.18    0.72    0.00    0.00    3             \n",
              "Doc22979  0.02    0.02    0.74    0.19    0.02    0.02    2             \n",
              "Doc22980  0.20    0.66    0.00    0.00    0.13    0.00    1             \n",
              "\n",
              "[22981 rows x 7 columns]"
            ]
          },
          "metadata": {
            "tags": []
          },
          "execution_count": 43
        }
      ]
    },
    {
      "cell_type": "code",
      "metadata": {
        "id": "N8WJ2QYkXa9s"
      },
      "source": [
        "Whold = lda.transform(vectorizer_df.transform(x_hold.complaints[:5]))"
      ],
      "execution_count": null,
      "outputs": []
    },
    {
      "cell_type": "code",
      "metadata": {
        "id": "QB2Zp1zQXbAf"
      },
      "source": [
        "columns = [\"Topic\" + str(i) for i in range(lda.n_components)]\n",
        "docnames = [\"Doc\" + str(i) for i in range(len(x_hold.complaints[:5]))]\n",
        "df_doc_topic = pd.DataFrame(np.round(Whold,2), columns=columns, index=docnames)\n",
        "significant_topic = np.argmax(df_doc_topic.values, axis=1)\n",
        "df_doc_topic['dominant_topic'] = significant_topic"
      ],
      "execution_count": null,
      "outputs": []
    },
    {
      "cell_type": "code",
      "metadata": {
        "colab": {
          "base_uri": "https://localhost:8080/",
          "height": 204
        },
        "id": "nQxYNiGBXbDj",
        "outputId": "789ce3f6-0022-46e7-abdc-351ea715e337"
      },
      "source": [
        "df_doc_topic"
      ],
      "execution_count": null,
      "outputs": [
        {
          "output_type": "execute_result",
          "data": {
            "text/html": [
              "<div>\n",
              "<style scoped>\n",
              "    .dataframe tbody tr th:only-of-type {\n",
              "        vertical-align: middle;\n",
              "    }\n",
              "\n",
              "    .dataframe tbody tr th {\n",
              "        vertical-align: top;\n",
              "    }\n",
              "\n",
              "    .dataframe thead th {\n",
              "        text-align: right;\n",
              "    }\n",
              "</style>\n",
              "<table border=\"1\" class=\"dataframe\">\n",
              "  <thead>\n",
              "    <tr style=\"text-align: right;\">\n",
              "      <th></th>\n",
              "      <th>Topic0</th>\n",
              "      <th>Topic1</th>\n",
              "      <th>Topic2</th>\n",
              "      <th>Topic3</th>\n",
              "      <th>Topic4</th>\n",
              "      <th>Topic5</th>\n",
              "      <th>dominant_topic</th>\n",
              "    </tr>\n",
              "  </thead>\n",
              "  <tbody>\n",
              "    <tr>\n",
              "      <th>Doc0</th>\n",
              "      <td>0.12</td>\n",
              "      <td>0.00</td>\n",
              "      <td>0.07</td>\n",
              "      <td>0.80</td>\n",
              "      <td>0.00</td>\n",
              "      <td>0.00</td>\n",
              "      <td>3</td>\n",
              "    </tr>\n",
              "    <tr>\n",
              "      <th>Doc1</th>\n",
              "      <td>0.21</td>\n",
              "      <td>0.63</td>\n",
              "      <td>0.00</td>\n",
              "      <td>0.15</td>\n",
              "      <td>0.00</td>\n",
              "      <td>0.00</td>\n",
              "      <td>1</td>\n",
              "    </tr>\n",
              "    <tr>\n",
              "      <th>Doc2</th>\n",
              "      <td>0.21</td>\n",
              "      <td>0.01</td>\n",
              "      <td>0.42</td>\n",
              "      <td>0.36</td>\n",
              "      <td>0.01</td>\n",
              "      <td>0.01</td>\n",
              "      <td>2</td>\n",
              "    </tr>\n",
              "    <tr>\n",
              "      <th>Doc3</th>\n",
              "      <td>0.01</td>\n",
              "      <td>0.22</td>\n",
              "      <td>0.00</td>\n",
              "      <td>0.00</td>\n",
              "      <td>0.00</td>\n",
              "      <td>0.76</td>\n",
              "      <td>5</td>\n",
              "    </tr>\n",
              "    <tr>\n",
              "      <th>Doc4</th>\n",
              "      <td>0.30</td>\n",
              "      <td>0.00</td>\n",
              "      <td>0.19</td>\n",
              "      <td>0.11</td>\n",
              "      <td>0.00</td>\n",
              "      <td>0.39</td>\n",
              "      <td>5</td>\n",
              "    </tr>\n",
              "  </tbody>\n",
              "</table>\n",
              "</div>"
            ],
            "text/plain": [
              "      Topic0  Topic1  Topic2  Topic3  Topic4  Topic5  dominant_topic\n",
              "Doc0  0.12    0.00    0.07    0.80    0.00    0.00    3             \n",
              "Doc1  0.21    0.63    0.00    0.15    0.00    0.00    1             \n",
              "Doc2  0.21    0.01    0.42    0.36    0.01    0.01    2             \n",
              "Doc3  0.01    0.22    0.00    0.00    0.00    0.76    5             \n",
              "Doc4  0.30    0.00    0.19    0.11    0.00    0.39    5             "
            ]
          },
          "metadata": {
            "tags": []
          },
          "execution_count": 48
        }
      ]
    },
    {
      "cell_type": "markdown",
      "metadata": {
        "id": "EqbO7V5-hiR2"
      },
      "source": [
        "## Non-Negative Matrix Factorization\n",
        "\n",
        "Used when the topics are incoherent"
      ]
    },
    {
      "cell_type": "code",
      "metadata": {
        "id": "F8sHBgLxXbI7",
        "colab": {
          "base_uri": "https://localhost:8080/"
        },
        "outputId": "cb502d8a-e067-4570-f0dd-116b26d0f50d"
      },
      "source": [
        "#stemmer\n",
        "stemmer = nltk.stem.SnowballStemmer('english')\n",
        "nltk.download('stopwords')\n",
        "stop_words = set(nltk.corpus.stopwords.words('english'))"
      ],
      "execution_count": null,
      "outputs": [
        {
          "output_type": "stream",
          "text": [
            "[nltk_data] Downloading package stopwords to /root/nltk_data...\n",
            "[nltk_data]   Unzipping corpora/stopwords.zip.\n"
          ],
          "name": "stdout"
        }
      ]
    },
    {
      "cell_type": "code",
      "metadata": {
        "id": "x4XuJsMmhzTo"
      },
      "source": [
        "def tokenize(text):\n",
        "  tokens = [word for word in nltk.word_tokenize(text) if(len(word) > 3 and len(word.strip('Xx/')) > 2 and len(re.sub(\"\\d+\", '', word.strip('Xx/'))) > 3)]\n",
        "  tokens = map(str.lower, tokens)\n",
        "  stems = [stemmer.stem(item) for item in tokens if (item not in stop_words)]\n",
        "  return stems"
      ],
      "execution_count": null,
      "outputs": []
    },
    {
      "cell_type": "code",
      "metadata": {
        "id": "Rz-oN4sIhzWt"
      },
      "source": [
        "vectorizer_df = TfidfVectorizer(tokenizer=tokenize,\n",
        "                                stop_words = None,\n",
        "                                max_df=0.75, \n",
        "                                max_features=10000,\n",
        "                                lowercase=False,\n",
        "                                ngram_range=(1,2))\n",
        "\n",
        "tf_vectors = vectorizer_df.fit_transform(x_train.complaints)"
      ],
      "execution_count": null,
      "outputs": []
    },
    {
      "cell_type": "code",
      "metadata": {
        "colab": {
          "base_uri": "https://localhost:8080/"
        },
        "id": "JE5QwV1ChzZT",
        "outputId": "39fd89dc-7304-406a-923d-cc49a09f9b3b"
      },
      "source": [
        "tf_vectors.A"
      ],
      "execution_count": null,
      "outputs": [
        {
          "output_type": "execute_result",
          "data": {
            "text/plain": [
              "array([[0., 0., 0., ..., 0., 0., 0.],\n",
              "       [0., 0., 0., ..., 0., 0., 0.],\n",
              "       [0., 0., 0., ..., 0., 0., 0.],\n",
              "       ...,\n",
              "       [0., 0., 0., ..., 0., 0., 0.],\n",
              "       [0., 0., 0., ..., 0., 0., 0.],\n",
              "       [0., 0., 0., ..., 0., 0., 0.]])"
            ]
          },
          "metadata": {
            "tags": []
          },
          "execution_count": 19
        }
      ]
    },
    {
      "cell_type": "code",
      "metadata": {
        "id": "dRZ58X1mhzco"
      },
      "source": [
        "clf = decomposition.NMF(n_components=6, random_state=111)\n",
        "W1 = clf.fit_transform(tf_vectors)\n",
        "H1 = clf.components_\n"
      ],
      "execution_count": null,
      "outputs": []
    },
    {
      "cell_type": "code",
      "metadata": {
        "id": "qLaCriJrhzfQ"
      },
      "source": [
        "num_words=15\n",
        "vocab = np.array(vectorizer_df.get_feature_names())\n",
        "top_words = lambda t: [vocab[i] for i in np.argsort(t)[:-num_words-1:-1]]\n",
        "topic_words = ([top_words(t) for t in H1])\n",
        "topics = [' '.join(t) for t in topic_words]"
      ],
      "execution_count": null,
      "outputs": []
    },
    {
      "cell_type": "code",
      "metadata": {
        "colab": {
          "base_uri": "https://localhost:8080/"
        },
        "id": "HelN16QAhzhp",
        "outputId": "3d8cbacd-c501-4fc0-e254-f3ee39c65f6f"
      },
      "source": [
        "topics"
      ],
      "execution_count": null,
      "outputs": [
        {
          "output_type": "execute_result",
          "data": {
            "text/plain": [
              "['payment loan mortgag month call would time interest make servic late paid told compani home',\n",
              " 'debt collect report credit credit report compani valid agenc disput inform letter account remov provid request',\n",
              " 'card credit credit card charg purchas capit balanc disput citi fraud use interest transact merchant bill',\n",
              " 'ident theft theft ident victim ident pleas ident legal affidavit theft debt belong pleas affidavit attach report legal theft report victim debt belong affidavit belong',\n",
              " 'late serious report credit late payment day late tune date aforesaid item realli serious great tune obtain present recommend generat regul realli applic high generat verif',\n",
              " 'account bank check call deposit money close open fund told bank america america would check account chase']"
            ]
          },
          "metadata": {
            "tags": []
          },
          "execution_count": 23
        }
      ]
    },
    {
      "cell_type": "code",
      "metadata": {
        "id": "0X364whIhzkJ"
      },
      "source": [
        "columns = [\"Topic\" + str(i) for i in range(clf.n_components)]\n",
        "docnames = [\"Doc\" + str(i) for i in range(len(x_train.complaints))]\n",
        "df_doc_topic = pd.DataFrame(np.round(W1,2), columns=columns, index=docnames)\n",
        "significant_topic = np.argmax(df_doc_topic.values, axis=1)\n",
        "df_doc_topic['dominant_topic'] = significant_topic"
      ],
      "execution_count": null,
      "outputs": []
    },
    {
      "cell_type": "code",
      "metadata": {
        "id": "Zrg7uNuhhzmR"
      },
      "source": [
        "Whold = clf.transform(vectorizer_df.transform(x_hold.complaints[:5]))"
      ],
      "execution_count": null,
      "outputs": []
    },
    {
      "cell_type": "code",
      "metadata": {
        "id": "5l1C1rEWXbGV"
      },
      "source": [
        "columns = [\"Topic\" + str(i) for i in range(clf.n_components)]\n",
        "docnames = [\"Doc\" + str(i) for i in range(len(x_hold.complaints[:5]))]\n",
        "df_doc_topic = pd.DataFrame(np.round(Whold,2), columns=columns, index=docnames)\n",
        "significant_topic = np.argmax(df_doc_topic.values, axis=1)\n",
        "df_doc_topic['dominant_topic'] = significant_topic"
      ],
      "execution_count": null,
      "outputs": []
    },
    {
      "cell_type": "code",
      "metadata": {
        "colab": {
          "base_uri": "https://localhost:8080/",
          "height": 204
        },
        "id": "0THU3SeMk-ls",
        "outputId": "f4870bb3-1bf0-4ca3-9988-b332d6c1ea53"
      },
      "source": [
        "df_doc_topic"
      ],
      "execution_count": null,
      "outputs": [
        {
          "output_type": "execute_result",
          "data": {
            "text/html": [
              "<div>\n",
              "<style scoped>\n",
              "    .dataframe tbody tr th:only-of-type {\n",
              "        vertical-align: middle;\n",
              "    }\n",
              "\n",
              "    .dataframe tbody tr th {\n",
              "        vertical-align: top;\n",
              "    }\n",
              "\n",
              "    .dataframe thead th {\n",
              "        text-align: right;\n",
              "    }\n",
              "</style>\n",
              "<table border=\"1\" class=\"dataframe\">\n",
              "  <thead>\n",
              "    <tr style=\"text-align: right;\">\n",
              "      <th></th>\n",
              "      <th>Topic0</th>\n",
              "      <th>Topic1</th>\n",
              "      <th>Topic2</th>\n",
              "      <th>Topic3</th>\n",
              "      <th>Topic4</th>\n",
              "      <th>Topic5</th>\n",
              "      <th>dominant_topic</th>\n",
              "    </tr>\n",
              "  </thead>\n",
              "  <tbody>\n",
              "    <tr>\n",
              "      <th>Doc0</th>\n",
              "      <td>0.00</td>\n",
              "      <td>0.00</td>\n",
              "      <td>0.00</td>\n",
              "      <td>0.0</td>\n",
              "      <td>0.0</td>\n",
              "      <td>0.09</td>\n",
              "      <td>5</td>\n",
              "    </tr>\n",
              "    <tr>\n",
              "      <th>Doc1</th>\n",
              "      <td>0.03</td>\n",
              "      <td>0.01</td>\n",
              "      <td>0.00</td>\n",
              "      <td>0.0</td>\n",
              "      <td>0.0</td>\n",
              "      <td>0.01</td>\n",
              "      <td>0</td>\n",
              "    </tr>\n",
              "    <tr>\n",
              "      <th>Doc2</th>\n",
              "      <td>0.00</td>\n",
              "      <td>0.00</td>\n",
              "      <td>0.04</td>\n",
              "      <td>0.0</td>\n",
              "      <td>0.0</td>\n",
              "      <td>0.03</td>\n",
              "      <td>2</td>\n",
              "    </tr>\n",
              "    <tr>\n",
              "      <th>Doc3</th>\n",
              "      <td>0.06</td>\n",
              "      <td>0.00</td>\n",
              "      <td>0.00</td>\n",
              "      <td>0.0</td>\n",
              "      <td>0.0</td>\n",
              "      <td>0.00</td>\n",
              "      <td>0</td>\n",
              "    </tr>\n",
              "    <tr>\n",
              "      <th>Doc4</th>\n",
              "      <td>0.03</td>\n",
              "      <td>0.00</td>\n",
              "      <td>0.04</td>\n",
              "      <td>0.0</td>\n",
              "      <td>0.0</td>\n",
              "      <td>0.00</td>\n",
              "      <td>2</td>\n",
              "    </tr>\n",
              "  </tbody>\n",
              "</table>\n",
              "</div>"
            ],
            "text/plain": [
              "      Topic0  Topic1  Topic2  Topic3  Topic4  Topic5  dominant_topic\n",
              "Doc0  0.00    0.00    0.00    0.0     0.0     0.09    5             \n",
              "Doc1  0.03    0.01    0.00    0.0     0.0     0.01    0             \n",
              "Doc2  0.00    0.00    0.04    0.0     0.0     0.03    2             \n",
              "Doc3  0.06    0.00    0.00    0.0     0.0     0.00    0             \n",
              "Doc4  0.03    0.00    0.04    0.0     0.0     0.00    2             "
            ]
          },
          "metadata": {
            "tags": []
          },
          "execution_count": 29
        }
      ]
    },
    {
      "cell_type": "code",
      "metadata": {
        "id": "QbY1mbKNe5BF"
      },
      "source": [
        ""
      ],
      "execution_count": null,
      "outputs": []
    },
    {
      "cell_type": "markdown",
      "metadata": {
        "id": "kEU65Tdae5Y3"
      },
      "source": [
        "## Topic Modelling from Scratch using Spark ML"
      ]
    },
    {
      "cell_type": "code",
      "metadata": {
        "id": "MmTBLiRqfF7j"
      },
      "source": [
        "!apt-get install openjdk-11-jdk-headless -qq > /dev/null\n",
        "!wget -q https://downloads.apache.org/spark/spark-2.4.7/spark-2.4.7-bin-hadoop2.6.tgz \n",
        "!tar -xf spark-2.4.7-bin-hadoop2.6.tgz\n",
        "!pip install -q findspark"
      ],
      "execution_count": 4,
      "outputs": []
    },
    {
      "cell_type": "code",
      "metadata": {
        "colab": {
          "base_uri": "https://localhost:8080/"
        },
        "id": "6MS2qX3eUKbI",
        "outputId": "b0b7c9fc-a1a7-40ed-c8ce-a2058ad11c2c"
      },
      "source": [
        "!ls /usr/lib/jvm\n",
        "!pip install -U pyarrow"
      ],
      "execution_count": 5,
      "outputs": [
        {
          "output_type": "stream",
          "text": [
            "default-java  java-1.11.0-openjdk-amd64  java-11-openjdk-amd64\n",
            "Requirement already up-to-date: pyarrow in /usr/local/lib/python3.7/dist-packages (4.0.0)\n",
            "Requirement already satisfied, skipping upgrade: numpy>=1.16.6 in /usr/local/lib/python3.7/dist-packages (from pyarrow) (1.19.5)\n"
          ],
          "name": "stdout"
        }
      ]
    },
    {
      "cell_type": "code",
      "metadata": {
        "id": "4RNwkyIdUbY3"
      },
      "source": [
        "import os\n",
        "os.environ[\"JAVA_HOME\"] = \"/usr/lib/jvm/java-11-openjdk-amd64\"\n",
        "os.environ[\"SPARK_HOME\"] = \"/content/spark-2.4.7-bin-hadoop2.6\""
      ],
      "execution_count": 6,
      "outputs": []
    },
    {
      "cell_type": "code",
      "metadata": {
        "id": "sxE6yEc8UbcS"
      },
      "source": [
        "import findspark\n",
        "findspark.init()"
      ],
      "execution_count": 7,
      "outputs": []
    },
    {
      "cell_type": "code",
      "metadata": {
        "id": "37NdSDNaUbft"
      },
      "source": [
        "from pyspark.sql import SparkSession\n",
        "spark = SparkSession.builder.master(\"local[*]\").getOrCreate()\n",
        "spark.conf.set(\"spark.executor.memory\", \"4g\")\n",
        "spark.conf.set(\"spark.driver.memory\", \"4g\")\n",
        "spark.conf.set(\"spark.memory.fraction\", \"0.9\")"
      ],
      "execution_count": 9,
      "outputs": []
    },
    {
      "cell_type": "code",
      "metadata": {
        "id": "N5UGOGIJUk73"
      },
      "source": [
        "import sys, tempfile, urllib\n",
        "from pyspark.sql.functions import *\n",
        "import pandas as pd\n",
        "from pyspark.sql.functions import split\n",
        "from pyspark.sql.functions import monotonically_increasing_id"
      ],
      "execution_count": 12,
      "outputs": []
    },
    {
      "cell_type": "code",
      "metadata": {
        "colab": {
          "base_uri": "https://localhost:8080/"
        },
        "id": "PTDtKWToUlC9",
        "outputId": "8cc14826-5446-4310-d240-bf2159f96598"
      },
      "source": [
        "from nltk.stem import WordNetLemmatizer, PorterStemmer\n",
        "import nltk\n",
        "nltk.download('averaged_perceptron_tagger')\n",
        "nltk.download('wordnet')"
      ],
      "execution_count": 15,
      "outputs": [
        {
          "output_type": "stream",
          "text": [
            "[nltk_data] Downloading package averaged_perceptron_tagger to\n",
            "[nltk_data]     /root/nltk_data...\n",
            "[nltk_data]   Unzipping taggers/averaged_perceptron_tagger.zip.\n",
            "[nltk_data] Downloading package wordnet to /root/nltk_data...\n",
            "[nltk_data]   Unzipping corpora/wordnet.zip.\n"
          ],
          "name": "stdout"
        },
        {
          "output_type": "execute_result",
          "data": {
            "text/plain": [
              "True"
            ]
          },
          "metadata": {
            "tags": []
          },
          "execution_count": 15
        }
      ]
    },
    {
      "cell_type": "code",
      "metadata": {
        "id": "iaEnBNnNUk-d"
      },
      "source": [
        "df = pd.read_csv('https://github.com/srivatsan88/YouTubeLI/blob/master/dataset/consumer_compliants.zip?raw=true', compression='zip', sep=',', quotechar='\"')\n",
        "df = df.rename(columns={'Consumer complaint narrative': 'complaints'})\n",
        "sdf = spark.createDataFrame(df)"
      ],
      "execution_count": 16,
      "outputs": []
    },
    {
      "cell_type": "code",
      "metadata": {
        "colab": {
          "base_uri": "https://localhost:8080/"
        },
        "id": "yENkyIICUlAk",
        "outputId": "9bf06f7c-b775-4b2a-99ac-27ed5c29ac62"
      },
      "source": [
        "sdf.show(5)"
      ],
      "execution_count": 17,
      "outputs": [
        {
          "output_type": "stream",
          "text": [
            "+-------------+--------------------+----------------+--------------------+-----------------+--------------------+-----------------------+--------------------+-----+--------+----+--------------------------+-------------+--------------------+----------------------------+----------------+------------------+------------+\n",
            "|Date received|             Product|     Sub-product|               Issue|        Sub-issue|          complaints|Company public response|             Company|State|ZIP code|Tags|Consumer consent provided?|Submitted via|Date sent to company|Company response to consumer|Timely response?|Consumer disputed?|Complaint ID|\n",
            "+-------------+--------------------+----------------+--------------------+-----------------+--------------------+-----------------------+--------------------+-----+--------+----+--------------------------+-------------+--------------------+----------------------------+----------------+------------------+------------+\n",
            "|     4/3/2020|Vehicle loan or l...|            Loan|Getting a loan or...|  Fraudulent loan|This auto loan wa...|   Company has respo...|TRUIST FINANCIAL ...|   PA|    None|None|          Consent provided|          Web|            4/3/2020|        Closed with expla...|             Yes|               NaN|     3591341|\n",
            "|    3/12/2020|     Debt collection|Payday loan debt|Attempts to colle...|Debt is not yours|In XXXX of 2019 I...|                   None|CURO Intermediate...|   CO|   806XX|None|          Consent provided|          Web|           3/12/2020|        Closed with expla...|             Yes|               NaN|     3564184|\n",
            "|     2/6/2020|Vehicle loan or l...|            Loan|Getting a loan or...|    Credit denial|As stated from Ca...|                   None|CAPITAL ONE FINAN...|   OH|   430XX|None|          Consent provided|          Web|            2/6/2020|        Closed with expla...|             Yes|               NaN|     3521949|\n",
            "|     3/6/2020|Checking or savin...| Savings account| Managing an account|   Banking errors|Please see CFPB c...|                   None|CAPITAL ONE FINAN...|   CA|    None|None|          Consent provided|          Web|            3/6/2020|        Closed with expla...|             Yes|               NaN|     3556237|\n",
            "|    2/14/2020|     Debt collection|    Medical debt|Attempts to colle...|Debt is not yours|This debt was inc...|   Company believes ...|Merchants and Pro...|   OH|   432XX|None|          Consent provided|          Web|           2/14/2020|        Closed with expla...|             Yes|               NaN|     3531704|\n",
            "+-------------+--------------------+----------------+--------------------+-----------------+--------------------+-----------------------+--------------------+-----+--------+----+--------------------------+-------------+--------------------+----------------------------+----------------+------------------+------------+\n",
            "only showing top 5 rows\n",
            "\n"
          ],
          "name": "stdout"
        }
      ]
    },
    {
      "cell_type": "code",
      "metadata": {
        "id": "bdyquIJJUlFP"
      },
      "source": [
        "sdf = sdf.withColumn(\"text_sep\", split(sdf.complaints, \"\\n\\n\")).select(col(\"complaints\"))"
      ],
      "execution_count": null,
      "outputs": []
    }
  ]
}