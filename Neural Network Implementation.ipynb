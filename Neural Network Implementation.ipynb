{
 "cells": [
  {
   "cell_type": "code",
   "execution_count": 15,
   "metadata": {
    "collapsed": false
   },
   "outputs": [],
   "source": [
    "import tensorflow as tf\n",
    "import numpy as np\n",
    "from sklearn import datasets\n",
    "from sklearn.model_selection import train_test_split"
   ]
  },
  {
   "cell_type": "code",
   "execution_count": 16,
   "metadata": {
    "collapsed": true
   },
   "outputs": [],
   "source": [
    "RANDOM_SEED = 42\n",
    "tf.set_random_seed(RANDOM_SEED)"
   ]
  },
  {
   "cell_type": "code",
   "execution_count": 17,
   "metadata": {
    "collapsed": true
   },
   "outputs": [],
   "source": [
    "def get_iris_data():\n",
    "    \"\"\" Read the iris data set and split them into training and test sets \"\"\"\n",
    "    iris   = datasets.load_iris()\n",
    "    data   = iris[\"data\"]\n",
    "    target = iris[\"target\"]\n",
    "\n",
    "    # Prepend the column of 1s for bias\n",
    "    N, M  = data.shape\n",
    "    all_X = np.ones((N, M + 1))\n",
    "    all_X[:, 1:] = data\n",
    "\n",
    "    # Convert into one-hot vectors\n",
    "    num_labels = len(np.unique(target))\n",
    "    all_Y = np.eye(num_labels)[target]  # One liner trick!\n",
    "    return train_test_split(all_X, all_Y, test_size=0.33, random_state=RANDOM_SEED)\n"
   ]
  },
  {
   "cell_type": "code",
   "execution_count": 18,
   "metadata": {
    "collapsed": true
   },
   "outputs": [],
   "source": [
    "def init_weights(shape):\n",
    "    \"\"\" Weight initialization \"\"\"\n",
    "    weights = tf.random_normal(shape, stddev=0.1)\n",
    "    return tf.Variable(weights)"
   ]
  },
  {
   "cell_type": "code",
   "execution_count": 19,
   "metadata": {
    "collapsed": true
   },
   "outputs": [],
   "source": [
    "def forwardprop(X, w_1, w_2):\n",
    "    \"\"\"\n",
    "    Forward-propagation.\n",
    "    IMPORTANT: yhat is not softmax since TensorFlow's softmax_cross_entropy_with_logits() does that internally.\n",
    "    \"\"\"\n",
    "    h    = tf.nn.sigmoid(tf.matmul(X, w_1))  # The \\sigma function\n",
    "    yhat = tf.matmul(h, w_2)  # The \\varphi function\n",
    "    return yhat\n"
   ]
  },
  {
   "cell_type": "code",
   "execution_count": 24,
   "metadata": {
    "collapsed": false
   },
   "outputs": [
    {
     "name": "stdout",
     "output_type": "stream",
     "text": [
      "Epoch = 1, train accuracy = 41.00%, test accuracy = 38.00%\n",
      "Epoch = 2, train accuracy = 65.00%, test accuracy = 70.00%\n",
      "Epoch = 3, train accuracy = 65.00%, test accuracy = 70.00%\n",
      "Epoch = 4, train accuracy = 66.00%, test accuracy = 70.00%\n",
      "Epoch = 5, train accuracy = 70.00%, test accuracy = 70.00%\n",
      "Epoch = 6, train accuracy = 71.00%, test accuracy = 74.00%\n",
      "Epoch = 7, train accuracy = 72.00%, test accuracy = 78.00%\n",
      "Epoch = 8, train accuracy = 77.00%, test accuracy = 78.00%\n",
      "Epoch = 9, train accuracy = 81.00%, test accuracy = 78.00%\n",
      "Epoch = 10, train accuracy = 83.00%, test accuracy = 78.00%\n",
      "Epoch = 11, train accuracy = 83.00%, test accuracy = 78.00%\n",
      "Epoch = 12, train accuracy = 87.00%, test accuracy = 78.00%\n",
      "Epoch = 13, train accuracy = 87.00%, test accuracy = 78.00%\n",
      "Epoch = 14, train accuracy = 88.00%, test accuracy = 80.00%\n",
      "Epoch = 15, train accuracy = 88.00%, test accuracy = 82.00%\n",
      "Epoch = 16, train accuracy = 88.00%, test accuracy = 84.00%\n",
      "Epoch = 17, train accuracy = 88.00%, test accuracy = 84.00%\n",
      "Epoch = 18, train accuracy = 88.00%, test accuracy = 84.00%\n",
      "Epoch = 19, train accuracy = 89.00%, test accuracy = 86.00%\n",
      "Epoch = 20, train accuracy = 89.00%, test accuracy = 86.00%\n",
      "Epoch = 21, train accuracy = 89.00%, test accuracy = 86.00%\n",
      "Epoch = 22, train accuracy = 90.00%, test accuracy = 88.00%\n",
      "Epoch = 23, train accuracy = 90.00%, test accuracy = 92.00%\n",
      "Epoch = 24, train accuracy = 91.00%, test accuracy = 92.00%\n",
      "Epoch = 25, train accuracy = 91.00%, test accuracy = 92.00%\n",
      "Epoch = 26, train accuracy = 92.00%, test accuracy = 92.00%\n",
      "Epoch = 27, train accuracy = 92.00%, test accuracy = 92.00%\n",
      "Epoch = 28, train accuracy = 92.00%, test accuracy = 92.00%\n",
      "Epoch = 29, train accuracy = 92.00%, test accuracy = 92.00%\n",
      "Epoch = 30, train accuracy = 93.00%, test accuracy = 94.00%\n",
      "Epoch = 31, train accuracy = 93.00%, test accuracy = 94.00%\n",
      "Epoch = 32, train accuracy = 93.00%, test accuracy = 94.00%\n",
      "Epoch = 33, train accuracy = 93.00%, test accuracy = 94.00%\n",
      "Epoch = 34, train accuracy = 93.00%, test accuracy = 94.00%\n",
      "Epoch = 35, train accuracy = 94.00%, test accuracy = 94.00%\n",
      "Epoch = 36, train accuracy = 94.00%, test accuracy = 94.00%\n",
      "Epoch = 37, train accuracy = 94.00%, test accuracy = 94.00%\n",
      "Epoch = 38, train accuracy = 94.00%, test accuracy = 96.00%\n",
      "Epoch = 39, train accuracy = 94.00%, test accuracy = 98.00%\n",
      "Epoch = 40, train accuracy = 94.00%, test accuracy = 98.00%\n",
      "Epoch = 41, train accuracy = 95.00%, test accuracy = 98.00%\n",
      "Epoch = 42, train accuracy = 95.00%, test accuracy = 98.00%\n",
      "Epoch = 43, train accuracy = 95.00%, test accuracy = 98.00%\n",
      "Epoch = 44, train accuracy = 95.00%, test accuracy = 98.00%\n",
      "Epoch = 45, train accuracy = 95.00%, test accuracy = 98.00%\n",
      "Epoch = 46, train accuracy = 96.00%, test accuracy = 98.00%\n",
      "Epoch = 47, train accuracy = 96.00%, test accuracy = 98.00%\n",
      "Epoch = 48, train accuracy = 96.00%, test accuracy = 98.00%\n",
      "Epoch = 49, train accuracy = 96.00%, test accuracy = 98.00%\n",
      "Epoch = 50, train accuracy = 96.00%, test accuracy = 98.00%\n",
      "Epoch = 51, train accuracy = 96.00%, test accuracy = 98.00%\n",
      "Epoch = 52, train accuracy = 96.00%, test accuracy = 98.00%\n",
      "Epoch = 53, train accuracy = 96.00%, test accuracy = 98.00%\n",
      "Epoch = 54, train accuracy = 96.00%, test accuracy = 98.00%\n",
      "Epoch = 55, train accuracy = 96.00%, test accuracy = 98.00%\n",
      "Epoch = 56, train accuracy = 96.00%, test accuracy = 98.00%\n",
      "Epoch = 57, train accuracy = 96.00%, test accuracy = 98.00%\n",
      "Epoch = 58, train accuracy = 96.00%, test accuracy = 98.00%\n",
      "Epoch = 59, train accuracy = 96.00%, test accuracy = 98.00%\n",
      "Epoch = 60, train accuracy = 96.00%, test accuracy = 98.00%\n",
      "Epoch = 61, train accuracy = 96.00%, test accuracy = 98.00%\n",
      "Epoch = 62, train accuracy = 96.00%, test accuracy = 100.00%\n",
      "Epoch = 63, train accuracy = 96.00%, test accuracy = 100.00%\n",
      "Epoch = 64, train accuracy = 96.00%, test accuracy = 100.00%\n",
      "Epoch = 65, train accuracy = 96.00%, test accuracy = 100.00%\n",
      "Epoch = 66, train accuracy = 96.00%, test accuracy = 100.00%\n",
      "Epoch = 67, train accuracy = 96.00%, test accuracy = 100.00%\n",
      "Epoch = 68, train accuracy = 96.00%, test accuracy = 100.00%\n",
      "Epoch = 69, train accuracy = 96.00%, test accuracy = 100.00%\n",
      "Epoch = 70, train accuracy = 96.00%, test accuracy = 100.00%\n",
      "Epoch = 71, train accuracy = 96.00%, test accuracy = 100.00%\n",
      "Epoch = 72, train accuracy = 96.00%, test accuracy = 100.00%\n",
      "Epoch = 73, train accuracy = 96.00%, test accuracy = 100.00%\n",
      "Epoch = 74, train accuracy = 96.00%, test accuracy = 100.00%\n",
      "Epoch = 75, train accuracy = 96.00%, test accuracy = 100.00%\n",
      "Epoch = 76, train accuracy = 96.00%, test accuracy = 100.00%\n",
      "Epoch = 77, train accuracy = 96.00%, test accuracy = 100.00%\n",
      "Epoch = 78, train accuracy = 96.00%, test accuracy = 100.00%\n",
      "Epoch = 79, train accuracy = 96.00%, test accuracy = 100.00%\n",
      "Epoch = 80, train accuracy = 96.00%, test accuracy = 100.00%\n",
      "Epoch = 81, train accuracy = 96.00%, test accuracy = 100.00%\n",
      "Epoch = 82, train accuracy = 96.00%, test accuracy = 100.00%\n",
      "Epoch = 83, train accuracy = 96.00%, test accuracy = 100.00%\n",
      "Epoch = 84, train accuracy = 96.00%, test accuracy = 100.00%\n",
      "Epoch = 85, train accuracy = 96.00%, test accuracy = 100.00%\n",
      "Epoch = 86, train accuracy = 96.00%, test accuracy = 100.00%\n",
      "Epoch = 87, train accuracy = 96.00%, test accuracy = 100.00%\n",
      "Epoch = 88, train accuracy = 96.00%, test accuracy = 100.00%\n",
      "Epoch = 89, train accuracy = 96.00%, test accuracy = 100.00%\n",
      "Epoch = 90, train accuracy = 96.00%, test accuracy = 100.00%\n",
      "Epoch = 91, train accuracy = 96.00%, test accuracy = 100.00%\n",
      "Epoch = 92, train accuracy = 96.00%, test accuracy = 100.00%\n",
      "Epoch = 93, train accuracy = 96.00%, test accuracy = 100.00%\n",
      "Epoch = 94, train accuracy = 96.00%, test accuracy = 100.00%\n",
      "Epoch = 95, train accuracy = 96.00%, test accuracy = 100.00%\n",
      "Epoch = 96, train accuracy = 96.00%, test accuracy = 100.00%\n",
      "Epoch = 97, train accuracy = 96.00%, test accuracy = 100.00%\n",
      "Epoch = 98, train accuracy = 96.00%, test accuracy = 100.00%\n",
      "Epoch = 99, train accuracy = 96.00%, test accuracy = 100.00%\n",
      "Epoch = 100, train accuracy = 96.00%, test accuracy = 100.00%\n"
     ]
    }
   ],
   "source": [
    "def main():\n",
    "    train_X, test_X, train_y, test_y = get_iris_data()\n",
    "\n",
    "    # Layer's sizes\n",
    "    x_size = train_X.shape[1]   # Number of input nodes: 4 features and 1 bias\n",
    "    h_size = 256                # Number of hidden nodes\n",
    "    y_size = train_y.shape[1]   # Number of outcomes (3 iris flowers)\n",
    "\n",
    "    # Symbols\n",
    "    X = tf.placeholder(\"float\", shape=[None, x_size])\n",
    "    y = tf.placeholder(\"float\", shape=[None, y_size])\n",
    "\n",
    "    # Weight initializations\n",
    "    w_1 = init_weights((x_size, h_size))\n",
    "    w_2 = init_weights((h_size, y_size))\n",
    "\n",
    "    # Forward propagation\n",
    "    yhat    = forwardprop(X, w_1, w_2)\n",
    "    predict = tf.argmax(yhat, axis=1)\n",
    "\n",
    "    # Backward propagation\n",
    "    cost    = tf.reduce_mean(tf.nn.softmax_cross_entropy_with_logits(labels=y, logits=yhat))\n",
    "    updates = tf.train.GradientDescentOptimizer(0.01).minimize(cost)\n",
    "\n",
    "    # Run SGD\n",
    "    sess = tf.Session()\n",
    "    init = tf.global_variables_initializer()\n",
    "    sess.run(init)\n",
    "\n",
    "    for epoch in range(100):\n",
    "        # Train with each example\n",
    "        for i in range(len(train_X)):\n",
    "            sess.run(updates, feed_dict={X: train_X[i: i + 1], y: train_y[i: i + 1]})\n",
    "\n",
    "        train_accuracy = np.mean(np.argmax(train_y, axis=1) ==\n",
    "                                 sess.run(predict, feed_dict={X: train_X, y: train_y}))\n",
    "        test_accuracy  = np.mean(np.argmax(test_y, axis=1) ==\n",
    "                                 sess.run(predict, feed_dict={X: test_X, y: test_y}))\n",
    "\n",
    "        print(\"Epoch = %d, train accuracy = %.2f%%, test accuracy = %.2f%%\"\n",
    "              % (epoch + 1, 100. * train_accuracy, 100. * test_accuracy))\n",
    "\n",
    "    sess.close()\n",
    "\n",
    "if __name__ == '__main__':\n",
    "    main()"
   ]
  },
  {
   "cell_type": "code",
   "execution_count": null,
   "metadata": {
    "collapsed": true
   },
   "outputs": [],
   "source": []
  },
  {
   "cell_type": "code",
   "execution_count": null,
   "metadata": {
    "collapsed": true
   },
   "outputs": [],
   "source": []
  }
 ],
 "metadata": {
  "kernelspec": {
   "display_name": "Python 2",
   "language": "python",
   "name": "python2"
  },
  "language_info": {
   "codemirror_mode": {
    "name": "ipython",
    "version": 2
   },
   "file_extension": ".py",
   "mimetype": "text/x-python",
   "name": "python",
   "nbconvert_exporter": "python",
   "pygments_lexer": "ipython2",
   "version": "2.7.13"
  }
 },
 "nbformat": 4,
 "nbformat_minor": 2
}
