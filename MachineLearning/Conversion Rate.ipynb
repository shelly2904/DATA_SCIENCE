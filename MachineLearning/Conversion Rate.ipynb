{
 "cells": [
  {
   "cell_type": "code",
   "execution_count": 44,
   "metadata": {
    "collapsed": false
   },
   "outputs": [
    {
     "data": {
      "text/plain": [
       "'\\nThe goal of this challenge is to build a model that predicts conversion rate and, based on the\\nmodel, come up with ideas to improve revenue.\\n'"
      ]
     },
     "execution_count": 44,
     "metadata": {},
     "output_type": "execute_result"
    }
   ],
   "source": [
    "'''\n",
    "The goal of this challenge is to build a model that predicts conversion rate and, based on the\n",
    "model, come up with ideas to improve revenue.\n",
    "'''"
   ]
  },
  {
   "cell_type": "code",
   "execution_count": 45,
   "metadata": {
    "collapsed": false
   },
   "outputs": [],
   "source": [
    "import pandas as pd\n",
    "import numpy as np\n",
    "from sklearn import preprocessing\n",
    "from matplotlib import pyplot as plt\n",
    "import scipy.stats as stats\n",
    "import cPickle\n",
    "from sklearn.metrics import classification_report\n",
    "from sklearn.linear_model import LogisticRegression\n",
    "from sklearn.cross_validation import train_test_split\n",
    "from sklearn.metrics import accuracy_score"
   ]
  },
  {
   "cell_type": "code",
   "execution_count": 46,
   "metadata": {
    "collapsed": true
   },
   "outputs": [],
   "source": [
    "def save_classifier(filename, clf):\n",
    "    with open(filename, 'w') as fid:\n",
    "        cPickle.dump(clf, fid)\n",
    "    \n",
    "def load_classifier(filename):\n",
    "    with open(filename, 'r') as fid:\n",
    "        clf = cPickle.load(fid)\n",
    "    return clf "
   ]
  },
  {
   "cell_type": "code",
   "execution_count": 47,
   "metadata": {
    "collapsed": false
   },
   "outputs": [
    {
     "name": "stdout",
     "output_type": "stream",
     "text": [
      "Printing few lines of the data\n",
      "  country  age  new_user source  total_pages_visited  converted\n",
      "0      UK   25         1    Ads                    1          0\n",
      "1      US   23         1    Seo                    5          0\n",
      "2      US   28         1    Seo                    4          0\n",
      "3   China   39         1    Seo                    5          0\n",
      "4      US   30         1    Seo                    6          0\n",
      "\n",
      "the dimensions of the data\n",
      "(316200, 6)\n",
      "\n",
      "Summarizing the data\n",
      "                 age       new_user  total_pages_visited      converted\n",
      "count  316200.000000  316200.000000        316200.000000  316200.000000\n",
      "mean       30.569858       0.685465             4.872966       0.032258\n",
      "std         8.271802       0.464331             3.341104       0.176685\n",
      "min        17.000000       0.000000             1.000000       0.000000\n",
      "25%        24.000000       0.000000             2.000000       0.000000\n",
      "50%        30.000000       1.000000             4.000000       0.000000\n",
      "75%        36.000000       1.000000             7.000000       0.000000\n",
      "max       123.000000       1.000000            29.000000       1.000000\n",
      "\n",
      "Observations:\n",
      "1. No missing values found\n",
      "2. Seeing that new_user and converted are categorical\n",
      "US         178092\n",
      "China       76602\n",
      "UK          48450\n",
      "Germany     13056\n",
      "Name: country, dtype: int64\n",
      "1    216744\n",
      "0     99456\n",
      "Name: new_user, dtype: int64\n",
      "Seo       155040\n",
      "Ads        88740\n",
      "Direct     72420\n",
      "Name: source, dtype: int64\n",
      "0    306000\n",
      "1     10200\n",
      "Name: converted, dtype: int64\n"
     ]
    }
   ],
   "source": [
    "#Reading the data\n",
    "\n",
    "DATA_FILE = \"data/conversion_data.csv\"\n",
    "\n",
    "df = pd.read_csv(DATA_FILE)\n",
    "print \"Printing few lines of the data\"\n",
    "print df.head()\n",
    "print \n",
    "print \"the dimensions of the data\"\n",
    "print df.shape\n",
    "print\n",
    "print \"Summarizing the data\"\n",
    "print df.describe()\n",
    "\n",
    "print\n",
    "print \"Observations:\"\n",
    "print \"1. No missing values found\"\n",
    "print \"2. Seeing that new_user and converted are categorical\"\n",
    "\n",
    "#print country.classes_\n",
    "print df['country'].value_counts()\n",
    "#print new_user.classes_\n",
    "print df['new_user'].value_counts()\n",
    "#print source.classes_\n",
    "print df['source'].value_counts()\n",
    "#print converted.classes_\n",
    "print df['converted'].value_counts()"
   ]
  },
  {
   "cell_type": "code",
   "execution_count": 48,
   "metadata": {
    "collapsed": false
   },
   "outputs": [
    {
     "name": "stdout",
     "output_type": "stream",
     "text": [
      "the dimensions of the data\n",
      "(316198, 6)\n",
      "\n",
      "Summarizing the data\n",
      "                 age       new_user  total_pages_visited      converted\n",
      "count  316198.000000  316198.000000        316198.000000  316198.000000\n",
      "mean       30.569311       0.685469             4.872918       0.032252\n",
      "std         8.268958       0.464329             3.341053       0.176669\n",
      "min        17.000000       0.000000             1.000000       0.000000\n",
      "25%        24.000000       0.000000             2.000000       0.000000\n",
      "50%        30.000000       1.000000             4.000000       0.000000\n",
      "75%        36.000000       1.000000             7.000000       0.000000\n",
      "max        79.000000       1.000000            29.000000       1.000000\n",
      "country\n",
      "China       102\n",
      "Germany     815\n",
      "UK         2549\n",
      "US         6732\n",
      "Name: country, dtype: int64\n"
     ]
    },
    {
     "data": {
      "text/plain": [
       "\"\\n#scatter plot between converted and total_pages_visited\\nplt.plot(df['total_pages_visited'], df['converted'])\\nplt.savefig('Scatter plot between total pages and conversion rate')\\nplt.close()\\n\""
      ]
     },
     "execution_count": 48,
     "metadata": {},
     "output_type": "execute_result"
    }
   ],
   "source": [
    "#uniform distributed\n",
    "plt.plot(df['age'])\n",
    "plt.savefig('Distribution of age')\n",
    "plt.close()\n",
    "\n",
    "plt.plot(df['total_pages_visited'])\n",
    "plt.savefig('Distribution of total_pages_visited')\n",
    "plt.close()\n",
    "\n",
    "#outliers\n",
    "#print sorted(df['age'], reverse =True)\n",
    "df = df[df['age'] < 100]\n",
    "print \"the dimensions of the data\"\n",
    "print df.shape\n",
    "print\n",
    "print \"Summarizing the data\"\n",
    "print df.describe()\n",
    "\n",
    "\n",
    "#check country wise distribution given the conversion rate successful\n",
    "df2 = df[df['converted']==1]\n",
    "country  = df2.groupby('country')['country'].count()\n",
    "print country\n",
    "\n",
    "'''\n",
    "#scatter plot between converted and total_pages_visited\n",
    "plt.plot(df['total_pages_visited'], df['converted'])\n",
    "plt.savefig('Scatter plot between total pages and conversion rate')\n",
    "plt.close()\n",
    "'''"
   ]
  },
  {
   "cell_type": "code",
   "execution_count": 49,
   "metadata": {
    "collapsed": false
   },
   "outputs": [
    {
     "name": "stdout",
     "output_type": "stream",
     "text": [
      "\n",
      "Converting into categorical\n",
      "['China' 'Germany' 'UK' 'US']\n",
      "[0 1]\n",
      "Index([u'country', u'age', u'new_user', u'source', u'total_pages_visited',\n",
      "       u'converted'],\n",
      "      dtype='object')\n",
      "             precision    recall  f1-score   support\n",
      "\n",
      "          0       0.99      1.00      0.99     91804\n",
      "          1       0.86      0.66      0.75      3056\n",
      "\n",
      "avg / total       0.98      0.99      0.98     94860\n",
      "\n"
     ]
    }
   ],
   "source": [
    "print \n",
    "print \"Converting into categorical\"\n",
    "country = preprocessing.LabelEncoder()\n",
    "df['country']=country.fit(df['country']).transform(df['country'])\n",
    "print country.classes_\n",
    "new_user = preprocessing.LabelEncoder()\n",
    "df['new_user']=new_user.fit(df['new_user']).transform(df['new_user'])\n",
    "print new_user.classes_\n",
    "source = preprocessing.LabelEncoder()\n",
    "df['source']=source.fit(df['source']).transform(df['source'])\n",
    "converted = preprocessing.LabelEncoder()\n",
    "df['converted']=converted.fit(df['converted']).transform(df['converted'])\n",
    "\n",
    "\n",
    "print df.columns\n",
    "from sklearn.utils import shuffle\n",
    "df = shuffle(df)\n",
    "train, test = train_test_split(df, test_size=0.3)\n",
    "X_train, y_train = train.ix[:,:5], train['converted']\n",
    "X_test, y_test = test.ix[:,:5], test['converted']\n",
    "\n",
    "lreg_sci = LogisticRegression(penalty='l2')\n",
    "lreg_sci.fit(X_train, y_train)\n",
    "save_classifier('Classifier_logitReg.pkl', lreg_sci)\n",
    "pred = lreg_sci.predict(X_test)\n",
    "print classification_report(y_test, pred)"
   ]
  },
  {
   "cell_type": "code",
   "execution_count": null,
   "metadata": {
    "collapsed": true
   },
   "outputs": [],
   "source": []
  },
  {
   "cell_type": "code",
   "execution_count": null,
   "metadata": {
    "collapsed": true
   },
   "outputs": [],
   "source": []
  }
 ],
 "metadata": {
  "kernelspec": {
   "display_name": "Python 2",
   "language": "python",
   "name": "python2"
  },
  "language_info": {
   "codemirror_mode": {
    "name": "ipython",
    "version": 2
   },
   "file_extension": ".py",
   "mimetype": "text/x-python",
   "name": "python",
   "nbconvert_exporter": "python",
   "pygments_lexer": "ipython2",
   "version": "2.7.11"
  }
 },
 "nbformat": 4,
 "nbformat_minor": 0
}
